{
 "cells": [
  {
   "cell_type": "code",
   "execution_count": null,
   "id": "80dbcf0e",
   "metadata": {},
   "outputs": [],
   "source": [
    "num = 12\n",
    "\n",
    "for i in range(num):\n",
    "    print(i+1)"
   ]
  },
  {
   "cell_type": "code",
   "execution_count": null,
   "id": "89e92e94",
   "metadata": {},
   "outputs": [],
   "source": [
    "num = 12\n",
    "\n",
    "for i in range(num):\n",
    "    print(i)"
   ]
  },
  {
   "cell_type": "code",
   "execution_count": null,
   "id": "998b5cb1",
   "metadata": {},
   "outputs": [],
   "source": [
    "input_1 = input(\"Enter a String: \")\n",
    "\n",
    "l=0\n",
    "for i in input_1:\n",
    "    print(input_1[l])\n",
    "    l+=1"
   ]
  },
  {
   "cell_type": "code",
   "execution_count": null,
   "id": "e57060d7",
   "metadata": {},
   "outputs": [],
   "source": [
    "num = int(input(\"Enter a Number: \"))\n",
    "n = int(num/2)\n",
    "\n",
    "for i in range(n):\n",
    "    print(i+1)"
   ]
  },
  {
   "cell_type": "code",
   "execution_count": null,
   "id": "b0427709",
   "metadata": {},
   "outputs": [],
   "source": [
    "num = int(input(\"Enter a Number: \"))\n",
    "n = int(num/2)\n",
    "\n",
    "m = num%1\n",
    "print(m)\n",
    "p = num%num\n",
    "print(p)\n",
    "s = num%n\n",
    "print(s)"
   ]
  },
  {
   "cell_type": "code",
   "execution_count": null,
   "id": "1fb41965",
   "metadata": {},
   "outputs": [],
   "source": [
    "#How to tell factors of a number\n",
    "num = int(input(\"Enter a Number: \"))\n",
    "n = int(num/2)\n",
    "c=0\n",
    "for i in range(num):\n",
    "    if( num%(i+1)==0):\n",
    "        print(i+1)\n",
    "        c+=1"
   ]
  },
  {
   "cell_type": "code",
   "execution_count": null,
   "id": "94501f00",
   "metadata": {},
   "outputs": [],
   "source": [
    "p = str(\"1234\")\n",
    "print(p[0])\n",
    "print(p[:-1])"
   ]
  },
  {
   "cell_type": "code",
   "execution_count": null,
   "id": "0ba39328",
   "metadata": {},
   "outputs": [],
   "source": [
    "p = input(\"Enter any string: \")\n",
    "l = len(p)\n",
    "#print(l)\n",
    "n = int(l/2)\n",
    "m=0\n",
    "c=0\n",
    "for i in range(n):\n",
    "    if ( p[m]==p[l-1]):\n",
    "        m+=1\n",
    "        c+=1\n",
    "        l-=1"
   ]
  },
  {
   "cell_type": "code",
   "execution_count": null,
   "id": "2cec3817",
   "metadata": {},
   "outputs": [],
   "source": [
    "if (c==n):\n",
    "    print(\"Entered string is a Palindrom.\")\n",
    "else:\n",
    "    print(\"Entered string is Not a Palindrom.\")"
   ]
  },
  {
   "cell_type": "code",
   "execution_count": null,
   "id": "d75bd89c",
   "metadata": {},
   "outputs": [],
   "source": [
    "n = int(input(\"Enter any Number: \"))\n",
    "\n",
    "for i in range( i<n ):\n",
    "    print(i)"
   ]
  },
  {
   "cell_type": "code",
   "execution_count": null,
   "id": "d19d9c20",
   "metadata": {},
   "outputs": [],
   "source": [
    "list1=input(\"Enter a string: \")\n",
    "count=0\n",
    "count1=0\n",
    "l=-1\n",
    "for i in list1:\n",
    "    l+=1\n",
    "    if(list1[l]=='A'or list1[l]=='E'or list1[l]=='I' or list1[l]=='O'or list1[l]=='U'\n",
    "    or list1[l]=='a' or list1[l]=='e'or list1[l]=='i'or list1[l]=='o' or list1[l]=='u'):\n",
    "           count+=1\n",
    "    else:\n",
    "             count1+=1\n",
    "            \n",
    "print(\"No of vowels are: \",count)\n",
    "print(\"No of const are: \",count1)"
   ]
  },
  {
   "cell_type": "code",
   "execution_count": null,
   "id": "abba65db",
   "metadata": {},
   "outputs": [],
   "source": [
    "list1=input(\"Enter a string: \")\n",
    "count=0\n",
    "count1=0\n",
    "for i in list1:\n",
    "    print(list1)\n",
    "    if(list1=='A'or list1=='E'or list1=='I' or list1=='O'or list1=='U'or list1=='a' or list1=='e'or list1=='i'or list1=='o' or list1=='u'):\n",
    "           count+=1\n",
    "    else:\n",
    "             count1+=1\n",
    "            \n",
    "print(\"No of vowels are: \",count)\n",
    "print(\"No of const are: \",count1)"
   ]
  },
  {
   "cell_type": "code",
   "execution_count": null,
   "id": "295b7737",
   "metadata": {},
   "outputs": [],
   "source": [
    "list1=input(\"Enter a string: \")\n",
    "count=0\n",
    "count1=0\n",
    "for i in list1:\n",
    "    print(i)\n",
    "    if(list1=='A'or list1=='E'or list1=='I' or list1=='O'or list1=='U'\n",
    "    or list1=='a' or list1=='e'or list1=='i'or list1=='o' or list1=='u'):\n",
    "           count+=1\n",
    "    else:\n",
    "             count1+=1\n",
    "            \n",
    "print(\"No of vowels are: \",count)\n",
    "print(\"No of const are: \",count1)"
   ]
  },
  {
   "cell_type": "code",
   "execution_count": null,
   "id": "54d4e4b9",
   "metadata": {},
   "outputs": [],
   "source": [
    "list1=input(\"Enter a string: \")\n",
    "\n",
    "for i in list1:\n",
    "    print(i)"
   ]
  },
  {
   "cell_type": "code",
   "execution_count": 1,
   "id": "89c0eaf5",
   "metadata": {},
   "outputs": [
    {
     "name": "stdout",
     "output_type": "stream",
     "text": [
      "Enter Something: 1\n"
     ]
    },
    {
     "data": {
      "text/plain": [
       "str"
      ]
     },
     "execution_count": 1,
     "metadata": {},
     "output_type": "execute_result"
    }
   ],
   "source": [
    "n = input(\"Enter Something: \")\n",
    "type(n)"
   ]
  },
  {
   "cell_type": "code",
   "execution_count": 2,
   "id": "d843ea1c",
   "metadata": {},
   "outputs": [
    {
     "name": "stdout",
     "output_type": "stream",
     "text": [
      "Enter Something: w\n"
     ]
    },
    {
     "data": {
      "text/plain": [
       "str"
      ]
     },
     "execution_count": 2,
     "metadata": {},
     "output_type": "execute_result"
    }
   ],
   "source": [
    "n = input(\"Enter Something: \")\n",
    "type(n)"
   ]
  },
  {
   "cell_type": "code",
   "execution_count": 3,
   "id": "5b648ecb",
   "metadata": {},
   "outputs": [
    {
     "name": "stdout",
     "output_type": "stream",
     "text": [
      "Enter Something: 1\n"
     ]
    },
    {
     "data": {
      "text/plain": [
       "str"
      ]
     },
     "execution_count": 3,
     "metadata": {},
     "output_type": "execute_result"
    }
   ],
   "source": [
    "n = input(\"Enter Something: \")\n",
    "type(n)"
   ]
  },
  {
   "cell_type": "code",
   "execution_count": 4,
   "id": "bf2eabfc",
   "metadata": {},
   "outputs": [
    {
     "name": "stdout",
     "output_type": "stream",
     "text": [
      "Enter a Number: 1\n",
      "Enter Appropriate Number\n",
      "Enter a Number: 2\n",
      "Enter Appropriate Number\n",
      "Enter a Number: 0\n",
      "Enter Appropriate Number\n",
      "Enter a Number: 7\n",
      "Enter Appropriate Number\n",
      "Enter a Number: 6\n",
      "Enter Appropriate Number\n",
      "Enter a Number: 5\n",
      "Enter Appropriate Number\n",
      "Enter a Number: 5\n",
      "Enter Appropriate Number\n",
      "Enter a Number: 4\n",
      "Enter Appropriate Number\n",
      "Enter a Number: 3\n",
      "Enter Appropriate Number\n",
      "Enter a Number: \n"
     ]
    },
    {
     "ename": "ValueError",
     "evalue": "invalid literal for int() with base 10: ''",
     "output_type": "error",
     "traceback": [
      "\u001b[1;31m---------------------------------------------------------------------------\u001b[0m",
      "\u001b[1;31mValueError\u001b[0m                                Traceback (most recent call last)",
      "\u001b[1;32m~\\AppData\\Local\\Temp/ipykernel_2516/324914907.py\u001b[0m in \u001b[0;36m<module>\u001b[1;34m\u001b[0m\n\u001b[0;32m      1\u001b[0m \u001b[1;32mwhile\u001b[0m \u001b[1;32mTrue\u001b[0m\u001b[1;33m:\u001b[0m\u001b[1;33m\u001b[0m\u001b[1;33m\u001b[0m\u001b[0m\n\u001b[1;32m----> 2\u001b[1;33m     \u001b[0mn\u001b[0m \u001b[1;33m=\u001b[0m \u001b[0mint\u001b[0m\u001b[1;33m(\u001b[0m\u001b[0minput\u001b[0m\u001b[1;33m(\u001b[0m\u001b[1;34m\"Enter a Number: \"\u001b[0m\u001b[1;33m)\u001b[0m\u001b[1;33m)\u001b[0m\u001b[1;33m\u001b[0m\u001b[1;33m\u001b[0m\u001b[0m\n\u001b[0m\u001b[0;32m      3\u001b[0m     \u001b[1;31m#if ( n == \"done\" ):\u001b[0m\u001b[1;33m\u001b[0m\u001b[1;33m\u001b[0m\u001b[0m\n\u001b[0;32m      4\u001b[0m         \u001b[1;31m#break\u001b[0m\u001b[1;33m\u001b[0m\u001b[1;33m\u001b[0m\u001b[0m\n\u001b[0;32m      5\u001b[0m     \u001b[1;32mif\u001b[0m \u001b[1;33m(\u001b[0m \u001b[0mn\u001b[0m\u001b[1;33m!=\u001b[0m\u001b[1;34m'0'\u001b[0m \u001b[1;32mor\u001b[0m \u001b[0mn\u001b[0m\u001b[1;33m!=\u001b[0m\u001b[1;34m'1'\u001b[0m \u001b[1;33m)\u001b[0m\u001b[1;33m:\u001b[0m\u001b[1;33m\u001b[0m\u001b[1;33m\u001b[0m\u001b[0m\n",
      "\u001b[1;31mValueError\u001b[0m: invalid literal for int() with base 10: ''"
     ]
    }
   ],
   "source": [
    "while True:\n",
    "    n = int(input(\"Enter a Number: \"))\n",
    "    #if ( n == \"done\" ):\n",
    "        #break\n",
    "    if ( n!='0' or n!='1' ):\n",
    "        print(\"Enter Appropriate Number\")"
   ]
  },
  {
   "cell_type": "code",
   "execution_count": null,
   "id": "7348167b",
   "metadata": {},
   "outputs": [],
   "source": [
    "while True:\n",
    "    n = int(input(\"Enter a Number: \"))\n",
    "    #if ( n == \"done\" ):\n",
    "        #break\n",
    "    if ( n!=0 ):\n",
    "        print(\"Enter Appropriate Number\")"
   ]
  },
  {
   "cell_type": "code",
   "execution_count": null,
   "id": "09036d43",
   "metadata": {},
   "outputs": [],
   "source": [
    "while True:\n",
    "    n = int(input(\"Enter a Number: \"))\n",
    "    #if ( n == \"done\" ):\n",
    "        #break\n",
    "    if ( n!='0' ):\n",
    "        print(\"Enter Appropriate Number\")"
   ]
  },
  {
   "cell_type": "code",
   "execution_count": null,
   "id": "604a5f17",
   "metadata": {},
   "outputs": [
    {
     "name": "stdout",
     "output_type": "stream",
     "text": [
      "Enter a Number: 1\n",
      "Enter a Number: 2\n",
      "Enter a Number: 3\n",
      "Enter a Number: d\n",
      "Enter Appropriate Number\n",
      "Enter a Number: f\n",
      "Enter Appropriate Number\n",
      "Enter a Number: z\n",
      "Enter Appropriate Number\n",
      "Enter a Number: c\n",
      "Enter Appropriate Number\n",
      "Enter a Number: i\n",
      "Enter Appropriate Number\n",
      "Enter a Number: !\n",
      "Enter Appropriate Number\n"
     ]
    }
   ],
   "source": [
    "while True:\n",
    "    n = input(\"Enter a Number: \")\n",
    "    if ( n== \"done\"):\n",
    "        #continue\n",
    "        break\n",
    "    if ( n[0].isdigit() == False  ):\n",
    "        print(\"Enter Appropriate Number\")"
   ]
  },
  {
   "cell_type": "code",
   "execution_count": 1,
   "id": "3450842c",
   "metadata": {},
   "outputs": [
    {
     "name": "stdout",
     "output_type": "stream",
     "text": [
      "Enter a Number: 1\n",
      "Enter a Number: 2\n",
      "Enter a Number: 3\n",
      "Enter a Number: 4\n",
      "Enter a Number: 5\n",
      "Enter a Number: g\n",
      "Enter Appropriate Number.\n",
      "Enter a Number: done\n"
     ]
    }
   ],
   "source": [
    "c = 0\n",
    "s = 0\n",
    "while True:\n",
    "    n = input(\"Enter a Number: \")\n",
    "    if ( n == \"done\"):\n",
    "            break\n",
    "    if ( n[0].isdigit() == False  ):\n",
    "        print(\"Enter Appropriate Number.\")\n",
    "        continue\n",
    "    else:\n",
    "        c += 1\n",
    "        s += int(n)"
   ]
  },
  {
   "cell_type": "code",
   "execution_count": 2,
   "id": "3e4e825f",
   "metadata": {},
   "outputs": [
    {
     "name": "stdout",
     "output_type": "stream",
     "text": [
      "Sum of Entered Numbers is:  15\n",
      "Count of Entered Numbers is:  5\n",
      "Average of Entered Numbers is:  3.0\n"
     ]
    }
   ],
   "source": [
    "print(\"Sum of Entered Numbers is: \", s)\n",
    "print(\"Count of Entered Numbers is: \", c)\n",
    "\n",
    "avg = float(s/c)\n",
    "\n",
    "print(\"Average of Entered Numbers is: \", avg)"
   ]
  },
  {
   "cell_type": "code",
   "execution_count": 3,
   "id": "bbdcaf4e",
   "metadata": {},
   "outputs": [
    {
     "name": "stdout",
     "output_type": "stream",
     "text": [
      "Enter a Number: 1\n",
      "Number is Positive.\n",
      "Enter a Number: -4\n",
      "Number is Negative.\n",
      "Enter a Number: 0\n",
      "Number is Zero.\n",
      "Enter a Number: done\n"
     ]
    }
   ],
   "source": [
    "while True:\n",
    "    num = input(\"Enter a Number: \")\n",
    "    if ( num == \"done\"):\n",
    "            break\n",
    "    if( int(num)==0 ):\n",
    "        print(\"Number is Zero.\")\n",
    "    elif ( int(num)<0 ):\n",
    "        print(\"Number is Negative.\")\n",
    "    else:\n",
    "        print(\"Number is Positive.\")"
   ]
  },
  {
   "cell_type": "markdown",
   "id": "65d8cb20",
   "metadata": {},
   "source": [
    "# Q12"
   ]
  },
  {
   "cell_type": "code",
   "execution_count": null,
   "id": "53f44720",
   "metadata": {},
   "outputs": [],
   "source": [
    "n = int(input(\"Enter a Number: \"))\n",
    "\n",
    "l=0\n",
    "for i in range(n):\n",
    "    if ( i<2 ):\n",
    "        f = l\n",
    "        print(f)\n",
    "        l+=1\n",
    "    else:\n",
    "        f = (l-2) + (l-1)\n",
    "        print(f)\n",
    "        l+=1"
   ]
  },
  {
   "cell_type": "code",
   "execution_count": null,
   "id": "99cd106a",
   "metadata": {},
   "outputs": [],
   "source": [
    "import random\n",
    "# f=[]\n",
    "# for i in range(n):\n",
    "#     f.append(random.randint(0,n+1))\n",
    "\n",
    "# print(n)\n",
    "# print(len(f))\n",
    "# print(f)\n",
    "\n",
    "n = int(input(\"Enter a Number: \"))\n",
    "f = []\n",
    "for i in range(0,n):\n",
    "    if (i<2):\n",
    "        f.append(i)\n",
    "        print(f[i])\n",
    "    else:\n",
    "        f.append(f[i-2] + f[i-1])\n",
    "        print(f[i])\n",
    "\n",
    "print(f)"
   ]
  },
  {
   "cell_type": "code",
   "execution_count": 1,
   "id": "f6302364",
   "metadata": {},
   "outputs": [
    {
     "name": "stdout",
     "output_type": "stream",
     "text": [
      "\n",
      "\n",
      "Recursion Example Results\n",
      "1\n",
      "3\n",
      "6\n",
      "10\n",
      "15\n",
      "21\n"
     ]
    },
    {
     "data": {
      "text/plain": [
       "21"
      ]
     },
     "execution_count": 1,
     "metadata": {},
     "output_type": "execute_result"
    }
   ],
   "source": [
    "def tri_recursion(k):\n",
    "    if(k>0):\n",
    "        result = k+tri_recursion(k-1)\n",
    "        print(result)\n",
    "    else:\n",
    "        result = 0\n",
    "    return result\n",
    "\n",
    "print(\"\\n\\nRecursion Example Results\")\n",
    "tri_recursion(6)"
   ]
  },
  {
   "cell_type": "code",
   "execution_count": 12,
   "id": "0b623f52",
   "metadata": {},
   "outputs": [
    {
     "name": "stdout",
     "output_type": "stream",
     "text": [
      "Enter a Number: 6\n"
     ]
    },
    {
     "data": {
      "text/plain": [
       "720"
      ]
     },
     "execution_count": 12,
     "metadata": {},
     "output_type": "execute_result"
    }
   ],
   "source": [
    "def factorial(x):\n",
    "    if(x<1):\n",
    "        return 1\n",
    "    else:\n",
    "        return (x * factorial(x-1))\n",
    "num = int(input(\"Enter a Number: \"))        \n",
    "factorial(num)    "
   ]
  },
  {
   "cell_type": "code",
   "execution_count": null,
   "id": "8d91275e",
   "metadata": {},
   "outputs": [],
   "source": []
  }
 ],
 "metadata": {
  "kernelspec": {
   "display_name": "Python 3 (ipykernel)",
   "language": "python",
   "name": "python3"
  },
  "language_info": {
   "codemirror_mode": {
    "name": "ipython",
    "version": 3
   },
   "file_extension": ".py",
   "mimetype": "text/x-python",
   "name": "python",
   "nbconvert_exporter": "python",
   "pygments_lexer": "ipython3",
   "version": "3.9.7"
  }
 },
 "nbformat": 4,
 "nbformat_minor": 5
}
