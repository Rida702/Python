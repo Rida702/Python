{
 "cells": [
  {
   "cell_type": "code",
   "execution_count": 4,
   "id": "04d0125d",
   "metadata": {},
   "outputs": [
    {
     "name": "stdout",
     "output_type": "stream",
     "text": [
      "{1, 2, 3}\n",
      "<class 'set'>\n"
     ]
    }
   ],
   "source": [
    "s1 = {1,2,3}\n",
    "print(s1)\n",
    "print(type(s1))"
   ]
  },
  {
   "cell_type": "code",
   "execution_count": 5,
   "id": "40e9a77d",
   "metadata": {},
   "outputs": [
    {
     "data": {
      "text/plain": [
       "{1, 2, 3, 4, 5}"
      ]
     },
     "execution_count": 5,
     "metadata": {},
     "output_type": "execute_result"
    }
   ],
   "source": [
    "s1 = {1,2,3,4,5,2,3,2,3,4,5,3,1,1,2,3}\n",
    "s1"
   ]
  },
  {
   "cell_type": "code",
   "execution_count": 6,
   "id": "f18fa909",
   "metadata": {},
   "outputs": [
    {
     "data": {
      "text/plain": [
       "{1, 2, 3, 4, 5, 8}"
      ]
     },
     "execution_count": 6,
     "metadata": {},
     "output_type": "execute_result"
    }
   ],
   "source": [
    "s1.add(8)\n",
    "s1"
   ]
  },
  {
   "cell_type": "code",
   "execution_count": 8,
   "id": "9df7b16e",
   "metadata": {},
   "outputs": [
    {
     "name": "stdout",
     "output_type": "stream",
     "text": [
      "Intersection is:  {1, 2, 3, 4}\n",
      "Test Intersection is:  {1, 2, 3, 4}\n",
      "Union is:  {1, 2, 3, 4, 6}\n",
      "Test Intersection is:  {1, 2, 3, 4, 6}\n",
      "Difference is:  {6}\n"
     ]
    }
   ],
   "source": [
    "s_1 = { 1, 2, 3, 4, 6}\n",
    "s_2 = { 1, 2, 3, 4}\n",
    "intersection = s_1.intersection(s_2)\n",
    "print(\"Intersection is: \", intersection)\n",
    "print(\"Test Intersection is: \", s_1 & s_2)\n",
    "union = s_1.union(s_2)\n",
    "print(\"Union is: \", union)\n",
    "print(\"Test Intersection is: \", s_1 | s_2)\n",
    "diff = s_1.difference(s_2)\n",
    "print(\"Difference is: \", diff)"
   ]
  },
  {
   "cell_type": "code",
   "execution_count": null,
   "id": "79ed3537",
   "metadata": {},
   "outputs": [],
   "source": []
  }
 ],
 "metadata": {
  "kernelspec": {
   "display_name": "Python 3 (ipykernel)",
   "language": "python",
   "name": "python3"
  },
  "language_info": {
   "codemirror_mode": {
    "name": "ipython",
    "version": 3
   },
   "file_extension": ".py",
   "mimetype": "text/x-python",
   "name": "python",
   "nbconvert_exporter": "python",
   "pygments_lexer": "ipython3",
   "version": "3.9.7"
  }
 },
 "nbformat": 4,
 "nbformat_minor": 5
}
