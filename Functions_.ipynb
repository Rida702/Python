{
 "cells": [
  {
   "cell_type": "code",
   "execution_count": 1,
   "id": "445052fe",
   "metadata": {},
   "outputs": [
    {
     "name": "stdout",
     "output_type": "stream",
     "text": [
      "Enter a Number: 4\n"
     ]
    },
    {
     "data": {
      "text/plain": [
       "24"
      ]
     },
     "execution_count": 1,
     "metadata": {},
     "output_type": "execute_result"
    }
   ],
   "source": [
    "def factorial(x):\n",
    "    if(x<1):\n",
    "        return 1\n",
    "    else:\n",
    "        return (x * factorial(x-1))\n",
    "    \n",
    "num = int(input(\"Enter a Number: \"))        \n",
    "factorial(num)"
   ]
  },
  {
   "cell_type": "code",
   "execution_count": 5,
   "id": "a40eb6c9",
   "metadata": {},
   "outputs": [
    {
     "ename": "SyntaxError",
     "evalue": "invalid syntax (Temp/ipykernel_1484/1121722198.py, line 3)",
     "output_type": "error",
     "traceback": [
      "\u001b[1;36m  File \u001b[1;32m\"C:\\Users\\Almas\\AppData\\Local\\Temp/ipykernel_1484/1121722198.py\"\u001b[1;36m, line \u001b[1;32m3\u001b[0m\n\u001b[1;33m    for i in range str1:\u001b[0m\n\u001b[1;37m                   ^\u001b[0m\n\u001b[1;31mSyntaxError\u001b[0m\u001b[1;31m:\u001b[0m invalid syntax\n"
     ]
    }
   ],
   "source": [
    "str1 = \"This is a string\"\n",
    "a = \"\"\n",
    "for i in range str1:\n",
    "    if i == \" \":\n",
    "        a = \" \"\n",
    "print(str1[0])"
   ]
  },
  {
   "cell_type": "code",
   "execution_count": 7,
   "id": "3c8485e2",
   "metadata": {},
   "outputs": [
    {
     "name": "stdout",
     "output_type": "stream",
     "text": [
      "Enter a String:mynameis\n",
      "Enter another Sub-String:my\n"
     ]
    },
    {
     "data": {
      "text/plain": [
       "'Sub-string Found'"
      ]
     },
     "execution_count": 7,
     "metadata": {},
     "output_type": "execute_result"
    }
   ],
   "source": [
    "def isIn(my_str, my_sub):\n",
    "    for i in range(len(my_str)):\n",
    "        if ( my_str[ i ] == my_sub[ i ] ):\n",
    "            return (\"Sub-string Found\")\n",
    "        else:\n",
    "            return (\"Sub-String Not Found\")\n",
    "\n",
    "str1 = input(\"Enter a String:\")\n",
    "str2 = input(\"Enter another Sub-String:\")\n",
    "\n",
    "isIn(str1,str2)"
   ]
  },
  {
   "cell_type": "code",
   "execution_count": 24,
   "id": "da8b712b",
   "metadata": {},
   "outputs": [
    {
     "name": "stdout",
     "output_type": "stream",
     "text": [
      "Enter a String:my name is rida\n",
      "Enter another Sub-String:rida\n",
      "String:  m\n",
      "Sub-String:  r\n"
     ]
    },
    {
     "data": {
      "text/plain": [
       "'Sub-String Not Found'"
      ]
     },
     "execution_count": 24,
     "metadata": {},
     "output_type": "execute_result"
    }
   ],
   "source": [
    "def isIn(my_str,my_sub):\n",
    "    for i in range(len(my_str)):\n",
    "        print(\"String: \", my_str[i] )\n",
    "        print(\"Sub-String: \", my_sub[i] )\n",
    "        if ( my_str[i] == my_sub[i]):\n",
    "            return (\"Sub-string Found\")\n",
    "        else:\n",
    "            return (\"Sub-String Not Found\")\n",
    "\n",
    "str1 = input(\"Enter a String:\")\n",
    "str2 = input(\"Enter another Sub-String:\")\n",
    "\n",
    "isIn(str1,str2)"
   ]
  },
  {
   "cell_type": "code",
   "execution_count": 27,
   "id": "a776e722",
   "metadata": {},
   "outputs": [
    {
     "name": "stdout",
     "output_type": "stream",
     "text": [
      "myna\n"
     ]
    },
    {
     "data": {
      "text/plain": [
       "'Sub-String Not Found'"
      ]
     },
     "execution_count": 27,
     "metadata": {},
     "output_type": "execute_result"
    }
   ],
   "source": [
    "def isIn(my_str,my_sub):\n",
    "    for i in range(0,len(my_str)):\n",
    "        print(my_str[ i:(len(my_sub)+i)])\n",
    "        if ( my_str[ i:(len(my_sub)+i) ] == my_sub ):\n",
    "            return (\"Sub-string Found\")\n",
    "        else:\n",
    "            return (\"Sub-String Not Found\")\n",
    "\n",
    "isIn(\"mynameis\",\"name\")"
   ]
  },
  {
   "cell_type": "code",
   "execution_count": 20,
   "id": "161d81e9",
   "metadata": {},
   "outputs": [
    {
     "name": "stdout",
     "output_type": "stream",
     "text": [
      "11\n",
      "R\n",
      "i\n",
      "d\n",
      "a\n",
      "S\n",
      "h\n",
      "a\n",
      "b\n",
      "b\n",
      "i\n",
      "r\n"
     ]
    }
   ],
   "source": [
    "name = \"ridashabbir\"\n",
    "n1 = \"da\"\n",
    "print(len(name))\n",
    "\n",
    "for i in range(len(name)):\n",
    "    print(name[i:(len(n1)+i)] == n1 )\n",
    "\n",
    "#str1 = input(\"Enter a String:\")\n",
    "#str2 = input(\"Enter another Sub-String:\")"
   ]
  },
  {
   "cell_type": "code",
   "execution_count": 33,
   "id": "bd8f2c98",
   "metadata": {},
   "outputs": [
    {
     "name": "stdout",
     "output_type": "stream",
     "text": [
      "0\n",
      "Myn\n",
      "1\n",
      "yna\n",
      "2\n",
      "nam\n",
      "3\n",
      "ame\n",
      "4\n",
      "mei\n"
     ]
    },
    {
     "data": {
      "text/plain": [
       "True"
      ]
     },
     "execution_count": 33,
     "metadata": {},
     "output_type": "execute_result"
    }
   ],
   "source": [
    "def isIn( my_str, my_sub):\n",
    "    \"\"\"\n",
    "        This function checks the presence of passed subsrting in the passed string and returns a boolean.\n",
    "        args:\n",
    "            my_str: str\n",
    "            my_sub: str\n",
    "        return:\n",
    "            Boolean\n",
    "    \"\"\"\n",
    "    for i in range(len(my_str)):\n",
    "#         print(len(my_str))\n",
    "        print(i)\n",
    "        print(my_str[i:(len(my_sub)+i)])\n",
    "        \n",
    "        if( my_str[i:(len(my_sub)+i)] == my_sub ):\n",
    "             return True\n",
    "        else:\n",
    "            continue\n",
    "             \n",
    "\n",
    "isIn(\"Mynameis\",\"mei\")"
   ]
  },
  {
   "cell_type": "code",
   "execution_count": 6,
   "id": "13a0ee81",
   "metadata": {},
   "outputs": [
    {
     "name": "stdout",
     "output_type": "stream",
     "text": [
      "Myna\n",
      "ynam\n",
      "name\n",
      "amei\n",
      "meis\n",
      "eisR\n",
      "isRi\n",
      "sRid\n",
      "Rida\n",
      "ida\n",
      "da\n",
      "a\n"
     ]
    }
   ],
   "source": [
    "my_str = \"MynameisRida\"\n",
    "my_sub = \"name\"\n",
    "for i in range(len(my_str)):\n",
    "    print(my_str[i:(len(my_sub)+i)])"
   ]
  },
  {
   "cell_type": "code",
   "execution_count": 35,
   "id": "ad1f13c5",
   "metadata": {},
   "outputs": [],
   "source": [
    "file = open('data.txt', 'w')\n",
    "file.write('1 2 3 4\\n')\n",
    "file.write('2 3 4 5\\n')\n",
    "file.write('6 7 8 9\\n')\n",
    "file.write('10 11 12 13\\n')\n",
    "file.write('14 15 16 17\\n')\n",
    "\n",
    "file.close()"
   ]
  },
  {
   "cell_type": "code",
   "execution_count": null,
   "id": "48c6191d",
   "metadata": {},
   "outputs": [],
   "source": [
    "name = input(\"Enter your Name: \")\n",
    "dob = input(\"Enter Date of Birth: \")\n",
    "hobbies = input(\"Enter Hobbies: \")\n",
    "occupation = input(\"Enter Occupation: \")\n",
    "address = input(\"Enter Address: \")\n",
    "\n",
    "my_file = open ('myfile.txt', 'w')\n",
    "my_file.write('name')\n",
    "my_file.write('dob')\n",
    "my_file.write('hobbies')\n",
    "my_file.write('occupation')\n",
    "my_file.write('address')"
   ]
  },
  {
   "cell_type": "code",
   "execution_count": null,
   "id": "b7e36740",
   "metadata": {},
   "outputs": [],
   "source": []
  },
  {
   "cell_type": "code",
   "execution_count": null,
   "id": "cc1689da",
   "metadata": {},
   "outputs": [],
   "source": [
    "name = input(\"Enter your Name: \")\n",
    "dob = input(\"Enter Date of Birth: \")\n",
    "hobbies = input(\"Enter Hobbies: \")\n",
    "occupation = input(\"Enter Occupation: \")\n",
    "address = input(\"Enter Address: \")\n",
    "\n",
    "my_file = open ('myfile.txt', 'w')\n",
    "my_file.write(name)\n",
    "my_file.write(dob)\n",
    "my_file.write(hobbies)\n",
    "my_file.write(occupation)\n",
    "my_file.write(address)"
   ]
  },
  {
   "cell_type": "code",
   "execution_count": 36,
   "id": "7c03cb7e",
   "metadata": {},
   "outputs": [
    {
     "ename": "NameError",
     "evalue": "name 'name' is not defined",
     "output_type": "error",
     "traceback": [
      "\u001b[1;31m---------------------------------------------------------------------------\u001b[0m",
      "\u001b[1;31mNameError\u001b[0m                                 Traceback (most recent call last)",
      "\u001b[1;32m~\\AppData\\Local\\Temp/ipykernel_10700/1692060104.py\u001b[0m in \u001b[0;36m<module>\u001b[1;34m\u001b[0m\n\u001b[0;32m      1\u001b[0m \u001b[0mmy_file\u001b[0m \u001b[1;33m=\u001b[0m \u001b[0mopen\u001b[0m \u001b[1;33m(\u001b[0m\u001b[1;34m'myfile.txt'\u001b[0m\u001b[1;33m,\u001b[0m \u001b[1;34m'w'\u001b[0m\u001b[1;33m)\u001b[0m\u001b[1;33m\u001b[0m\u001b[1;33m\u001b[0m\u001b[0m\n\u001b[1;32m----> 2\u001b[1;33m \u001b[0mmy_file\u001b[0m\u001b[1;33m.\u001b[0m\u001b[0mwrite\u001b[0m\u001b[1;33m(\u001b[0m\u001b[0mname\u001b[0m\u001b[1;33m)\u001b[0m\u001b[1;33m\u001b[0m\u001b[1;33m\u001b[0m\u001b[0m\n\u001b[0m\u001b[0;32m      3\u001b[0m \u001b[0mmy_file\u001b[0m\u001b[1;33m.\u001b[0m\u001b[0mwrite\u001b[0m\u001b[1;33m(\u001b[0m\u001b[0mdob\u001b[0m\u001b[1;33m)\u001b[0m\u001b[1;33m\u001b[0m\u001b[1;33m\u001b[0m\u001b[0m\n\u001b[0;32m      4\u001b[0m \u001b[0mmy_file\u001b[0m\u001b[1;33m.\u001b[0m\u001b[0mwrite\u001b[0m\u001b[1;33m(\u001b[0m\u001b[0mhobbies\u001b[0m\u001b[1;33m)\u001b[0m\u001b[1;33m\u001b[0m\u001b[1;33m\u001b[0m\u001b[0m\n\u001b[0;32m      5\u001b[0m \u001b[0mmy_file\u001b[0m\u001b[1;33m.\u001b[0m\u001b[0mwrite\u001b[0m\u001b[1;33m(\u001b[0m\u001b[0moccupation\u001b[0m\u001b[1;33m)\u001b[0m\u001b[1;33m\u001b[0m\u001b[1;33m\u001b[0m\u001b[0m\n",
      "\u001b[1;31mNameError\u001b[0m: name 'name' is not defined"
     ]
    }
   ],
   "source": [
    "my_file = open ('myfile.txt', 'w')\n",
    "my_file.write(input(\"Enter your Name: \"))\n",
    "my_file.write(dob)\n",
    "my_file.write(hobbies)\n",
    "my_file.write(occupation)\n",
    "my_file.write(address)"
   ]
  },
  {
   "cell_type": "markdown",
   "id": "dd5a187c",
   "metadata": {},
   "source": []
  }
 ],
 "metadata": {
  "kernelspec": {
   "display_name": "Python 3 (ipykernel)",
   "language": "python",
   "name": "python3"
  },
  "language_info": {
   "codemirror_mode": {
    "name": "ipython",
    "version": 3
   },
   "file_extension": ".py",
   "mimetype": "text/x-python",
   "name": "python",
   "nbconvert_exporter": "python",
   "pygments_lexer": "ipython3",
   "version": "3.9.7"
  }
 },
 "nbformat": 4,
 "nbformat_minor": 5
}
