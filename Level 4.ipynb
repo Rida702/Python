{
 "cells": [
  {
   "cell_type": "markdown",
   "id": "b0ed97a9",
   "metadata": {},
   "source": [
    "# Activity 1"
   ]
  },
  {
   "cell_type": "markdown",
   "id": "bc9d0dc3",
   "metadata": {},
   "source": [
    "# class_1"
   ]
  },
  {
   "cell_type": "code",
   "execution_count": 2,
   "id": "04597837",
   "metadata": {},
   "outputs": [
    {
     "name": "stdout",
     "output_type": "stream",
     "text": [
      "Enter 1st side: 4\n",
      "Enter 2nd side: 5\n",
      "Enter 3rd side: 3\n",
      "Side 1 is:  4\n",
      "Side 2 is:  5\n",
      "Side 3 is:  3\n",
      "Area is:  6.0\n",
      "Perimeter is:  12\n",
      "The Given triangle is an scalene triangle.\n"
     ]
    }
   ],
   "source": []
  },
  {
   "cell_type": "markdown",
   "id": "caf26920",
   "metadata": {},
   "source": [
    "# class_2"
   ]
  },
  {
   "cell_type": "code",
   "execution_count": 4,
   "id": "fee30a9b",
   "metadata": {},
   "outputs": [
    {
     "name": "stdout",
     "output_type": "stream",
     "text": [
      "Enter Your Roll No: 5\n",
      "Enter Your Semester No: 6\n",
      "Enter Your CGPA: 2.1\n",
      "Roll No is:  2\n",
      "Semester No is:  1\n",
      "Cgpa is:  0\n",
      "Your CGPA is too low. You gotta improve your performance.\n"
     ]
    }
   ],
   "source": []
  },
  {
   "cell_type": "markdown",
   "id": "6dca00fb",
   "metadata": {},
   "source": [
    "# class_3"
   ]
  },
  {
   "cell_type": "code",
   "execution_count": null,
   "id": "62286b6e",
   "metadata": {},
   "outputs": [],
   "source": []
  },
  {
   "cell_type": "markdown",
   "id": "ca06151c",
   "metadata": {},
   "source": [
    "# class_4"
   ]
  },
  {
   "cell_type": "code",
   "execution_count": 1,
   "id": "dbd0ab4e",
   "metadata": {},
   "outputs": [
    {
     "name": "stdout",
     "output_type": "stream",
     "text": [
      "Enter size: 6\n",
      "Enter operator: #\n",
      "# \n",
      "# # \n",
      "# # # \n",
      "# # # # \n",
      "# # # # # \n",
      "# # # # # # \n",
      "Enter size: 4\n",
      "Enter operator: &\n",
      "& \n",
      "& & & \n",
      "& & & & & \n",
      "& & & & & & & \n",
      "Enter size: 7\n",
      "Enter operator: ^\n",
      "^ \n",
      "^ ^ \n",
      "^ ^ ^ \n",
      "^ ^ ^ ^ \n",
      "^ ^ ^ ^ ^ \n",
      "^ ^ ^ ^ ^ ^ \n",
      "^ ^ ^ ^ ^ ^ ^ \n",
      "^ ^ ^ ^ ^ ^ ^ \n",
      "^ ^ ^ ^ ^ ^ \n",
      "^ ^ ^ ^ ^ \n",
      "^ ^ ^ ^ \n",
      "^ ^ ^ \n",
      "^ ^ \n",
      "^ \n"
     ]
    }
   ],
   "source": [
    "class Pyramid:\n",
    "    def __init__(self):\n",
    "        pass\n",
    "    def show_(self,n,op):\n",
    "        for i in range(n):\n",
    "            for j in range(i+1):\n",
    "                print(op, end = \" \")  \n",
    "            print(\"\\r\")\n",
    "            \n",
    "    def show_odd(self,n,op):\n",
    "        c = -1\n",
    "        for i in range(n):\n",
    "            c+=1\n",
    "            for j in range(i+c+1):\n",
    "                print(op,end = \" \") \n",
    "            print(\"\\r\")\n",
    "            \n",
    "    def show_1(self,n,op):  \n",
    "        for i in range(n):\n",
    "            for j in range(i+1):\n",
    "                print(op, end = \" \")  \n",
    "            print(\"\\r\")\n",
    "        for i in range(n):\n",
    "            for j in range(n-i):\n",
    "                print(op, end = \" \")  \n",
    "            print(\"\\r\")\n",
    "    \n",
    "p = Pyramid()\n",
    "n = int(input(\"Enter size: \")) \n",
    "o = input(\"Enter operator: \")\n",
    "p.show_(n,o)\n",
    "n = int(input(\"Enter size: \"))\n",
    "o = input(\"Enter operator: \")\n",
    "p.show_odd(n,o)\n",
    "n = int(input(\"Enter size: \"))\n",
    "o = input(\"Enter operator: \")\n",
    "p.show_1(n,o)"
   ]
  },
  {
   "cell_type": "markdown",
   "id": "ca587795",
   "metadata": {},
   "source": [
    "# class_5"
   ]
  },
  {
   "cell_type": "code",
   "execution_count": null,
   "id": "2f6a39f9",
   "metadata": {},
   "outputs": [],
   "source": []
  }
 ],
 "metadata": {
  "kernelspec": {
   "display_name": "Python 3 (ipykernel)",
   "language": "python",
   "name": "python3"
  },
  "language_info": {
   "codemirror_mode": {
    "name": "ipython",
    "version": 3
   },
   "file_extension": ".py",
   "mimetype": "text/x-python",
   "name": "python",
   "nbconvert_exporter": "python",
   "pygments_lexer": "ipython3",
   "version": "3.9.7"
  }
 },
 "nbformat": 4,
 "nbformat_minor": 5
}
