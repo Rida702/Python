{
 "cells": [
  {
   "cell_type": "markdown",
   "id": "8adcc76b",
   "metadata": {},
   "source": [
    "# Q1"
   ]
  },
  {
   "cell_type": "code",
   "execution_count": 1,
   "id": "c07320a6",
   "metadata": {},
   "outputs": [
    {
     "name": "stdout",
     "output_type": "stream",
     "text": [
      "[1, 2, 3, 4, 5, 6, 7, 8, 9, 10]\n",
      "Length of list is  10\n",
      "Sum of list is:  55\n",
      "Average of list is:  5.5\n"
     ]
    }
   ],
   "source": [
    "def avg(list_):\n",
    "    \"\"\"\n",
    "    This Function returns the average of a given list of integers.\n",
    "    args:\n",
    "        lisy_: list\n",
    "        \n",
    "        return:\n",
    "            average\n",
    "    \"\"\"\n",
    "    l = len(list_)\n",
    "    for i in range(l):\n",
    "        s = sum(list_)\n",
    "        avg = float(s/l)\n",
    "        return avg\n",
    "\n",
    "list1 = [1,2,3,4,5,6,7,8,9,10]\n",
    "print(list1)\n",
    "print(\"Length of list is \",len(list1))\n",
    "print(\"Sum of list is: \", sum(list1))\n",
    "print(\"Average of list is: \", avg(list1))"
   ]
  },
  {
   "cell_type": "markdown",
   "id": "d4cb8152",
   "metadata": {},
   "source": [
    "# Q2"
   ]
  },
  {
   "cell_type": "code",
   "execution_count": 2,
   "id": "5fdff77c",
   "metadata": {},
   "outputs": [
    {
     "data": {
      "text/plain": [
       "True"
      ]
     },
     "execution_count": 2,
     "metadata": {},
     "output_type": "execute_result"
    }
   ],
   "source": [
    "def isIn( my_str, my_sub):\n",
    "    \"\"\"\n",
    "        This function checks the presence of passed subsrting in the passed string and returns a boolean.\n",
    "        args:\n",
    "            my_str: str\n",
    "            my_sub: str\n",
    "        return:\n",
    "            Boolean\n",
    "    \"\"\"\n",
    "    for i in range(len(my_str)):\n",
    "        if( my_str[i:(len(my_sub)+i)] == my_sub ):\n",
    "             return True\n",
    "        else:\n",
    "            continue\n",
    "             \n",
    "\n",
    "isIn(\"Mynameis\",\"mei\")"
   ]
  },
  {
   "cell_type": "markdown",
   "id": "a7afa9d3",
   "metadata": {},
   "source": [
    "# Q3 "
   ]
  },
  {
   "cell_type": "code",
   "execution_count": 3,
   "id": "957dd540",
   "metadata": {},
   "outputs": [
    {
     "name": "stdout",
     "output_type": "stream",
     "text": [
      "Value of A is:  20\n",
      "Value of B is:  10\n"
     ]
    }
   ],
   "source": [
    "def key_words(A,B):\n",
    "    print(\"Value of A is: \", A)\n",
    "    print(\"Value of B is: \", B)\n",
    "    \n",
    "key_words(B=10,A=20)"
   ]
  },
  {
   "cell_type": "markdown",
   "id": "f0f71e05",
   "metadata": {},
   "source": [
    "# Q4 "
   ]
  },
  {
   "cell_type": "code",
   "execution_count": 4,
   "id": "ba27d24f",
   "metadata": {},
   "outputs": [
    {
     "name": "stdout",
     "output_type": "stream",
     "text": [
      "Enter a Number: 67\n",
      "Number is Not Even.\n",
      "Number is Odd.\n"
     ]
    }
   ],
   "source": [
    "def even_fun(x):\n",
    "    if(x%2==0):\n",
    "        print(\"Number is Even.\")\n",
    "    else:\n",
    "        print(\"Number is Not Even.\")\n",
    "        \n",
    "def odd_fun(x):\n",
    "    if(x%2==0):\n",
    "        print(\"Number is Not Odd.\")\n",
    "    else:\n",
    "        print(\"Number is Odd.\")\n",
    "        \n",
    "def nested_fun(y):\n",
    "    even_fun(y)\n",
    "    odd_fun(y)\n",
    "        \n",
    "n = int(input(\"Enter a Number: \"))\n",
    "nested_fun(n)"
   ]
  },
  {
   "cell_type": "markdown",
   "id": "f989feaa",
   "metadata": {},
   "source": [
    "# Q5"
   ]
  },
  {
   "cell_type": "code",
   "execution_count": 5,
   "id": "469ce67d",
   "metadata": {},
   "outputs": [
    {
     "name": "stdout",
     "output_type": "stream",
     "text": [
      "Enter 'r' for data reterieval, 'e' for entry and 'q' for quit: q\n"
     ]
    },
    {
     "ename": "NameError",
     "evalue": "name 'my_file' is not defined",
     "output_type": "error",
     "traceback": [
      "\u001b[1;31m---------------------------------------------------------------------------\u001b[0m",
      "\u001b[1;31mNameError\u001b[0m                                 Traceback (most recent call last)",
      "\u001b[1;32mC:\\Users\\ABUMUS~1\\AppData\\Local\\Temp/ipykernel_6996/523580641.py\u001b[0m in \u001b[0;36m<module>\u001b[1;34m\u001b[0m\n\u001b[0;32m     35\u001b[0m         \u001b[0mprint\u001b[0m\u001b[1;33m(\u001b[0m\u001b[1;34m\"Enter Valid Input.\"\u001b[0m\u001b[1;33m)\u001b[0m\u001b[1;33m\u001b[0m\u001b[1;33m\u001b[0m\u001b[0m\n\u001b[0;32m     36\u001b[0m \u001b[1;33m\u001b[0m\u001b[0m\n\u001b[1;32m---> 37\u001b[1;33m \u001b[0mmy_file\u001b[0m\u001b[1;33m.\u001b[0m\u001b[0mclose\u001b[0m\u001b[1;33m(\u001b[0m\u001b[1;33m)\u001b[0m\u001b[1;33m\u001b[0m\u001b[1;33m\u001b[0m\u001b[0m\n\u001b[0m",
      "\u001b[1;31mNameError\u001b[0m: name 'my_file' is not defined"
     ]
    }
   ],
   "source": [
    "while True:\n",
    "    choice = input(\"Enter 'r' for data reterieval, 'e' for entry and 'q' for quit: \")\n",
    "    if( choice == 'e' ):\n",
    "        name = input(\"Enter your name: \")\n",
    "        dob = input(\"Enter your Date of Birth: \")\n",
    "        hobbies = input(\"Enter your Hobbies: \")\n",
    "        occupation = input(\"Enter your Occupation: \")\n",
    "        address = input(\"Enter your Residential Address: \")\n",
    "\n",
    "        my_file = open(\"bio11.txt\", 'a')\n",
    "        my_file.write(name + \"\\n\")\n",
    "        my_file.write(dob + \"\\n\")\n",
    "        my_file.write(hobbies + \"\\n\")\n",
    "        my_file.write(occupation + \"\\n\")\n",
    "        my_file.write(address + \"\\n\") \n",
    "        \n",
    "        bio = { name: {'Date_of_Birth' : dob, 'Hobbies': hobbies,'Occupation' : occupation, 'Address' : address}}\n",
    "        \n",
    "    elif ( choice == 'r' ):\n",
    "        my_file = open(\"bio11.txt\", 'r')\n",
    "        info = []\n",
    "        for line in my_file.readline():\n",
    "            line = eval(line)\n",
    "            info.append(line)\n",
    "            \n",
    "        name_ = input(\"Enter name: \")\n",
    "        for name in info:\n",
    "            if name_ in bio.keys():\n",
    "                print(bio[name_])\n",
    "                break\n",
    "                \n",
    "    elif ( choice == 'q'):\n",
    "        break\n",
    "    else:\n",
    "        print(\"Enter Valid Input.\")\n",
    "            \n",
    "my_file.close() "
   ]
  },
  {
   "cell_type": "markdown",
   "id": "97e63849",
   "metadata": {},
   "source": [
    "# Q6"
   ]
  },
  {
   "cell_type": "code",
   "execution_count": 1,
   "id": "ebf9db22",
   "metadata": {},
   "outputs": [
    {
     "name": "stdout",
     "output_type": "stream",
     "text": [
      "15\n",
      "In :: Occured  1 Times.\n",
      "January :: Occured  1 Times.\n",
      "2021, :: Occured  1 Times.\n",
      "Musk :: Occured  1 Times.\n",
      "reportedly :: Occured  1 Times.\n",
      "surpassed :: Occured  1 Times.\n",
      "Jeff :: Occured  1 Times.\n",
      "Bezos :: Occured  1 Times.\n",
      "as :: Occured  1 Times.\n",
      "the :: Occured  1 Times.\n",
      "the :: Occured  2 Times.\n",
      "wealthiest :: Occured  1 Times.\n",
      "man :: Occured  1 Times.\n",
      "in :: Occured  1 Times.\n",
      "the :: Occured  1 Times.\n",
      "the :: Occured  2 Times.\n",
      "world. :: Occured  1 Times.\n"
     ]
    }
   ],
   "source": [
    "with open('ques_6.txt', \"r\") as my_file:\n",
    "    data = [\"\"]\n",
    "    for word in my_file:\n",
    "        data.append(word)\n",
    "        \n",
    "    for word in data:\n",
    "        data = word.split(\" \")\n",
    "    print(len(data))  \n",
    "    for i in range(len(data)):  \n",
    "        count = 0;  \n",
    "        for j in  range(len(data)):\n",
    "            if(data[i] == (data[j])):  \n",
    "                count = count + 1;\n",
    "                print(data[i], \":: Occured \", count, \"Times.\")\n",
    "my_file.close()"
   ]
  },
  {
   "cell_type": "markdown",
   "id": "305b5b47",
   "metadata": {},
   "source": [
    "# Q7"
   ]
  },
  {
   "cell_type": "code",
   "execution_count": 6,
   "id": "e156e059",
   "metadata": {},
   "outputs": [
    {
     "name": "stdout",
     "output_type": "stream",
     "text": [
      "Line No  1 : NASA's Performance and Accountability Report (PAR), is a detailed,\n",
      "\n",
      "Line No  2 : annual retrospective of the Agency's performance\n",
      "\n",
      "Line No  3 : toward achieving its annual goals and long-term objectives \n",
      "\n",
      "Line No  4 : for its programs, management, and budget.\n",
      "\n",
      "Line No  5 : The Office of the Chief Financial Officer produces\n",
      "\n",
      "Line No  6 : the PAR in collaboration with program and support offices throughout NASA.\n",
      "\n",
      "Line No  7 : While the PAR was created to meet government reporting requirements \n",
      "\n",
      "Line No  8 : (including the Government Performance and Results Act, the Chief Financial Officers Act of 1990,\n",
      "\n",
      "Line No  9 : and the Federal Financial Management Improvement Act of 1996), it is also a showcase for \n",
      "\n",
      "Line No  10 : NASA's achievements and is written as a public outreach document\n"
     ]
    }
   ],
   "source": [
    "with open('file_3.txt', \"r\") as file:\n",
    "            i=1\n",
    "            data = []\n",
    "            for line in file.readlines():\n",
    "                print(\"Line No \", i ,\":\" , line)\n",
    "                i+=1\n",
    "                data.append(line)"
   ]
  },
  {
   "cell_type": "markdown",
   "id": "3e5f04f2",
   "metadata": {},
   "source": [
    "# Q8"
   ]
  },
  {
   "cell_type": "markdown",
   "id": "9dd1998e",
   "metadata": {},
   "source": [
    "# Part a"
   ]
  },
  {
   "cell_type": "code",
   "execution_count": 8,
   "id": "cc2a165f",
   "metadata": {},
   "outputs": [
    {
     "name": "stdout",
     "output_type": "stream",
     "text": [
      "Enter 1st number: u\n",
      "invalid literal for int() with base 10: 'u'\n"
     ]
    }
   ],
   "source": [
    "def sum_(a,b):\n",
    "    return a+b\n",
    "\n",
    "try:\n",
    "    a = int(input(\"Enter 1st number: \"))\n",
    "    b = int(input(\"Enter 2nd number: \"))\n",
    "    print(\"Sum is\" , sum_(a,b))\n",
    "    \n",
    "except Exception as x:\n",
    "    print(x)"
   ]
  },
  {
   "cell_type": "code",
   "execution_count": 9,
   "id": "f2acf30b",
   "metadata": {},
   "outputs": [
    {
     "name": "stdout",
     "output_type": "stream",
     "text": [
      "Enter 1st number: u\n",
      "Invalid Value as Input\n"
     ]
    }
   ],
   "source": [
    "def sum_(a,b):\n",
    "    return a+b\n",
    "\n",
    "try:\n",
    "    a = int(input(\"Enter 1st number: \"))\n",
    "    b = int(input(\"Enter 2nd number: \"))\n",
    "    print(\"Sum is\" , sum_(a,b))\n",
    "    \n",
    "except:\n",
    "    print(\"Invalid Value as Input\")"
   ]
  },
  {
   "cell_type": "markdown",
   "id": "08ca1cdd",
   "metadata": {},
   "source": [
    "# Part b"
   ]
  },
  {
   "cell_type": "code",
   "execution_count": 10,
   "id": "588e68fb",
   "metadata": {},
   "outputs": [
    {
     "name": "stdout",
     "output_type": "stream",
     "text": [
      "Enter an Index: 8\n",
      "Index Out Of Range.\n"
     ]
    }
   ],
   "source": [
    "def return_value(index, list1):\n",
    "      print(list1[index])\n",
    "        \n",
    "list_ = [ 1,2,3,4,5,6 ]\n",
    "\n",
    "try:\n",
    "    index_ = int(input(\"Enter an Index: \"))\n",
    "    return_value( index_, list_ )\n",
    "    print(\"Index in Range.\")\n",
    "except:\n",
    "    print(\"Index Out Of Range.\")  "
   ]
  },
  {
   "cell_type": "markdown",
   "id": "c002ae5a",
   "metadata": {},
   "source": [
    "# Part c"
   ]
  },
  {
   "cell_type": "code",
   "execution_count": 12,
   "id": "68b995f5",
   "metadata": {},
   "outputs": [
    {
     "name": "stdout",
     "output_type": "stream",
     "text": [
      "Enter 1 or 2: 2\n",
      "Name Error, 'num' is not defined\n"
     ]
    }
   ],
   "source": [
    "num1 = 5\n",
    "num2 = 6\n",
    "\n",
    "try:\n",
    "    choice = int(input(\"Enter 1 or 2: \"))\n",
    "    if choice == 1:\n",
    "        sum1 = num1 + num2\n",
    "        print(sum1)\n",
    "    else:\n",
    "        sum2 = num + num2\n",
    "        print(sum2)\n",
    "except:\n",
    "    print(\"Name Error, 'num' is not defined\")"
   ]
  }
 ],
 "metadata": {
  "kernelspec": {
   "display_name": "Python 3 (ipykernel)",
   "language": "python",
   "name": "python3"
  },
  "language_info": {
   "codemirror_mode": {
    "name": "ipython",
    "version": 3
   },
   "file_extension": ".py",
   "mimetype": "text/x-python",
   "name": "python",
   "nbconvert_exporter": "python",
   "pygments_lexer": "ipython3",
   "version": "3.9.7"
  }
 },
 "nbformat": 4,
 "nbformat_minor": 5
}
