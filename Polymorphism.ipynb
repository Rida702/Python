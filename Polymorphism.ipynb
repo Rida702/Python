{
 "cells": [
  {
   "cell_type": "markdown",
   "id": "378206b6",
   "metadata": {},
   "source": [
    "# POLYMORPHISM"
   ]
  },
  {
   "cell_type": "markdown",
   "id": "1b050d07",
   "metadata": {},
   "source": [
    "# Polymorphism with Function and Objects"
   ]
  },
  {
   "cell_type": "code",
   "execution_count": 7,
   "id": "134baa07",
   "metadata": {},
   "outputs": [
    {
     "name": "stdout",
     "output_type": "stream",
     "text": [
      "Vegetable\n",
      "Red\n",
      "Fruit\n",
      "Red\n"
     ]
    }
   ],
   "source": [
    "class Tomato(): \n",
    "    def type(self): \n",
    "        print(\"Vegetable\") \n",
    "    def color(self):\n",
    "        print(\"Red\") \n",
    "class Apple(): \n",
    "    \n",
    "    def type(self): \n",
    "        print(\"Fruit\") \n",
    "\n",
    "    def color(self): \n",
    "        print(\"Red\") \n",
    "\n",
    "def func(obj): \n",
    "    obj.type() \n",
    "    obj.color()\n",
    "        \n",
    "obj_tomato = Tomato() \n",
    "obj_apple = Apple() \n",
    "func(obj_tomato) \n",
    "func(obj_apple)"
   ]
  },
  {
   "cell_type": "markdown",
   "id": "5733bfd7",
   "metadata": {},
   "source": [
    "# Polymorphism with Class Methods"
   ]
  },
  {
   "cell_type": "code",
   "execution_count": 8,
   "id": "9375255c",
   "metadata": {},
   "outputs": [
    {
     "name": "stdout",
     "output_type": "stream",
     "text": [
      "New Delhi\n",
      "Hindi and English\n",
      "Washington, D.C.\n",
      "English\n"
     ]
    }
   ],
   "source": [
    "class India():\n",
    "     def capital(self):\n",
    "        print(\"New Delhi\")\n",
    " \n",
    "     def language(self):\n",
    "        print(\"Hindi and English\")\n",
    "\n",
    "class USA():\n",
    "     def capital(self):\n",
    "        print(\"Washington, D.C.\")\n",
    " \n",
    "     def language(self):\n",
    "        print(\"English\")\n",
    "        \n",
    "obj_ind = India()\n",
    "obj_usa = USA()\n",
    "for country in (obj_ind, obj_usa):\n",
    "    country.capital()\n",
    "    country.language()"
   ]
  },
  {
   "cell_type": "markdown",
   "id": "8125be9f",
   "metadata": {},
   "source": [
    "# Polymorphism with Inheritance\n",
    "#Method Overriding"
   ]
  },
  {
   "cell_type": "code",
   "execution_count": 5,
   "id": "7507c0e2",
   "metadata": {},
   "outputs": [
    {
     "name": "stdout",
     "output_type": "stream",
     "text": [
      "There are different types of birds\n",
      "Most of the birds can fly but some cannot\n",
      "There are different types of birds\n",
      "Parrots can fly\n",
      "There are different types of birds\n",
      "Penguins do not fly\n"
     ]
    }
   ],
   "source": [
    "class Bird:\n",
    "     def intro(self):\n",
    "        print(\"There are different types of birds\")\n",
    " \n",
    "     def flight(self):\n",
    "        print(\"Most of the birds can fly but some cannot\")\n",
    "        \n",
    "class parrot(Bird):\n",
    "     def flight(self):\n",
    "        print(\"Parrots can fly\")\n",
    "        \n",
    "class penguin(Bird):\n",
    "     def flight(self):\n",
    "        print(\"Penguins do not fly\")\n",
    "        \n",
    "        \n",
    "obj_bird = Bird()\n",
    "obj_parr = parrot()\n",
    "obj_peng = penguin()\n",
    " \n",
    "obj_bird.intro()\n",
    "obj_bird.flight()\n",
    " \n",
    "obj_parr.intro()\n",
    "obj_parr.flight()\n",
    " \n",
    "obj_peng.intro()\n",
    "obj_peng.flight()"
   ]
  },
  {
   "cell_type": "markdown",
   "id": "1f27eff3",
   "metadata": {},
   "source": [
    "# Simple polymorphism"
   ]
  },
  {
   "cell_type": "code",
   "execution_count": 10,
   "id": "7a209cb8",
   "metadata": {},
   "outputs": [],
   "source": [
    "class A:\n",
    "    def __init__(self):\n",
    "        print(\"Const A.\")\n",
    "        \n",
    "    def show(self):\n",
    "        return \"Show function of class A.\"\n",
    "    \n",
    "    def add(self):\n",
    "        return \"Add function of class A.\"\n",
    "    \n",
    "class B:\n",
    "    def __init__(self):\n",
    "        print(\"Const B.\")\n",
    "        \n",
    "    def show(self):\n",
    "        return \"Show function of class B.\"\n",
    "    \n",
    "    def add(self):\n",
    "        return \"Add function of class B.\"\n",
    "    \n",
    "class C:\n",
    "    def __init__(self):\n",
    "        print(\"Const C.\")\n",
    "        \n",
    "    def show(self):\n",
    "        return \"Show function of class C.\"\n",
    "    \n",
    "    def add(self):\n",
    "        return \"Add function of class C.\"\n",
    "    \n"
   ]
  },
  {
   "cell_type": "code",
   "execution_count": 15,
   "id": "31c99b97",
   "metadata": {},
   "outputs": [
    {
     "name": "stdout",
     "output_type": "stream",
     "text": [
      "Const A.\n",
      "Show function of class A.\n",
      "Add function of class A.\n",
      "\n",
      "-------------------\n",
      "\n",
      "Const B.\n",
      "Show function of class B.\n",
      "Add function of class B.\n",
      "\n",
      "-------------------\n",
      "\n",
      "Const C.\n",
      "Show function of class C.\n",
      "Add function of class C.\n"
     ]
    }
   ],
   "source": [
    "a = A()\n",
    "print(a.show())\n",
    "print(a.add())\n",
    "print(\"\\n-------------------\\n\")\n",
    "b = B()\n",
    "print(b.show())\n",
    "print(b.add())\n",
    "print(\"\\n-------------------\\n\")\n",
    "c = C()\n",
    "print(c.show())\n",
    "print(c.add())"
   ]
  },
  {
   "cell_type": "markdown",
   "id": "a502d63e",
   "metadata": {},
   "source": [
    "# inheritance"
   ]
  },
  {
   "cell_type": "code",
   "execution_count": 27,
   "id": "66ac7b22",
   "metadata": {},
   "outputs": [
    {
     "name": "stdout",
     "output_type": "stream",
     "text": [
      "Const A.\n",
      "Show function of class A.\n",
      "Add function of class A.\n",
      "\n",
      "-------------------\n",
      "\n",
      "Const A.\n",
      "Const B.\n",
      "Show function of class A.\n",
      "Add function of class A.\n",
      "\n",
      "-------------------\n",
      "\n",
      "Const A.\n",
      "Const C.\n",
      "Show function of class A.\n",
      "Add function of class A.\n"
     ]
    }
   ],
   "source": [
    "class A:\n",
    "    def __init__(self):\n",
    "        print(\"Const A.\")\n",
    "        \n",
    "    def show(self):\n",
    "        return \"Show function of class A.\"\n",
    "    \n",
    "    def add(self):\n",
    "        return \"Add function of class A.\"\n",
    "    \n",
    "class B(A):\n",
    "    def __init__(self):\n",
    "        A.__init__(self)\n",
    "        print(\"Const B.\")\n",
    "    \n",
    "class C(A):\n",
    "    def __init__(self):\n",
    "        A.__init__(self)\n",
    "        print(\"Const C.\")\n",
    "\n",
    "#here in inheritance child classes B and C are inheriting properties from class A.\n",
    "#But when we make the same funtions for child classes too they override the methods in parent class and display the funtionality\n",
    "#of their own classes\n",
    "a = A()\n",
    "print(a.show())\n",
    "print(a.add())\n",
    "print(\"\\n-------------------\\n\")\n",
    "b = B()\n",
    "print(b.show())\n",
    "print(b.add())\n",
    "print(\"\\n-------------------\\n\")\n",
    "c = C()\n",
    "print(c.show())\n",
    "print(c.add())"
   ]
  },
  {
   "cell_type": "markdown",
   "id": "f0087a3d",
   "metadata": {},
   "source": [
    "# polymorphism in inheritance"
   ]
  },
  {
   "cell_type": "code",
   "execution_count": 18,
   "id": "1e683b80",
   "metadata": {},
   "outputs": [],
   "source": [
    "class A:\n",
    "    def __init__(self):\n",
    "        print(\"Const A.\")\n",
    "        \n",
    "    def show(self):\n",
    "        return \"Show function of class A.\"\n",
    "    \n",
    "    def add(self):\n",
    "        return \"Add function of class A.\"\n",
    "    \n",
    "class B(A):\n",
    "    def __init__(self):\n",
    "        A.__init__(self)\n",
    "        print(\"Const B.\")\n",
    "        \n",
    "    def show(self):\n",
    "        return \"Show function of class B.\"\n",
    "    \n",
    "    def add(self):\n",
    "        return \"Add function of class B.\"\n",
    "    \n",
    "class C(A):\n",
    "    def __init__(self):\n",
    "        A.__init__(self)\n",
    "        print(\"Const C.\")\n",
    "        \n",
    "    def show(self):\n",
    "        return \"Show function of class C.\"\n",
    "    \n",
    "    def add(self):\n",
    "        return \"Add function of class C.\"\n",
    "    \n"
   ]
  },
  {
   "cell_type": "code",
   "execution_count": 26,
   "id": "884a6392",
   "metadata": {},
   "outputs": [
    {
     "name": "stdout",
     "output_type": "stream",
     "text": [
      "Const A.\n",
      "Show function of class A.\n",
      "Add function of class A.\n",
      "\n",
      "-------------------\n",
      "\n",
      "Const A.\n",
      "Const B.\n",
      "Show function of class A.\n",
      "Add function of class A.\n",
      "\n",
      "-------------------\n",
      "\n",
      "Const A.\n",
      "Const C.\n",
      "Show function of class A.\n",
      "Add function of class A.\n"
     ]
    }
   ],
   "source": [
    "a = A()\n",
    "print(a.show())   \n",
    "print(a.add())\n",
    "print(\"\\n-------------------\\n\")\n",
    "b = B()\n",
    "print(b.show())\n",
    "print(b.add())\n",
    "print(\"\\n-------------------\\n\")\n",
    "c = C()\n",
    "print(c.show())\n",
    "print(c.add())"
   ]
  },
  {
   "cell_type": "markdown",
   "id": "8985c5b0",
   "metadata": {},
   "source": [
    "# Method Overloading"
   ]
  },
  {
   "cell_type": "code",
   "execution_count": null,
   "id": "899caaba",
   "metadata": {},
   "outputs": [],
   "source": [
    "#NOTE\n",
    "#when operator for example + operator is overloaded \n",
    "#it overrides the built-in function of addtion "
   ]
  },
  {
   "cell_type": "code",
   "execution_count": null,
   "id": "5941768e",
   "metadata": {},
   "outputs": [],
   "source": [
    "#Difference b/w overloading and overridng \n",
    "#Method Overloading is an example of Compile time polymorphism\n",
    "#In this, more than one method of the same class shares the same method name having different signatures.\n",
    "#Method overloading is used to add more to the behavior of methods and \n",
    "#there is no need of more than one class for method overloading.\n",
    "#Python does not support method overloading. \n",
    "#We may overload the methods but can only use the latest defined method."
   ]
  },
  {
   "cell_type": "code",
   "execution_count": 33,
   "id": "007cdcfb",
   "metadata": {},
   "outputs": [
    {
     "name": "stdout",
     "output_type": "stream",
     "text": [
      "11\n",
      "Hi Geeks\n",
      "30\n"
     ]
    }
   ],
   "source": [
    "#Example\n",
    "# Function to take multiple arguments\n",
    "\n",
    "def add(datatype, *args):\n",
    "    if datatype =='int':\n",
    "        answer = 0\n",
    "\n",
    "    if datatype =='str':\n",
    "        answer =''\n",
    "\n",
    "    for x in args:\n",
    "        answer = answer + x\n",
    "    print(answer)\n",
    "    \n",
    "add('int', 5, 6)\n",
    "add('str', 'Hi ', 'Geeks')\n",
    "add('int', 6,7,8,9)"
   ]
  },
  {
   "cell_type": "code",
   "execution_count": null,
   "id": "17201b68",
   "metadata": {},
   "outputs": [],
   "source": [
    "#Compile-time is the time at which the source code is converted into an executable code \n",
    "#while the run time is the time at which the executable code is started running"
   ]
  },
  {
   "cell_type": "markdown",
   "id": "eb6b1e3f",
   "metadata": {},
   "source": [
    "# Method Overriding"
   ]
  },
  {
   "cell_type": "code",
   "execution_count": null,
   "id": "b1e41de1",
   "metadata": {},
   "outputs": [],
   "source": [
    "#Method overriding is an example of run time polymorphism. \n",
    "#In this, the specific implementation of the method that is already provided by the parent class\n",
    "#is provided by the child class. It is used to change the behavior of existing methods \n",
    "#and there is a need for at least two classes for method overriding. \n",
    "#In method overriding, inheritance always required as it is done between \n",
    "#parent class(superclass) and child class(child class) methods."
   ]
  },
  {
   "cell_type": "code",
   "execution_count": 37,
   "id": "b719fb38",
   "metadata": {},
   "outputs": [
    {
     "name": "stdout",
     "output_type": "stream",
     "text": [
      "feature_1 of class A\n",
      "feature_1 of class B\n"
     ]
    }
   ],
   "source": [
    "class A:\n",
    "\n",
    "\tdef fun1(self):\n",
    "\t\tprint('feature_1 of class A')\n",
    "\t\t\n",
    "\tdef fun2(self):\n",
    "\t\tprint('feature_2 of class A')\n",
    "\t\n",
    "\n",
    "class B(A):\n",
    "\t\n",
    "\t# Modified function that is\n",
    "\t# already exist in class A\n",
    "\tdef fun1(self):\n",
    "\t\tprint('feature_1 of class B')\n",
    "\t\t\n",
    "\tdef fun3(self):\n",
    "\t\tprint('feature_3 of class B')\n",
    "\t\t\n",
    "\n",
    "obja = A()\n",
    "obja.fun1()\n",
    "# Create instance\n",
    "obj = B()\n",
    "\t\n",
    "# Call the override function\n",
    "obj.fun1()\n"
   ]
  },
  {
   "cell_type": "markdown",
   "id": "eceb7472",
   "metadata": {},
   "source": [
    "# Operator overloading"
   ]
  },
  {
   "cell_type": "code",
   "execution_count": null,
   "id": "51216e86",
   "metadata": {},
   "outputs": [],
   "source": [
    "class Point:\n",
    "    def __init__(self, x=0, y=0):\n",
    "        self.x = x\n",
    "        self.y = y\n",
    "\n",
    "p1 = Point(1, 2)\n",
    "p2 = Point(2, 3)\n",
    "print(p1+p2)\n",
    "#Here, we can see that a TypeError was raised, \n",
    "#since Python didn't know how to add two Point objects together."
   ]
  },
  {
   "cell_type": "code",
   "execution_count": null,
   "id": "dc76477e",
   "metadata": {},
   "outputs": [],
   "source": [
    "#add(a, b)\n",
    "#sub(a, b)\n",
    "#mul(a, b)\n",
    "#truediv(a,b)  This function returns division of the given arguments.Operation – a / b.\n",
    "#floordiv(a,b) This function also returns division of the given arguments. \n",
    "#But the value is floored value i.e. returns greatest small integer.Operation – a // b.\n",
    "# pow(a,b) returns exponentiation of the given arguments\n",
    "#mod(a,b)  returns modulus of the given arguments\n",
    "#lt(a, b)  check if a is less than b or not.\n",
    "#le(a, b)  check if a is less than or equal to b or not.\n",
    "#eq(a, b)  check if a is equal to b or not.\n",
    "#gt(a,b)   check if a is greater than b or not.\n",
    "#ge(a,b)   check if a is greater than or equal to b or not.\n",
    "#ne(a,b)   check if a is not equal to b or is equal."
   ]
  },
  {
   "cell_type": "code",
   "execution_count": 54,
   "id": "cd135317",
   "metadata": {},
   "outputs": [
    {
     "name": "stdout",
     "output_type": "stream",
     "text": [
      "(3,5)\n",
      "(1, 2)\n",
      "(2, 3)\n"
     ]
    }
   ],
   "source": [
    "#Addition operator overloaded\n",
    "class Point:\n",
    "    def __init__(self, x=0, y=0):\n",
    "        self.x = x\n",
    "        self.y = y\n",
    "        \n",
    "#The __str__ method in Python represents the class objects as a string\n",
    "# The __str__ method should be defined in a way that is easy to read and outputs all the members of the class\n",
    "    def __str__(self):\n",
    "        return \"({},{})\".format(self.x, self.y)\n",
    "        \n",
    "    def __add__(self, other):\n",
    "        x = self.x + other.x\n",
    "        y = self.y + other.y\n",
    "        return Point(x, y)\n",
    "    \n",
    "    def show(self):\n",
    "        return (self.x, self.y)\n",
    "\n",
    "p1 = Point(1, 2)\n",
    "p2 = Point(2, 3)\n",
    "print(p1+p2)\n",
    "print(p1.show())\n",
    "print(p2.show())"
   ]
  },
  {
   "cell_type": "code",
   "execution_count": 55,
   "id": "a1cce756",
   "metadata": {},
   "outputs": [
    {
     "name": "stdout",
     "output_type": "stream",
     "text": [
      "(3,5)\n"
     ]
    }
   ],
   "source": [
    "#Subtraction operator overloaded with addition implementation\n",
    "class Point:\n",
    "    def __init__(self, x=0, y=0):\n",
    "        self.x = x\n",
    "        self.y = y\n",
    "        \n",
    "    def __str__(self):\n",
    "        return \"({},{})\".format(self.x, self.y)\n",
    "        \n",
    "    def __sub__(self, other):\n",
    "        x = self.x + other.x\n",
    "        y = self.y + other.y\n",
    "        return Point(x, y)\n",
    "\n",
    "p1 = Point(1, 2)\n",
    "p2 = Point(2, 3)\n",
    "print(p1-p2)"
   ]
  },
  {
   "cell_type": "code",
   "execution_count": 56,
   "id": "6fe007c1",
   "metadata": {},
   "outputs": [
    {
     "name": "stdout",
     "output_type": "stream",
     "text": [
      "(-1,-1)\n"
     ]
    }
   ],
   "source": [
    "#Subtration operator overloaded\n",
    "class Point:\n",
    "    def __init__(self, x=0, y=0):\n",
    "        self.x = x\n",
    "        self.y = y\n",
    "        \n",
    "    def __str__(self):\n",
    "        return \"({},{})\".format(self.x, self.y)\n",
    "        \n",
    "    def __sub__(self, other):\n",
    "        x = self.x - other.x\n",
    "        y = self.y - other.y\n",
    "        return Point(x, y)\n",
    "\n",
    "p1 = Point(1, 2)\n",
    "p2 = Point(2, 3)\n",
    "print(p1-p2)"
   ]
  },
  {
   "cell_type": "code",
   "execution_count": 57,
   "id": "47d2b20e",
   "metadata": {},
   "outputs": [
    {
     "name": "stdout",
     "output_type": "stream",
     "text": [
      "(2,6)\n"
     ]
    }
   ],
   "source": [
    "#Multiplication operator overloaded\n",
    "class Point:\n",
    "    def __init__(self, x=0, y=0):\n",
    "        self.x = x\n",
    "        self.y = y\n",
    "        \n",
    "    def __str__(self):\n",
    "        return \"({},{})\".format(self.x, self.y)\n",
    "        \n",
    "    def __mul__(self, other):\n",
    "        x = self.x * other.x\n",
    "        y = self.y * other.y\n",
    "        return Point(x, y)\n",
    "\n",
    "p1 = Point(1, 2)\n",
    "p2 = Point(2, 3)\n",
    "print(p1*p2)"
   ]
  },
  {
   "cell_type": "code",
   "execution_count": 58,
   "id": "d3705ce7",
   "metadata": {},
   "outputs": [
    {
     "name": "stdout",
     "output_type": "stream",
     "text": [
      "(0.5,0.6666666666666666)\n"
     ]
    }
   ],
   "source": [
    "#Division operator overloaded\n",
    "class Point:\n",
    "    def __init__(self, x=0, y=0):\n",
    "        self.x = x\n",
    "        self.y = y\n",
    "        \n",
    "    def __str__(self):\n",
    "        return \"({},{})\".format(self.x, self.y)\n",
    "        \n",
    "    def __truediv__(self, other):\n",
    "        x = self.x / other.x\n",
    "        y = self.y / other.y\n",
    "        return Point(x, y)\n",
    "\n",
    "p1 = Point(1, 2)\n",
    "p2 = Point(2, 3)\n",
    "print(p1/p2)"
   ]
  },
  {
   "cell_type": "code",
   "execution_count": 60,
   "id": "ea1d4336",
   "metadata": {},
   "outputs": [
    {
     "name": "stdout",
     "output_type": "stream",
     "text": [
      "(0,0)\n"
     ]
    }
   ],
   "source": [
    "#Complete Division operator overloaded\n",
    "class Point:\n",
    "    def __init__(self, x=0, y=0):\n",
    "        self.x = x\n",
    "        self.y = y\n",
    "        \n",
    "    def __str__(self):\n",
    "        return \"({},{})\".format(self.x, self.y)\n",
    "        \n",
    "    def __floordiv__(self, other):\n",
    "        x = self.x // other.x\n",
    "        y = self.y // other.y\n",
    "        return Point(x, y)\n",
    "\n",
    "p1 = Point(1, 2)\n",
    "p2 = Point(2, 3)\n",
    "print(p1//p2)"
   ]
  },
  {
   "cell_type": "code",
   "execution_count": 62,
   "id": "e72e07c4",
   "metadata": {},
   "outputs": [
    {
     "name": "stdout",
     "output_type": "stream",
     "text": [
      "(1,8)\n",
      "(2,9)\n"
     ]
    }
   ],
   "source": [
    "#power operator overloaded\n",
    "class Point:\n",
    "    def __init__(self, x=0, y=0):\n",
    "        self.x = x\n",
    "        self.y = y\n",
    "        \n",
    "    def __str__(self):\n",
    "        return \"({},{})\".format(self.x, self.y)\n",
    "        \n",
    "    def __pow__(self, other):\n",
    "        x = self.x ** other.x\n",
    "        y = self.y ** other.y\n",
    "        return Point(x, y)\n",
    "\n",
    "p1 = Point(1, 2)\n",
    "p2 = Point(2, 3)\n",
    "print(p1**p2)\n",
    "print(p2**p1)"
   ]
  },
  {
   "cell_type": "code",
   "execution_count": 63,
   "id": "b802bc3c",
   "metadata": {},
   "outputs": [
    {
     "name": "stdout",
     "output_type": "stream",
     "text": [
      "(1,2)\n"
     ]
    }
   ],
   "source": [
    "#Modulus operator overloaded\n",
    "class Point:\n",
    "    def __init__(self, x=0, y=0):\n",
    "        self.x = x\n",
    "        self.y = y\n",
    "        \n",
    "    def __str__(self):\n",
    "        return \"({},{})\".format(self.x, self.y)\n",
    "        \n",
    "    def __mod__(self, other):\n",
    "        x = self.x % other.x\n",
    "        y = self.y % other.y\n",
    "        return Point(x, y)\n",
    "\n",
    "p1 = Point(1, 2)\n",
    "p2 = Point(2, 3)\n",
    "print(p1%p2)"
   ]
  },
  {
   "cell_type": "code",
   "execution_count": 64,
   "id": "5ad7c912",
   "metadata": {},
   "outputs": [
    {
     "name": "stdout",
     "output_type": "stream",
     "text": [
      "(True,True)\n"
     ]
    }
   ],
   "source": [
    "#less than operator overloaded\n",
    "class Point:\n",
    "    def __init__(self, x=0, y=0):\n",
    "        self.x = x\n",
    "        self.y = y\n",
    "        \n",
    "    def __str__(self):\n",
    "        return \"({},{})\".format(self.x, self.y)\n",
    "        \n",
    "    def __lt__(self, other):\n",
    "        x = self.x < other.x\n",
    "        y = self.y < other.y\n",
    "        return Point(x, y)\n",
    "\n",
    "p1 = Point(1, 2)\n",
    "p2 = Point(2, 3)\n",
    "print(p1<p2)"
   ]
  },
  {
   "cell_type": "code",
   "execution_count": 65,
   "id": "bcd2f38b",
   "metadata": {},
   "outputs": [
    {
     "name": "stdout",
     "output_type": "stream",
     "text": [
      "(True,True)\n"
     ]
    }
   ],
   "source": [
    "#less than equal to operator overloaded\n",
    "class Point:\n",
    "    def __init__(self, x=0, y=0):\n",
    "        self.x = x\n",
    "        self.y = y\n",
    "        \n",
    "    def __str__(self):\n",
    "        return \"({},{})\".format(self.x, self.y)\n",
    "        \n",
    "    def __le__(self, other):\n",
    "        x = self.x <= other.x\n",
    "        y = self.y <= other.y\n",
    "        return Point(x, y)\n",
    "\n",
    "p1 = Point(1, 2)\n",
    "p2 = Point(2, 3)\n",
    "print(p1<=p2)"
   ]
  },
  {
   "cell_type": "code",
   "execution_count": 66,
   "id": "98f05e4e",
   "metadata": {},
   "outputs": [
    {
     "name": "stdout",
     "output_type": "stream",
     "text": [
      "(False,False)\n"
     ]
    }
   ],
   "source": [
    "#Equal operator overloaded\n",
    "class Point:\n",
    "    def __init__(self, x=0, y=0):\n",
    "        self.x = x\n",
    "        self.y = y\n",
    "        \n",
    "    def __str__(self):\n",
    "        return \"({},{})\".format(self.x, self.y)\n",
    "        \n",
    "    def __eq__(self, other):\n",
    "        x = self.x == other.x\n",
    "        y = self.y == other.y\n",
    "        return Point(x, y)\n",
    "\n",
    "p1 = Point(1, 2)\n",
    "p2 = Point(2, 3)\n",
    "print(p1==p2)"
   ]
  },
  {
   "cell_type": "code",
   "execution_count": 67,
   "id": "624cf035",
   "metadata": {},
   "outputs": [
    {
     "name": "stdout",
     "output_type": "stream",
     "text": [
      "(False,False)\n"
     ]
    }
   ],
   "source": [
    "#Greater operator overloaded\n",
    "class Point:\n",
    "    def __init__(self, x=0, y=0):\n",
    "        self.x = x\n",
    "        self.y = y\n",
    "        \n",
    "    def __str__(self):\n",
    "        return \"({},{})\".format(self.x, self.y)\n",
    "        \n",
    "    def __gt__(self, other):\n",
    "        x = self.x > other.x\n",
    "        y = self.y > other.y\n",
    "        return Point(x, y)\n",
    "\n",
    "p1 = Point(1, 2)\n",
    "p2 = Point(2, 3)\n",
    "print(p1>p2)"
   ]
  },
  {
   "cell_type": "code",
   "execution_count": 68,
   "id": "6953c984",
   "metadata": {},
   "outputs": [
    {
     "name": "stdout",
     "output_type": "stream",
     "text": [
      "(False,False)\n"
     ]
    }
   ],
   "source": [
    "#Greater than equal to operator overloaded\n",
    "class Point:\n",
    "    def __init__(self, x=0, y=0):\n",
    "        self.x = x\n",
    "        self.y = y\n",
    "        \n",
    "    def __str__(self):\n",
    "        return \"({},{})\".format(self.x, self.y)\n",
    "        \n",
    "    def __ge__(self, other):\n",
    "        x = self.x >= other.x\n",
    "        y = self.y >= other.y\n",
    "        return Point(x, y)\n",
    "\n",
    "p1 = Point(1, 2)\n",
    "p2 = Point(2, 3)\n",
    "print(p1>=p2)"
   ]
  },
  {
   "cell_type": "code",
   "execution_count": 69,
   "id": "0b1b6ff2",
   "metadata": {},
   "outputs": [
    {
     "name": "stdout",
     "output_type": "stream",
     "text": [
      "(True,True)\n"
     ]
    }
   ],
   "source": [
    "#Not equal to operator overloaded\n",
    "class Point:\n",
    "    def __init__(self, x=0, y=0):\n",
    "        self.x = x\n",
    "        self.y = y\n",
    "        \n",
    "    def __str__(self):\n",
    "        return \"({},{})\".format(self.x, self.y)\n",
    "        \n",
    "    def __ne__(self, other):\n",
    "        x = self.x != other.x\n",
    "        y = self.y != other.y\n",
    "        return Point(x, y)\n",
    "\n",
    "p1 = Point(1, 2)\n",
    "p2 = Point(2, 3)\n",
    "print(p1!=p2)"
   ]
  },
  {
   "cell_type": "code",
   "execution_count": null,
   "id": "4d1f720e",
   "metadata": {},
   "outputs": [],
   "source": []
  }
 ],
 "metadata": {
  "kernelspec": {
   "display_name": "Python 3 (ipykernel)",
   "language": "python",
   "name": "python3"
  },
  "language_info": {
   "codemirror_mode": {
    "name": "ipython",
    "version": 3
   },
   "file_extension": ".py",
   "mimetype": "text/x-python",
   "name": "python",
   "nbconvert_exporter": "python",
   "pygments_lexer": "ipython3",
   "version": "3.9.7"
  }
 },
 "nbformat": 4,
 "nbformat_minor": 5
}
