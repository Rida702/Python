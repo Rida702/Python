{
 "cells": [
  {
   "cell_type": "markdown",
   "id": "f311488d",
   "metadata": {},
   "source": [
    "# read file"
   ]
  },
  {
   "cell_type": "code",
   "execution_count": null,
   "id": "a327cd71",
   "metadata": {},
   "outputs": [],
   "source": [
    "file = open('again1.txt', 'r')\n",
    "data = []\n",
    "for each in file:\n",
    "    print(each)\n",
    "    data.append(each)"
   ]
  },
  {
   "cell_type": "code",
   "execution_count": null,
   "id": "206fc89f",
   "metadata": {},
   "outputs": [],
   "source": [
    "print(data)"
   ]
  },
  {
   "cell_type": "code",
   "execution_count": null,
   "id": "c1f4f666",
   "metadata": {},
   "outputs": [],
   "source": [
    "while True:\n",
    "    \n",
    "    choice = input('Press 1 for data entery and 2 for retrieval or done for quit')\n",
    "    if choice=='1':\n",
    "        name=input(\"Enter your name: \")\n",
    "        cnic=input(\"Enter cnic: \")\n",
    "        dob=input(\"Enter your DOB: \")\n",
    "        hobbies=input(\"Enter your hobbies: \")\n",
    "        occu=input(\"Enter your occupation: \")\n",
    "        address=input(\"Enter your residence address: \")\n",
    "\n",
    "        record = {cnic:{'name':name, 'dob':dob, 'hobbies':hobbies, 'occu':occu, 'address':address}}\n",
    "\n",
    "        file = open('data2.txt', 'a')\n",
    "        file.write(str(record)+\"\\n\")\n",
    "        file.close()\n",
    "        \n",
    "    elif choice == 'done':\n",
    "        break\n",
    "\n",
    "    elif choice=='2':\n",
    "        \n",
    "        with open('data2.txt', \"r\") as file:\n",
    "            data = []\n",
    "            for line in file.readlines():\n",
    "                line = eval(line)\n",
    "                data.append(line) \n",
    "            \n",
    "        entered_cnic = input(\"Enter cnic\")\n",
    "        for record in data:\n",
    "            if entered_cnic in record.keys():\n",
    "                print(record[entered_cnic])\n",
    "                break\n",
    "    \n",
    "    else:\n",
    "        print(\"Wrong input\")"
   ]
  },
  {
   "cell_type": "code",
   "execution_count": null,
   "id": "b985e0e0",
   "metadata": {},
   "outputs": [],
   "source": [
    "file = open('one.txt', 'a')\n",
    "my_str = \"\\nHello this is Nasa\"\n",
    "#for each in file:\n",
    "file.write(str(my_str) + \"\\n\")"
   ]
  },
  {
   "cell_type": "code",
   "execution_count": null,
   "id": "de3622f8",
   "metadata": {},
   "outputs": [],
   "source": [
    "file = open('one.txt', 'a')\n",
    "#for each in file:\n",
    "file.write(\"Hello this is Nasa\" + \"\\n\")"
   ]
  },
  {
   "cell_type": "code",
   "execution_count": null,
   "id": "468b7493",
   "metadata": {},
   "outputs": [],
   "source": [
    "while True:\n",
    "    choice = input(\"Do you want to quit, y for yes n for no: \")\n",
    "    if ( choice == 'y' ):\n",
    "        break\n",
    "    else:\n",
    "        name = input(\"Enter your name: \")\n",
    "        my_file = open(\"two.txt\", 'w')\n",
    "        my_file.write(name + \"\\n\")"
   ]
  },
  {
   "cell_type": "code",
   "execution_count": null,
   "id": "a40596dd",
   "metadata": {},
   "outputs": [],
   "source": [
    "while True:\n",
    "    choice = input(\"Do you want to quit, y for yes n for no: \")\n",
    "    if ( choice == 'y' ):\n",
    "        break\n",
    "    else:\n",
    "        name = input(\"Enter your name: \")\n",
    "        my_file = open(\"Three.txt\", 'a')\n",
    "        my_file.write(name + \"\\n\")"
   ]
  },
  {
   "cell_type": "code",
   "execution_count": null,
   "id": "4dc4a45f",
   "metadata": {},
   "outputs": [],
   "source": [
    "name = input(\"Enter your name: \")\n",
    "dob = input(\"Enter your Date of Birth: \")\n",
    "hobbies = input(\"Enter your Hobbies: \")\n",
    "occupation = input(\"Enter your Occupation: \")\n",
    "address = input(\"Enter your Residential Address: \")\n",
    "\n",
    "my_file = open(\"again1.txt\", 'a')\n",
    "my_file.write( name + \" \" + dob + \" \" + hobbies + \" \" + occupation + \" \" + address + \"\\n\" ) \n",
    "\n",
    "my_file.close()"
   ]
  },
  {
   "cell_type": "code",
   "execution_count": 2,
   "id": "26d35a5a",
   "metadata": {},
   "outputs": [
    {
     "name": "stdout",
     "output_type": "stream",
     "text": [
      "rida 2002 sleeping std wt\n",
      "\n",
      "['rida 2002 sleeping std wt\\n']\n"
     ]
    }
   ],
   "source": [
    "file = open('again1.txt', 'r')\n",
    "data = []\n",
    "for each in file:\n",
    "    data.append(each)\n",
    "    print(each)\n",
    "file.close()\n",
    "print(data)"
   ]
  },
  {
   "cell_type": "code",
   "execution_count": 3,
   "id": "92d39f0d",
   "metadata": {},
   "outputs": [
    {
     "ename": "SyntaxError",
     "evalue": "invalid syntax (<string>, line 1)",
     "output_type": "error",
     "traceback": [
      "Traceback \u001b[1;36m(most recent call last)\u001b[0m:\n",
      "  File \u001b[0;32m\"C:\\Users\\Almas\\anaconda3\\lib\\site-packages\\IPython\\core\\interactiveshell.py\"\u001b[0m, line \u001b[0;32m3444\u001b[0m, in \u001b[0;35mrun_code\u001b[0m\n    exec(code_obj, self.user_global_ns, self.user_ns)\n",
      "\u001b[1;36m  File \u001b[1;32m\"C:\\Users\\Almas\\AppData\\Local\\Temp/ipykernel_5976/980582628.py\"\u001b[1;36m, line \u001b[1;32m4\u001b[1;36m, in \u001b[1;35m<module>\u001b[1;36m\u001b[0m\n\u001b[1;33m    line = eval(line)\u001b[0m\n",
      "\u001b[1;36m  File \u001b[1;32m\"<string>\"\u001b[1;36m, line \u001b[1;32m1\u001b[0m\n\u001b[1;33m    rida 2002 sleeping std wt\u001b[0m\n\u001b[1;37m         ^\u001b[0m\n\u001b[1;31mSyntaxError\u001b[0m\u001b[1;31m:\u001b[0m invalid syntax\n"
     ]
    }
   ],
   "source": [
    "with open('again1.txt', \"r\") as file:\n",
    "            data = []\n",
    "            for line in file.readlines():\n",
    "                line = eval(line)\n",
    "                data.append(line)"
   ]
  },
  {
   "cell_type": "code",
   "execution_count": 4,
   "id": "aee6299c",
   "metadata": {},
   "outputs": [
    {
     "name": "stdout",
     "output_type": "stream",
     "text": [
      "hello this is NASA\n",
      "\n",
      "National Aeronautics and Space Administration\n",
      "\n",
      "We are launching our 1st Manned mission on Mars\n",
      "\n",
      "Are you ready for this histrorical Launch\n"
     ]
    }
   ],
   "source": [
    "file = open('sample.txt', 'r')\n",
    "data = []\n",
    "for each in file:\n",
    "    print(each)\n",
    "    data.append(each)"
   ]
  },
  {
   "cell_type": "code",
   "execution_count": 1,
   "id": "7f8da9a8",
   "metadata": {},
   "outputs": [
    {
     "name": "stdout",
     "output_type": "stream",
     "text": [
      "hello this is NASA\n",
      "\n",
      "National Aeronautics and Space Administration\n",
      "\n",
      "We are launching our 1st Manned mission on Mars\n",
      "\n",
      "Are you ready for this histrorical Launch\n"
     ]
    }
   ],
   "source": [
    "with open('sample.txt', \"r\") as file:\n",
    "            data = []\n",
    "            for line in file.readlines():\n",
    "                print(line)\n",
    "                data.append(line)"
   ]
  },
  {
   "cell_type": "code",
   "execution_count": 5,
   "id": "ef98c18b",
   "metadata": {},
   "outputs": [
    {
     "name": "stdout",
     "output_type": "stream",
     "text": [
      "Line No  1 : NASA's Performance and Accountability Report (PAR), is a detailed, annual retrospective of the Agency's performance\n",
      "\n",
      "Line No  2 : toward achieving its annual goals and long-term objectives for its programs, management, and budget.\n",
      "\n",
      "Line No  3 : The Office of the Chief Financial Officer produces the PAR in collaboration \n",
      "\n",
      "Line No  4 : with program and support offices throughout NASA.\n",
      "\n",
      "Line No  5 : While the PAR was created to meet government reporting requirements \n",
      "\n",
      "Line No  6 : (including the Government Performance and Results Act, the Chief Financial Officers Act of 1990,\n",
      "\n",
      "Line No  7 : and the Federal Financial Management Improvement Act of 1996), it is also a showcase for \n",
      "\n",
      "Line No  8 : NASA's achievements and is written as a public outreach document\n"
     ]
    }
   ],
   "source": [
    "with open('file_3.txt', \"r\") as file:\n",
    "            i=1\n",
    "            data = []\n",
    "            for line in file.readlines():\n",
    "                print(\"Line No \", i ,\":\" , line)\n",
    "                i+=1\n",
    "                data.append(line)"
   ]
  },
  {
   "cell_type": "code",
   "execution_count": 12,
   "id": "321fd379",
   "metadata": {},
   "outputs": [
    {
     "name": "stdout",
     "output_type": "stream",
     "text": [
      "Enter your name: rida\n",
      "Enter your Date of Birth: 2002\n",
      "Enter your Hobbies: sleeping\n",
      "Enter your Occupation: std\n",
      "Enter your Residential Address: guj\n"
     ]
    }
   ],
   "source": [
    "name = input(\"Enter your name: \")\n",
    "dob = input(\"Enter your Date of Birth: \")\n",
    "hobbies = input(\"Enter your Hobbies: \")\n",
    "occupation = input(\"Enter your Occupation: \")\n",
    "address = input(\"Enter your Residential Address: \")\n",
    "\n",
    "bio = {'code':{'Name':name,'Date_of_Birth':dob,'Hobbies':hobbies,'Occupation':occupation,'Address':address}}\n",
    "#elif ( choice == 'r' ):"
   ]
  },
  {
   "cell_type": "code",
   "execution_count": 13,
   "id": "15b4733c",
   "metadata": {},
   "outputs": [
    {
     "name": "stdout",
     "output_type": "stream",
     "text": [
      "rida\n",
      "2002\n",
      "sleeping\n",
      "std\n",
      "guj\n"
     ]
    }
   ],
   "source": [
    "print(bio['code']['Name'])\n",
    "print(bio['code']['Date_of_Birth'])\n",
    "print(bio['code']['Hobbies'])\n",
    "print(bio['code']['Occupation'])\n",
    "print(bio['code']['Address'])"
   ]
  },
  {
   "cell_type": "code",
   "execution_count": 3,
   "id": "be5cfd7f",
   "metadata": {},
   "outputs": [
    {
     "name": "stdout",
     "output_type": "stream",
     "text": [
      "Press 1 for data entery and 2 for retrieval or done for quit1\n",
      "Enter your name: rida\n",
      "Enter cnic: 123\n",
      "Enter your DOB: 2002\n",
      "Enter your hobbies: sketching\n",
      "Enter your occupation: student\n",
      "Enter your residence address: gujranwala\n",
      "Press 1 for data entery and 2 for retrieval or done for quit2\n",
      "Enter cnic123\n",
      "{'name': 'rida', 'dob': '2002', 'hobbies': 'sketching', 'occu': 'student', 'address': 'gujranwala'}\n",
      "Press 1 for data entery and 2 for retrieval or done for quitdone\n"
     ]
    }
   ],
   "source": [
    "while True:\n",
    "    \n",
    "    choice = input('Press 1 for data entery and 2 for retrieval or done for quit')\n",
    "    if choice=='1':\n",
    "        name=input(\"Enter your name: \")\n",
    "        cnic=input(\"Enter cnic: \")\n",
    "        dob=input(\"Enter your DOB: \")\n",
    "        hobbies=input(\"Enter your hobbies: \")\n",
    "        occu=input(\"Enter your occupation: \")\n",
    "        address=input(\"Enter your residence address: \")\n",
    "\n",
    "        record = {cnic:{'name':name, 'dob':dob, 'hobbies':hobbies, 'occu':occu, 'address':address}}\n",
    "\n",
    "        file = open('data2.txt', 'a')\n",
    "        file.write(str(record)+\"\\n\")\n",
    "        file.close()\n",
    "        \n",
    "    elif choice == 'done':\n",
    "        break\n",
    "\n",
    "    elif choice=='2':\n",
    "        \n",
    "        with open('data2.txt', \"r\") as file:\n",
    "            data = []\n",
    "            for line in file.readlines():\n",
    "                line = eval(line)\n",
    "                data.append(line) \n",
    "            \n",
    "        entered_cnic = input(\"Enter cnic\")\n",
    "        for record in data:\n",
    "            if entered_cnic in record.keys():\n",
    "                print(record[entered_cnic])\n",
    "                break\n",
    "    \n",
    "    else:\n",
    "        print(\"Wrong input\")"
   ]
  },
  {
   "cell_type": "code",
   "execution_count": 2,
   "id": "816efb2e",
   "metadata": {},
   "outputs": [
    {
     "name": "stdout",
     "output_type": "stream",
     "text": [
      "my name is rida.\n",
      "\n",
      "i am a girl.\n",
      "\n",
      "i am a BSCS 4th semester student.\n"
     ]
    }
   ],
   "source": [
    "my_file = open( \"my.txt\", 'r')\n",
    "for line in my_file:\n",
    "    print(line)"
   ]
  },
  {
   "cell_type": "code",
   "execution_count": 9,
   "id": "f8a21220",
   "metadata": {},
   "outputs": [
    {
     "name": "stdout",
     "output_type": "stream",
     "text": [
      "m\n",
      "y\n",
      " \n",
      "n\n",
      "a\n",
      "m\n",
      "e\n",
      " \n",
      "i\n",
      "s\n",
      " \n",
      "r\n",
      "i\n",
      "d\n",
      "a\n",
      ".\n",
      "\n",
      "\n"
     ]
    }
   ],
   "source": [
    "my_file = open( \"my.txt\", 'r')\n",
    "for line in my_file.readline():\n",
    "    print(line)"
   ]
  },
  {
   "cell_type": "code",
   "execution_count": 2,
   "id": "68f07c74",
   "metadata": {},
   "outputs": [
    {
     "name": "stdout",
     "output_type": "stream",
     "text": [
      "Enter 'r' for data reterieval, 'e' for entry and 'q' for quit: e\n",
      "Enter your name: rida\n",
      "Enter your Date of Birth: 2002\n",
      "Enter your Hobbies: sketching\n",
      "Enter your Occupation: student\n",
      "Enter your Residential Address: gujranwala\n",
      "Enter 'r' for data reterieval, 'e' for entry and 'q' for quit: e\n",
      "Enter your name: hafsa\n",
      "Enter your Date of Birth: 1995\n",
      "Enter your Hobbies: sleeping\n",
      "Enter your Occupation: doctor\n",
      "Enter your Residential Address: islamabad\n",
      "Enter 'r' for data reterieval, 'e' for entry and 'q' for quit: e\n",
      "Enter your name: maria\n",
      "Enter your Date of Birth: 1996\n",
      "Enter your Hobbies: cooking\n",
      "Enter your Occupation: teacher\n",
      "Enter your Residential Address: mandi bahaudin\n",
      "Enter 'r' for data reterieval, 'e' for entry and 'q' for quit: r\n"
     ]
    },
    {
     "ename": "NameError",
     "evalue": "name 'r' is not defined",
     "output_type": "error",
     "traceback": [
      "\u001b[1;31m---------------------------------------------------------------------------\u001b[0m",
      "\u001b[1;31mNameError\u001b[0m                                 Traceback (most recent call last)",
      "\u001b[1;32m~\\AppData\\Local\\Temp/ipykernel_8380/523580641.py\u001b[0m in \u001b[0;36m<module>\u001b[1;34m\u001b[0m\n\u001b[0;32m     21\u001b[0m         \u001b[0minfo\u001b[0m \u001b[1;33m=\u001b[0m \u001b[1;33m[\u001b[0m\u001b[1;33m]\u001b[0m\u001b[1;33m\u001b[0m\u001b[1;33m\u001b[0m\u001b[0m\n\u001b[0;32m     22\u001b[0m         \u001b[1;32mfor\u001b[0m \u001b[0mline\u001b[0m \u001b[1;32min\u001b[0m \u001b[0mmy_file\u001b[0m\u001b[1;33m.\u001b[0m\u001b[0mreadline\u001b[0m\u001b[1;33m(\u001b[0m\u001b[1;33m)\u001b[0m\u001b[1;33m:\u001b[0m\u001b[1;33m\u001b[0m\u001b[1;33m\u001b[0m\u001b[0m\n\u001b[1;32m---> 23\u001b[1;33m             \u001b[0mline\u001b[0m \u001b[1;33m=\u001b[0m \u001b[0meval\u001b[0m\u001b[1;33m(\u001b[0m\u001b[0mline\u001b[0m\u001b[1;33m)\u001b[0m\u001b[1;33m\u001b[0m\u001b[1;33m\u001b[0m\u001b[0m\n\u001b[0m\u001b[0;32m     24\u001b[0m             \u001b[0minfo\u001b[0m\u001b[1;33m.\u001b[0m\u001b[0mappend\u001b[0m\u001b[1;33m(\u001b[0m\u001b[0mline\u001b[0m\u001b[1;33m)\u001b[0m\u001b[1;33m\u001b[0m\u001b[1;33m\u001b[0m\u001b[0m\n\u001b[0;32m     25\u001b[0m \u001b[1;33m\u001b[0m\u001b[0m\n",
      "\u001b[1;32m<string>\u001b[0m in \u001b[0;36m<module>\u001b[1;34m\u001b[0m\n",
      "\u001b[1;31mNameError\u001b[0m: name 'r' is not defined"
     ]
    }
   ],
   "source": [
    "while True:\n",
    "    choice = input(\"Enter 'r' for data reterieval, 'e' for entry and 'q' for quit: \")\n",
    "    if( choice == 'e' ):\n",
    "        name = input(\"Enter your name: \")\n",
    "        dob = input(\"Enter your Date of Birth: \")\n",
    "        hobbies = input(\"Enter your Hobbies: \")\n",
    "        occupation = input(\"Enter your Occupation: \")\n",
    "        address = input(\"Enter your Residential Address: \")\n",
    "\n",
    "        my_file = open(\"bio11.txt\", 'a')\n",
    "        my_file.write(name + \"\\n\")\n",
    "        my_file.write(dob + \"\\n\")\n",
    "        my_file.write(hobbies + \"\\n\")\n",
    "        my_file.write(occupation + \"\\n\")\n",
    "        my_file.write(address + \"\\n\") \n",
    "        \n",
    "        bio = { name: {'Date_of_Birth' : dob, 'Hobbies': hobbies,'Occupation' : occupation, 'Address' : address}}\n",
    "        \n",
    "    elif ( choice == 'r' ):\n",
    "        my_file = open(\"bio11.txt\", 'r')\n",
    "        info = []\n",
    "        for line in my_file.readline():\n",
    "            line = eval(line)\n",
    "            info.append(line)\n",
    "            \n",
    "        name_ = input(\"Enter name: \")\n",
    "        for name in info:\n",
    "            if name_ in bio.keys():\n",
    "                print(bio[name_])\n",
    "                break \n",
    "                \n",
    "    elif ( choice == 'q'):\n",
    "        break\n",
    "    else:\n",
    "        print(\"Enter Valid Input.\")\n",
    "            \n",
    "my_file.close() "
   ]
  },
  {
   "cell_type": "code",
   "execution_count": 21,
   "id": "18cb17ee",
   "metadata": {},
   "outputs": [
    {
     "ename": "TypeError",
     "evalue": "can only concatenate str (not \"int\") to str",
     "output_type": "error",
     "traceback": [
      "\u001b[1;31m---------------------------------------------------------------------------\u001b[0m",
      "\u001b[1;31mTypeError\u001b[0m                                 Traceback (most recent call last)",
      "\u001b[1;32m~\\AppData\\Local\\Temp/ipykernel_8380/2061786838.py\u001b[0m in \u001b[0;36m<module>\u001b[1;34m\u001b[0m\n\u001b[0;32m      9\u001b[0m     \u001b[1;32mfor\u001b[0m \u001b[0mi\u001b[0m \u001b[1;32min\u001b[0m \u001b[0mdata\u001b[0m\u001b[1;33m:\u001b[0m\u001b[1;33m\u001b[0m\u001b[1;33m\u001b[0m\u001b[0m\n\u001b[0;32m     10\u001b[0m         \u001b[0mcount\u001b[0m \u001b[1;33m=\u001b[0m \u001b[1;36m1\u001b[0m\u001b[1;33m;\u001b[0m\u001b[1;33m\u001b[0m\u001b[1;33m\u001b[0m\u001b[0m\n\u001b[1;32m---> 11\u001b[1;33m         \u001b[1;32mfor\u001b[0m \u001b[0mj\u001b[0m \u001b[1;32min\u001b[0m \u001b[0mrange\u001b[0m\u001b[1;33m(\u001b[0m\u001b[0mint\u001b[0m\u001b[1;33m(\u001b[0m\u001b[0mi\u001b[0m\u001b[1;33m+\u001b[0m\u001b[1;36m1\u001b[0m\u001b[1;33m)\u001b[0m\u001b[1;33m,\u001b[0m\u001b[1;33m)\u001b[0m\u001b[1;33m:\u001b[0m\u001b[1;33m\u001b[0m\u001b[1;33m\u001b[0m\u001b[0m\n\u001b[0m\u001b[0;32m     12\u001b[0m             \u001b[1;32mif\u001b[0m\u001b[1;33m(\u001b[0m\u001b[0mwords\u001b[0m\u001b[1;33m[\u001b[0m\u001b[0mi\u001b[0m\u001b[1;33m]\u001b[0m \u001b[1;33m==\u001b[0m \u001b[1;33m(\u001b[0m\u001b[0mwords\u001b[0m\u001b[1;33m[\u001b[0m\u001b[0mj\u001b[0m\u001b[1;33m]\u001b[0m\u001b[1;33m)\u001b[0m\u001b[1;33m)\u001b[0m\u001b[1;33m:\u001b[0m\u001b[1;33m\u001b[0m\u001b[1;33m\u001b[0m\u001b[0m\n\u001b[0;32m     13\u001b[0m                 \u001b[0mcount\u001b[0m \u001b[1;33m=\u001b[0m \u001b[0mcount\u001b[0m \u001b[1;33m+\u001b[0m \u001b[1;36m1\u001b[0m\u001b[1;33m;\u001b[0m\u001b[1;33m\u001b[0m\u001b[1;33m\u001b[0m\u001b[0m\n",
      "\u001b[1;31mTypeError\u001b[0m: can only concatenate str (not \"int\") to str"
     ]
    }
   ],
   "source": []
  },
  {
   "cell_type": "code",
   "execution_count": 14,
   "id": "f1b6405c",
   "metadata": {},
   "outputs": [
    {
     "name": "stdout",
     "output_type": "stream",
     "text": [
      "Big Black Bug Bit A Big Black Dog On His Big Black Nose \n",
      "big black bug bit a big black dog on his big black nose \n"
     ]
    }
   ],
   "source": [
    "string_ = \"Big Black Bug Bit A Big Black Dog On His Big Black Nose \"\n",
    "string1 = string_.lower()\n",
    "print(string_)\n",
    "print(string1)"
   ]
  },
  {
   "cell_type": "code",
   "execution_count": null,
   "id": "34c24c55",
   "metadata": {},
   "outputs": [],
   "source": [
    "string = \"big black bug bit a big black dog on his big black nose\";  \n",
    "   \n",
    "#Converts the string into lowercase  \n",
    "string = string.lower();  \n",
    "   \n",
    "#Split the string into words using built-in function  \n",
    "words = string.split(\" \");  \n",
    "   \n",
    "print(\"Duplicate words in a given string : \");  \n",
    "for i in range(0, len(words)):  \n",
    "    count = 1;  \n",
    "    for j in range(i+1, len(words)):  \n",
    "        if(words[i] == (words[j])):  \n",
    "            count = count + 1;  \n",
    "            #Set words[j] to 0 to avoid printing visited word  \n",
    "            words[j] = \"0\";  \n",
    "              \n",
    "    #Displays the duplicate word if count is greater than 1  \n",
    "    if(count > 1 and words[i] != \"0\"):  \n",
    "        print(words[i]); "
   ]
  },
  {
   "cell_type": "code",
   "execution_count": 30,
   "id": "7f4f3048",
   "metadata": {},
   "outputs": [
    {
     "name": "stdout",
     "output_type": "stream",
     "text": [
      "15\n",
      "In :: Occured  1 Times.\n",
      "January :: Occured  1 Times.\n",
      "2021, :: Occured  1 Times.\n",
      "Musk :: Occured  1 Times.\n",
      "reportedly :: Occured  1 Times.\n",
      "surpassed :: Occured  1 Times.\n",
      "Jeff :: Occured  1 Times.\n",
      "Bezos :: Occured  1 Times.\n",
      "as :: Occured  1 Times.\n",
      "the :: Occured  1 Times.\n",
      "the :: Occured  2 Times.\n",
      "wealthiest :: Occured  1 Times.\n",
      "man :: Occured  1 Times.\n",
      "in :: Occured  1 Times.\n",
      "the :: Occured  1 Times.\n",
      "the :: Occured  2 Times.\n",
      "world. :: Occured  1 Times.\n"
     ]
    }
   ],
   "source": []
  },
  {
   "cell_type": "code",
   "execution_count": null,
   "id": "00b037a4",
   "metadata": {},
   "outputs": [],
   "source": [
    "import re\n",
    "\n",
    "\n",
    "def Convert(string):\n",
    "    li = list(string.split(\" \"))\n",
    "    return li\n",
    "\n",
    "with open('2.txt', \"r\") as file:\n",
    "            \n",
    "            data= file.read()\n",
    "            print(type(data))\n",
    "            print(\"-----------------\")\n",
    "            data = re.sub(\"\\n\",\" \", data)\n",
    "            \n",
    "            listdata=Convert(data)\n",
    "            listdata = listdata[:-2] # removing 2 null strings found at the end of the list\n",
    "            length = len(listdata)\n",
    "            print(\"Length is:\" ,length)\n",
    "            print(\"-----------------\")\n",
    "            for word in set(listdata):\n",
    "                word = word.lower()\n",
    "                count=0\n",
    "                for eachword in listdata:\n",
    "                    eachword = eachword.lower()\n",
    "                    if word==eachword:\n",
    "                        count+=1\n",
    "                if(count>1):\n",
    "                    print(f\"{word} occurs {count} times\")"
   ]
  }
 ],
 "metadata": {
  "kernelspec": {
   "display_name": "Python 3 (ipykernel)",
   "language": "python",
   "name": "python3"
  },
  "language_info": {
   "codemirror_mode": {
    "name": "ipython",
    "version": 3
   },
   "file_extension": ".py",
   "mimetype": "text/x-python",
   "name": "python",
   "nbconvert_exporter": "python",
   "pygments_lexer": "ipython3",
   "version": "3.9.7"
  }
 },
 "nbformat": 4,
 "nbformat_minor": 5
}
