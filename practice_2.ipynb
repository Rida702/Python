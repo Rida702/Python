{
 "cells": [
  {
   "cell_type": "code",
   "execution_count": 1,
   "id": "45cca7ba",
   "metadata": {},
   "outputs": [
    {
     "data": {
      "text/plain": [
       "4"
      ]
     },
     "execution_count": 1,
     "metadata": {},
     "output_type": "execute_result"
    }
   ],
   "source": [
    "list_2 = set([ True, True, 1,2,1,2,3,4,4])\n",
    "my_list = [ True, True, 1,2,1,2,3,4,4]\n",
    "my_list.count(1)"
   ]
  },
  {
   "cell_type": "code",
   "execution_count": 2,
   "id": "db62652f",
   "metadata": {},
   "outputs": [
    {
     "name": "stdout",
     "output_type": "stream",
     "text": [
      "1\n",
      "2\n",
      "1\n",
      "2\n",
      "1\n",
      "--------------\n",
      "1\n",
      "2\n",
      "1\n",
      "2\n",
      "1\n"
     ]
    }
   ],
   "source": [
    "list_2 = [\"pencil\", \"python\", \"mango\", \"python\", \"Word\"]\n",
    "l = 0\n",
    "\n",
    "#list_2.count(list_2[0])\n",
    "#list_2.count(list_2[1])\n",
    "#list_2.count(list_2[2])\n",
    "#list_2.count(list_2[3])\n",
    "#list_2.count(list_2[4])\n",
    "\n",
    "\n",
    "for item in list_2:\n",
    " #   print(\"{} is found {} times in list_2\".format(word, list_2.count(word)))\n",
    "    print(list_2.count(item))\n",
    "\n",
    "print(\"--------------\")\n",
    "\n",
    "for index in range(len(list_2)):\n",
    "    item = list_2[index]\n",
    "    print(list_2.count(item))\n",
    "    "
   ]
  },
  {
   "cell_type": "code",
   "execution_count": 3,
   "id": "2f3215fe",
   "metadata": {},
   "outputs": [
    {
     "name": "stdout",
     "output_type": "stream",
     "text": [
      "pencil is Unique\n",
      "mango is Unique\n",
      "Word is Unique\n"
     ]
    }
   ],
   "source": [
    "for item in list_2:\n",
    "    if(list_2.count(item) == 1 ):\n",
    "        print(item, \"is Unique\")\n",
    "    #else: \n",
    "        #print(item, \"is Not Unique\")"
   ]
  },
  {
   "cell_type": "code",
   "execution_count": 4,
   "id": "dbe6fa08",
   "metadata": {},
   "outputs": [
    {
     "name": "stdout",
     "output_type": "stream",
     "text": [
      "1\n",
      "2\n",
      "1\n",
      "2\n",
      "1\n",
      "--------------\n",
      "1\n",
      "2\n",
      "1\n",
      "2\n",
      "1\n"
     ]
    }
   ],
   "source": [
    "list_2 = [\"pencil\", \"python\", \"mango\", \"python\", \"Word\"]\n",
    "l = 0\n",
    "\n",
    "for item in list_2:\n",
    "    print(list_2.count(item))\n",
    "\n",
    "print(\"--------------\")\n",
    "\n",
    "for index in range(len(list_2)):\n",
    "    item = list_2[index]\n",
    "    print(list_2.count(item))"
   ]
  },
  {
   "cell_type": "code",
   "execution_count": 5,
   "id": "0eec7f62",
   "metadata": {},
   "outputs": [
    {
     "name": "stdout",
     "output_type": "stream",
     "text": [
      "{0, 2, 5, 8, 9}\n"
     ]
    },
    {
     "ename": "TypeError",
     "evalue": "'set' object is not subscriptable",
     "output_type": "error",
     "traceback": [
      "\u001b[1;31m---------------------------------------------------------------------------\u001b[0m",
      "\u001b[1;31mTypeError\u001b[0m                                 Traceback (most recent call last)",
      "\u001b[1;32m~\\AppData\\Local\\Temp/ipykernel_9500/40452895.py\u001b[0m in \u001b[0;36m<module>\u001b[1;34m\u001b[0m\n\u001b[0;32m      3\u001b[0m \u001b[1;33m\u001b[0m\u001b[0m\n\u001b[0;32m      4\u001b[0m \u001b[0mprint\u001b[0m\u001b[1;33m(\u001b[0m\u001b[0mlist2\u001b[0m\u001b[1;33m)\u001b[0m\u001b[1;33m\u001b[0m\u001b[1;33m\u001b[0m\u001b[0m\n\u001b[1;32m----> 5\u001b[1;33m \u001b[0mprint\u001b[0m\u001b[1;33m(\u001b[0m\u001b[0mlist2\u001b[0m\u001b[1;33m[\u001b[0m\u001b[1;36m0\u001b[0m\u001b[1;33m]\u001b[0m\u001b[1;33m,\u001b[0m\u001b[1;34m\"is the smallest no in list\"\u001b[0m\u001b[1;33m)\u001b[0m\u001b[1;33m\u001b[0m\u001b[1;33m\u001b[0m\u001b[0m\n\u001b[0m\u001b[0;32m      6\u001b[0m \u001b[0mprint\u001b[0m\u001b[1;33m(\u001b[0m\u001b[0mlist2\u001b[0m\u001b[1;33m[\u001b[0m\u001b[1;33m-\u001b[0m\u001b[1;36m1\u001b[0m\u001b[1;33m]\u001b[0m\u001b[1;33m,\u001b[0m\u001b[1;34m\"is the Largest no in list\"\u001b[0m\u001b[1;33m)\u001b[0m\u001b[1;33m\u001b[0m\u001b[1;33m\u001b[0m\u001b[0m\n",
      "\u001b[1;31mTypeError\u001b[0m: 'set' object is not subscriptable"
     ]
    }
   ],
   "source": [
    "list1=[8,5,9,2,0,9]\n",
    "list2=set(list1)\n",
    "\n",
    "print(list2)\n",
    "print(list2[0],\"is the smallest no in list\")\n",
    "print(list2[-1],\"is the Largest no in list\")"
   ]
  },
  {
   "cell_type": "code",
   "execution_count": 9,
   "id": "487701e3",
   "metadata": {},
   "outputs": [
    {
     "name": "stdout",
     "output_type": "stream",
     "text": [
      "['M', 'i', 'n', 'a', 'l']\n",
      "-------------\n"
     ]
    }
   ],
   "source": [
    "list2= ['M', 'i', 'n', 'a', 'l']\n",
    "print(list2)\n",
    "print(\"-------------\")\n",
    "\n",
    "my_list = []\n",
    "for i in list2:\n",
    "    my_list.append(i)\n",
    "    \n",
    "#print(list2[0]+list2[1]+list2[2]+list2[3]+list2[4])"
   ]
  },
  {
   "cell_type": "code",
   "execution_count": 10,
   "id": "42a2445f",
   "metadata": {},
   "outputs": [
    {
     "name": "stdout",
     "output_type": "stream",
     "text": [
      "['M', 'i', 'n', 'a', 'l']\n"
     ]
    }
   ],
   "source": [
    "print(my_list)"
   ]
  },
  {
   "cell_type": "code",
   "execution_count": null,
   "id": "f8253cc8",
   "metadata": {},
   "outputs": [],
   "source": [
    "#The end parameter in the print function is used to add any string.\n",
    "#At the end of the output of the print statement in python. \n",
    "#By default, the print function ends with a newline. \n",
    "#Passing the whitespace to the end parameter (end=' ') \n",
    "#indicates that the end character has to be identified by whitespace and not a newline"
   ]
  },
  {
   "cell_type": "code",
   "execution_count": 11,
   "id": "f5d20667",
   "metadata": {},
   "outputs": [
    {
     "name": "stdout",
     "output_type": "stream",
     "text": [
      "Original List:  [11, 33, 50]\n",
      "Single Integer:  113350\n"
     ]
    }
   ],
   "source": [
    "L = [11, 33, 50]\n",
    "print(\"Original List: \",L)\n",
    "x = int(\"\".join(map(str, L)))\n",
    "print(\"Single Integer: \",x)\n"
   ]
  },
  {
   "cell_type": "code",
   "execution_count": null,
   "id": "7540517a",
   "metadata": {},
   "outputs": [],
   "source": []
  }
 ],
 "metadata": {
  "kernelspec": {
   "display_name": "Python 3 (ipykernel)",
   "language": "python",
   "name": "python3"
  },
  "language_info": {
   "codemirror_mode": {
    "name": "ipython",
    "version": 3
   },
   "file_extension": ".py",
   "mimetype": "text/x-python",
   "name": "python",
   "nbconvert_exporter": "python",
   "pygments_lexer": "ipython3",
   "version": "3.9.7"
  }
 },
 "nbformat": 4,
 "nbformat_minor": 5
}
