{
 "cells": [
  {
   "cell_type": "markdown",
   "id": "b3a42af8",
   "metadata": {},
   "source": [
    "# Q1"
   ]
  },
  {
   "cell_type": "code",
   "execution_count": null,
   "id": "eb41410f",
   "metadata": {},
   "outputs": [],
   "source": [
    "while True:\n",
    "    num = input(\"Enter a Number: \")\n",
    "    if ( num == \"done\"):\n",
    "            break\n",
    "    if( int(num)==0 ):\n",
    "        print(\"Number is Zero.\")\n",
    "    elif ( int(num)<0 ):\n",
    "        print(\"Number is Negative.\")\n",
    "    else:\n",
    "        print(\"Number is Positive.\")"
   ]
  },
  {
   "cell_type": "markdown",
   "id": "6373cc0b",
   "metadata": {},
   "source": [
    "# Q2"
   ]
  },
  {
   "cell_type": "code",
   "execution_count": null,
   "id": "f8fb1b03",
   "metadata": {},
   "outputs": [],
   "source": [
    "while True:\n",
    "    num = input(\"Enter a Number: \")\n",
    "    if ( num== \"done\"):\n",
    "            break\n",
    "    if( int(num)%2==0 ):\n",
    "        print(\"Number is Even.\")\n",
    "    else:\n",
    "        print(\"Number is Odd.\")"
   ]
  },
  {
   "cell_type": "markdown",
   "id": "2ededf15",
   "metadata": {},
   "source": [
    "# Q3"
   ]
  },
  {
   "cell_type": "code",
   "execution_count": null,
   "id": "326bf21b",
   "metadata": {},
   "outputs": [],
   "source": [
    "while True:\n",
    "    num = input(\"Enter a number till the range you want to checck evens and odds:\")\n",
    "\n",
    "    if ( num== \"done\"):\n",
    "            break\n",
    "    elist = []\n",
    "    for i in range(int(num)):\n",
    "        if (i%2==0):  \n",
    "            print(\"Even No is: \", i)\n",
    "        else:\n",
    "            print(\"Odd No is: \", i)\n",
    "print(elist)"
   ]
  },
  {
   "cell_type": "code",
   "execution_count": null,
   "id": "a7dc591b",
   "metadata": {},
   "outputs": [],
   "source": [
    "print(elist)"
   ]
  },
  {
   "cell_type": "markdown",
   "id": "9aef118f",
   "metadata": {},
   "source": [
    "# Q4"
   ]
  },
  {
   "cell_type": "code",
   "execution_count": null,
   "id": "72e5ba7d",
   "metadata": {},
   "outputs": [],
   "source": [
    "while True:\n",
    "    input_1 = input(\"Enter a Character: \")\n",
    "\n",
    "    if ( input_1 == \"done\"):\n",
    "            break\n",
    "            \n",
    "    if (input_1[0].isdigit()):\n",
    "        print(\"Entered charater is a digit.\")\n",
    "    elif (input_1[0].isalpha()):\n",
    "        print(\"Entered character is an Alphabet.\")\n",
    "    else:\n",
    "        print(\"Entered character is a Punctuation Character.\")"
   ]
  },
  {
   "cell_type": "markdown",
   "id": "6319a748",
   "metadata": {},
   "source": [
    "# Q5"
   ]
  },
  {
   "cell_type": "code",
   "execution_count": null,
   "id": "a5882eb0",
   "metadata": {},
   "outputs": [],
   "source": [
    "while True: \n",
    "    input_1 = input(\"Enter a Character: \")\n",
    "\n",
    "    if ( input_1 == \"done\"):\n",
    "            break\n",
    "    \n",
    "    if (input_1[0] == 'a' or input_1[0] == 'e' or input_1[0] ==  'i' or input_1[0] ==  'o' or input_1[0] ==  'u'\n",
    "    or input_1[0] ==  'A' or input_1[0] == 'E' or input_1[0] ==  'I' or input_1[0] ==  'O' or input_1[0] ==  'U'):\n",
    "        print(\"Entered charater is a Vowel.\")\n",
    "    else:\n",
    "        print(\"Entered character is a consonant.\")"
   ]
  },
  {
   "cell_type": "markdown",
   "id": "dfaa9b05",
   "metadata": {},
   "source": [
    "# Q6 "
   ]
  },
  {
   "cell_type": "code",
   "execution_count": null,
   "id": "1734ae6b",
   "metadata": {},
   "outputs": [],
   "source": [
    "while True:\n",
    "    input_1 = input(\"Enter a String: \")\n",
    "    \n",
    "    if ( input_1 == \"done\"):\n",
    "            break\n",
    "            \n",
    "    l=-1\n",
    "    v=0\n",
    "    c=0\n",
    "    for i in input_1:\n",
    "        l+=1\n",
    "        if (input_1[l] == 'a' or input_1[l] == 'e' or input_1[l] ==  'i' or input_1[l] ==  'o' or input_1[l] ==  'u'\n",
    "        or input_1[l] ==  'A' or input_1[l] == 'E' or input_1[l] ==  'I' or input_1[l] ==  'O' or input_1[l] ==  'U'):\n",
    "            v+=1\n",
    "        else:\n",
    "            c+=1\n",
    "    print(\"Number of vowels are: \", v)\n",
    "    print(\"Number of consonants are: \", c)"
   ]
  },
  {
   "cell_type": "code",
   "execution_count": null,
   "id": "1ed3532c",
   "metadata": {},
   "outputs": [],
   "source": []
  },
  {
   "cell_type": "markdown",
   "id": "ade5f6d2",
   "metadata": {},
   "source": [
    "# Q7"
   ]
  },
  {
   "cell_type": "code",
   "execution_count": 27,
   "id": "a47861ba",
   "metadata": {},
   "outputs": [
    {
     "name": "stdout",
     "output_type": "stream",
     "text": [
      "Enter a Number: 3\n",
      "Entered Number is a prime number.\n",
      "Enter a Number: 4\n",
      "Entered Number is not a prime number.\n",
      "Enter a Number: 5\n",
      "Entered Number is a prime number.\n",
      "Enter a Number: 6\n",
      "Entered Number is not a prime number.\n",
      "Enter a Number: 2\n",
      "Entered Number is a prime number.\n",
      "Enter a Number: done\n"
     ]
    }
   ],
   "source": [
    "while True:\n",
    "    num = input(\"Enter a Number: \")\n",
    "\n",
    "    if ( num == \"done\"):\n",
    "            break\n",
    "    c=0\n",
    "    for i in range(int(num)):\n",
    "        if( int(num)%(i+1)==0):\n",
    "            #print(i+1)\n",
    "            c+=1\n",
    "    if (c<=2):\n",
    "        print(\"Entered Number is a prime number.\")\n",
    "    else:\n",
    "        print(\"Entered Number is not a prime number.\")"
   ]
  },
  {
   "cell_type": "code",
   "execution_count": null,
   "id": "b0c8884b",
   "metadata": {},
   "outputs": [],
   "source": []
  },
  {
   "cell_type": "code",
   "execution_count": null,
   "id": "72c3d41a",
   "metadata": {},
   "outputs": [],
   "source": [
    "import sympy\n",
    "num = int(input(\"Enter a Number: \"))\n",
    "print(\"Entered number is a prime Number: \",sympy.isprime(num))"
   ]
  },
  {
   "cell_type": "markdown",
   "id": "c336a346",
   "metadata": {},
   "source": [
    "# Q8"
   ]
  },
  {
   "cell_type": "code",
   "execution_count": null,
   "id": "5026e61c",
   "metadata": {},
   "outputs": [],
   "source": []
  },
  {
   "cell_type": "code",
   "execution_count": null,
   "id": "f5103978",
   "metadata": {},
   "outputs": [],
   "source": [
    "import sympy\n",
    "while True:\n",
    "    num = input(\"Enter the range to which you want to check prime numbers: \")\n",
    "\n",
    "    if ( num == \"done\"):\n",
    "            break\n",
    "            \n",
    "    for i in range(int(num)):\n",
    "        if ( sympy.isprime(i+1)==True ):\n",
    "            print( i+1 )"
   ]
  },
  {
   "cell_type": "markdown",
   "id": "775c3b6e",
   "metadata": {},
   "source": [
    "# Q9 "
   ]
  },
  {
   "cell_type": "code",
   "execution_count": null,
   "id": "b7c225a9",
   "metadata": {},
   "outputs": [],
   "source": [
    "while True:\n",
    "    year = input(\"Enter the year: \")\n",
    "    \n",
    "    if ( year == \"done\"):\n",
    "            break\n",
    "            \n",
    "    if( int(year)%4==0):\n",
    "        print(\"Entered year is a Leap year.\")\n",
    "    else:\n",
    "        print(\"Entered year is not a Leap year.\")"
   ]
  },
  {
   "cell_type": "markdown",
   "id": "b6302680",
   "metadata": {},
   "source": [
    "# Q10"
   ]
  },
  {
   "cell_type": "code",
   "execution_count": null,
   "id": "d994a6b0",
   "metadata": {},
   "outputs": [],
   "source": [
    "while True:\n",
    "    \n",
    "    p = input(\"Enter any string: \")\n",
    "    \n",
    "    if ( p == \"done\"):\n",
    "            break        \n",
    "    l = len(p)\n",
    "\n",
    "    n = int(l/2)\n",
    "    m=0\n",
    "    c=0\n",
    "    for i in range(n):\n",
    "        if ( p[m]==p[l-1]):\n",
    "            m+=1\n",
    "            c+=1\n",
    "            l-=1\n",
    "    if (c==n):\n",
    "        print(\"Entered string is a Palindrom.\")\n",
    "    else:\n",
    "        print(\"Entered string is Not a Palindrom.\")"
   ]
  },
  {
   "cell_type": "code",
   "execution_count": null,
   "id": "ef47bd8a",
   "metadata": {},
   "outputs": [],
   "source": []
  },
  {
   "cell_type": "markdown",
   "id": "cf04385d",
   "metadata": {},
   "source": [
    "# Q11"
   ]
  },
  {
   "cell_type": "code",
   "execution_count": 21,
   "id": "c34ea366",
   "metadata": {},
   "outputs": [
    {
     "name": "stdout",
     "output_type": "stream",
     "text": [
      "Enter a Number: done\n"
     ]
    }
   ],
   "source": [
    "while True:    \n",
    "    n = input(\"Enter a Number: \")\n",
    "    if (n == \"done\"):\n",
    "            break \n",
    "    f=1\n",
    "    for i in range(int(n)):\n",
    "        f = f*(i+1)\n",
    "        print(f)"
   ]
  },
  {
   "cell_type": "code",
   "execution_count": 14,
   "id": "c1946a53",
   "metadata": {},
   "outputs": [],
   "source": [
    "def recursive_factorial(num):\n",
    "    if num==1:\n",
    "        return 1\n",
    "    else:\n",
    "        return num*recursive_factorial(num-1)"
   ]
  },
  {
   "cell_type": "code",
   "execution_count": 20,
   "id": "9a97886b",
   "metadata": {},
   "outputs": [
    {
     "data": {
      "text/plain": [
       "720"
      ]
     },
     "execution_count": 20,
     "metadata": {},
     "output_type": "execute_result"
    }
   ],
   "source": [
    "recursive_factorial(6)"
   ]
  },
  {
   "cell_type": "code",
   "execution_count": 25,
   "id": "1a20672a",
   "metadata": {},
   "outputs": [],
   "source": [
    "def get_factorial( n ):\n",
    "    if n < 2:\n",
    "        return 1\n",
    "    else:\n",
    "        return n*get_factorial(n -1)"
   ]
  },
  {
   "cell_type": "code",
   "execution_count": 26,
   "id": "47f2af74",
   "metadata": {},
   "outputs": [
    {
     "data": {
      "text/plain": [
       "120"
      ]
     },
     "execution_count": 26,
     "metadata": {},
     "output_type": "execute_result"
    }
   ],
   "source": [
    "get_factorial(5)"
   ]
  },
  {
   "cell_type": "markdown",
   "id": "9c61e8a1",
   "metadata": {},
   "source": [
    "# Q12"
   ]
  },
  {
   "cell_type": "code",
   "execution_count": null,
   "id": "d9ba3b39",
   "metadata": {},
   "outputs": [],
   "source": []
  },
  {
   "cell_type": "code",
   "execution_count": null,
   "id": "4ee5eb0e",
   "metadata": {},
   "outputs": [],
   "source": []
  },
  {
   "cell_type": "code",
   "execution_count": null,
   "id": "acc92564",
   "metadata": {},
   "outputs": [],
   "source": [
    "while True:\n",
    "    n = input(\"Enter a Number: \")\n",
    "    \n",
    "    if ( n == \"done\"):\n",
    "            break \n",
    "            \n",
    "    f = []\n",
    "    for i in range(0,int(n)):\n",
    "        if (i<2):\n",
    "            f.append(i)\n",
    "            print(f[i])\n",
    "        else:\n",
    "            f.append(f[i-2] + f[i-1])\n",
    "            print(f[i])\n",
    "\n",
    "    print(f)"
   ]
  },
  {
   "cell_type": "markdown",
   "id": "413961ec",
   "metadata": {},
   "source": [
    "# Q13"
   ]
  },
  {
   "cell_type": "code",
   "execution_count": null,
   "id": "a2762974",
   "metadata": {},
   "outputs": [],
   "source": [
    "while True:   \n",
    "    marks = input(\"Enter percentage of Marks: \")\n",
    "\n",
    "    if ( marks == \"done\"):\n",
    "        break \n",
    "\n",
    "    if ( int(marks)>=80 ):\n",
    "        print(\"A Grade\")\n",
    "    elif ( int(marks)>=60 ):\n",
    "        print(\"B Grade\")\n",
    "    elif ( int(marks)>=40 ):\n",
    "        print(\"C Grade\")\n",
    "    else: \n",
    "        print(\"D Grade\")"
   ]
  },
  {
   "cell_type": "markdown",
   "id": "a8dd7d9a",
   "metadata": {},
   "source": [
    "# Q14"
   ]
  },
  {
   "cell_type": "code",
   "execution_count": null,
   "id": "7c4710e9",
   "metadata": {},
   "outputs": [],
   "source": [
    "while True:\n",
    "    x = input(\"Enter X-coordiante: \")\n",
    "    y = input(\"Enter Y-coordiante: \")\n",
    "    z = input(\"Enter Z-coordiante: \")\n",
    "\n",
    "    if ( x == \"done\"):\n",
    "        break\n",
    "        \n",
    "    if ( int(x)==0 and int(y)==0 and int(z)==0 ):\n",
    "        print(\"The points lie in Origin.\")\n",
    "    elif ( int(x)!=0 and int(y)==0 and int(z)==0 ):\n",
    "        print(\"The points lie on X-axis.\")\n",
    "    elif ( int(x)==0 and int(y)!=0 and int(z)==0 ):\n",
    "        print(\"The points lie on Y-axis.\")\n",
    "    elif ( int(x)==0 and int(y)==0 and int(z)!=0 ):\n",
    "        print(\"The points lie on Z-axis.\")\n",
    "    elif ( int(x)!=0 and int(y)!=0 and int(z)==0 ):\n",
    "        print(\"The points lie on XY-axis.\")\n",
    "    elif ( int(x)==0 and int(y)!=0 and int(z)!=0 ):\n",
    "        print(\"The points lie on YZ-axis.\")\n",
    "    elif ( int(x)!=0 and int(y)==0 and int(z)!=0 ):\n",
    "        print(\"The points lie on XZ-axis.\")\n",
    "    else:\n",
    "        print(\"The points lie on XYZ-axis.\")"
   ]
  },
  {
   "cell_type": "markdown",
   "id": "36a37dbf",
   "metadata": {},
   "source": [
    "# Q15"
   ]
  },
  {
   "cell_type": "code",
   "execution_count": null,
   "id": "88016297",
   "metadata": {},
   "outputs": [],
   "source": [
    "import math\n",
    "\n",
    "while True:\n",
    "    \n",
    "    x1 = input(\"Enter x1: \")\n",
    "    \n",
    "    if ( x1 == \"done\"):\n",
    "        break\n",
    "        \n",
    "    y1 = input(\"Enter y1: \")\n",
    "    x2 = input(\"Enter x2: \")\n",
    "    y2 = input(\"Enter y2: \")\n",
    "    \n",
    "    s = (int(x2)-int(x1))*2 + (int(y2)-int(y1))*2 \n",
    "    d = math.sqrt(s)\n",
    "    print(d)"
   ]
  },
  {
   "cell_type": "markdown",
   "id": "84f665d7",
   "metadata": {},
   "source": [
    "## Q16"
   ]
  },
  {
   "cell_type": "code",
   "execution_count": null,
   "id": "9f0b5ad8",
   "metadata": {},
   "outputs": [],
   "source": [
    "while True:\n",
    "    \n",
    "    a = input(\"Enter 1st of triangle: \")\n",
    "    b = input(\"Enter 2nd of triangle: \")\n",
    "    c = input(\"Enter 3rd of triangle: \")\n",
    "    \n",
    "    if ( a == \"done\"):\n",
    "        break\n",
    "\n",
    "    if ( int(a)==int(b)==int(c) ):\n",
    "        print(\"The Triangle is an Equilateral triangle.\")\n",
    "    elif ( int(a)!=int(b)!=int(c) ):\n",
    "        print(\"The Triangle is an Scalene triangle.\")\n",
    "    else:\n",
    "        print(\"The Triangle is an Isosceles triangle.\")"
   ]
  },
  {
   "cell_type": "markdown",
   "id": "0399a5b3",
   "metadata": {},
   "source": [
    "# Q17"
   ]
  },
  {
   "cell_type": "code",
   "execution_count": null,
   "id": "3a0aeceb",
   "metadata": {},
   "outputs": [],
   "source": [
    "c = 0\n",
    "s = 0\n",
    "while True:\n",
    "    n = input(\"Enter a Number: \")\n",
    "    if ( n == \"done\"):\n",
    "            break\n",
    "    if ( n[0].isdigit() == False  ):\n",
    "        print(\"Enter Appropriate Number.\")\n",
    "        continue\n",
    "    else:\n",
    "        c += 1\n",
    "        s += int(n)"
   ]
  },
  {
   "cell_type": "code",
   "execution_count": null,
   "id": "51e34398",
   "metadata": {},
   "outputs": [],
   "source": [
    "print(\"Sum of Entered Numbers is: \", s)\n",
    "print(\"Count of Entered Numbers is: \", c)\n",
    "\n",
    "avg = float(s/c)\n",
    "\n",
    "print(\"Average of Entered Numbers is: \", avg)"
   ]
  },
  {
   "cell_type": "code",
   "execution_count": null,
   "id": "c898d22f",
   "metadata": {},
   "outputs": [],
   "source": []
  }
 ],
 "metadata": {
  "kernelspec": {
   "display_name": "Python 3 (ipykernel)",
   "language": "python",
   "name": "python3"
  },
  "language_info": {
   "codemirror_mode": {
    "name": "ipython",
    "version": 3
   },
   "file_extension": ".py",
   "mimetype": "text/x-python",
   "name": "python",
   "nbconvert_exporter": "python",
   "pygments_lexer": "ipython3",
   "version": "3.9.7"
  }
 },
 "nbformat": 4,
 "nbformat_minor": 5
}
