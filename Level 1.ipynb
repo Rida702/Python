{
 "cells": [
  {
   "cell_type": "markdown",
   "id": "1e7f6a15",
   "metadata": {},
   "source": [
    "# Q1"
   ]
  },
  {
   "cell_type": "code",
   "execution_count": null,
   "id": "eeda3cfb",
   "metadata": {},
   "outputs": [],
   "source": [
    "name = input(\"Enter Your Name: \")\n",
    "print(\"Hello \",name)"
   ]
  },
  {
   "cell_type": "markdown",
   "id": "864c073d",
   "metadata": {},
   "source": [
    "# Q2"
   ]
  },
  {
   "cell_type": "code",
   "execution_count": null,
   "id": "0653cf4b",
   "metadata": {},
   "outputs": [],
   "source": [
    "hours = int(input(\"Enter Hours: \"))\n",
    "rate = float(input(\"Enter Rate: \"))\n",
    "print(\"Pay :\", hours*rate)"
   ]
  },
  {
   "cell_type": "markdown",
   "id": "72f12dd2",
   "metadata": {},
   "source": [
    "# Q3"
   ]
  },
  {
   "cell_type": "code",
   "execution_count": null,
   "id": "f240683d",
   "metadata": {},
   "outputs": [],
   "source": [
    "width = 17\n",
    "print(type(width))\n",
    "height = 12.0\n",
    "print(type(height))\n",
    "answer = width//2\n",
    "print(answer)\n",
    "print(type(answer))\n",
    "answer = width/2.0\n",
    "print(answer)\n",
    "print(type(answer))\n",
    "answer = height/3\n",
    "print(answer)\n",
    "print(type(answer))\n",
    "1 + 2 * 5"
   ]
  },
  {
   "cell_type": "markdown",
   "id": "94ba7abe",
   "metadata": {},
   "source": [
    "# Q4"
   ]
  },
  {
   "cell_type": "code",
   "execution_count": null,
   "id": "3b8682e2",
   "metadata": {},
   "outputs": [],
   "source": [
    "temp = float(input(\"Enter temperature in Celcius: \"))\n",
    "print(\"Temperature in Fahrenheit is:\", (temp*1.8) + 32 )"
   ]
  },
  {
   "cell_type": "markdown",
   "id": "0cca2bed",
   "metadata": {},
   "source": [
    "# Q5"
   ]
  },
  {
   "cell_type": "code",
   "execution_count": null,
   "id": "ad769552",
   "metadata": {},
   "outputs": [],
   "source": [
    "import math\n",
    "number = int(input(\"Enter a Number:\"))\n",
    "square_r = math.sqrt(number)\n",
    "print(square_r)\n",
    "\n",
    "if (square_r*square_r == number):\n",
    "    print(\"Entered Number is Perfect square.\")\n",
    "else:\n",
    "    print (\"Entered Number is not Perfect square.\")"
   ]
  },
  {
   "cell_type": "markdown",
   "id": "9addccbc",
   "metadata": {},
   "source": [
    "# Q5_1"
   ]
  },
  {
   "cell_type": "code",
   "execution_count": null,
   "id": "4b0fa5bb",
   "metadata": {},
   "outputs": [],
   "source": [
    "num_1=int(input(\"Enter number to check for perfect square: \"))\n",
    "num_2 = num_1//2\n",
    "for i in range(num_2):\n",
    "    if(i*i==num_1):\n",
    "        print(\"Entered Number is Perfect square.\")\n",
    "else:\n",
    "    print(\"Entered Number is not Perfect square.\")"
   ]
  },
  {
   "cell_type": "markdown",
   "id": "4dbc5c65",
   "metadata": {},
   "source": [
    "# Q6"
   ]
  },
  {
   "cell_type": "code",
   "execution_count": null,
   "id": "eabd7215",
   "metadata": {},
   "outputs": [],
   "source": [
    "p = float(input(\"Enter principle: \"))\n",
    "r = float(input(\"Enter Rate of interest: \"))\n",
    "t = int(input(\"Enter time Duration: \"))\n",
    "interest = float(p*r*t)\n",
    "print(\"Interest Rate is:\" ,interest)\n",
    "round(interest)\n",
    "print(interest)"
   ]
  },
  {
   "cell_type": "markdown",
   "id": "e4f959a9",
   "metadata": {},
   "source": [
    "# Q7"
   ]
  },
  {
   "cell_type": "code",
   "execution_count": null,
   "id": "589f8eaf",
   "metadata": {},
   "outputs": [],
   "source": [
    "complex_num = 6 + 9j\n",
    "print(complex_num)\n",
    "#print(type(complex_num))\n",
    "a = complex(4,5)\n",
    "b = 6 + 4j\n",
    "print (\"Addition : \", a+b)\n",
    "Addition = a+b\n",
    "print(\"Addition :\", Addition)\n",
    "a = -3 + 7j\n",
    "b = complex (4,-9)\n",
    "print (\"Subtraction: \", a-b)\n",
    "Subtraction = a-b\n",
    "print(\"Subtraction: \", Subtraction)\n",
    "a = -3 + 7j\n",
    "#you cant use i\n",
    "b = complex (4,-9)\n",
    "print (\"Multiplication: \", a*b)\n",
    "Multiply = a*b\n",
    "print(\"Multiplication: \", Multiply)"
   ]
  },
  {
   "cell_type": "markdown",
   "id": "898979bc",
   "metadata": {},
   "source": [
    "# Q8"
   ]
  },
  {
   "cell_type": "code",
   "execution_count": null,
   "id": "4cc784bf",
   "metadata": {},
   "outputs": [],
   "source": [
    "my_string = \"Enter the letter in the title case.\"\n",
    "my_string.title()"
   ]
  },
  {
   "cell_type": "markdown",
   "id": "d500228c",
   "metadata": {},
   "source": [
    "# Q9"
   ]
  },
  {
   "cell_type": "code",
   "execution_count": null,
   "id": "ca299af5",
   "metadata": {},
   "outputs": [],
   "source": []
  },
  {
   "cell_type": "markdown",
   "id": "d75cb8c8",
   "metadata": {},
   "source": [
    "# Strings"
   ]
  },
  {
   "cell_type": "markdown",
   "id": "6b1cb8b0",
   "metadata": {},
   "source": [
    "# Q1"
   ]
  },
  {
   "cell_type": "code",
   "execution_count": null,
   "id": "c73713a0",
   "metadata": {},
   "outputs": [],
   "source": [
    "s = 'X-DSPAM-Confidence:0.8475'\n",
    "split_1 = s.split(\":\")\n",
    "print(split_1)\n",
    "print(split_1[1])\n",
    "print(type(split_1[1]))\n",
    "float(split_1[1])\n",
    "#print(type(split_1[1]))"
   ]
  },
  {
   "cell_type": "markdown",
   "id": "f72746df",
   "metadata": {},
   "source": [
    "# Q2"
   ]
  },
  {
   "cell_type": "code",
   "execution_count": null,
   "id": "7d1b838b",
   "metadata": {},
   "outputs": [],
   "source": [
    "my_str = \"Welcome to the Course on Data Science.\"\n",
    "new_str = my_str.split(\" \")\n",
    "print(new_str)\n",
    "print(my_str[0:10])\n",
    "my_str1 = new_str[0]+\" \"+new_str[6]\n",
    "print(my_str1)"
   ]
  },
  {
   "cell_type": "markdown",
   "id": "8b95319e",
   "metadata": {},
   "source": [
    "# Q3"
   ]
  },
  {
   "cell_type": "code",
   "execution_count": null,
   "id": "b9bde9b3",
   "metadata": {},
   "outputs": [],
   "source": [
    " my_str = \"Welcome to the Course on Data Science.\"\n",
    "#my_str.count(\"e\")\n",
    "print(\"Count of alphabet is: \", my_str.count(\"e\"))"
   ]
  },
  {
   "cell_type": "markdown",
   "id": "c7e367e9",
   "metadata": {},
   "source": [
    "# Q4"
   ]
  },
  {
   "cell_type": "code",
   "execution_count": null,
   "id": "383aae8a",
   "metadata": {},
   "outputs": [],
   "source": [
    "my_str = \"Welcome to to the Course to on Data Science.\"\n",
    "print(\"Count of words is: \", my_str.count(\"to\"))"
   ]
  },
  {
   "cell_type": "markdown",
   "id": "d45d9624",
   "metadata": {},
   "source": [
    "# Q5"
   ]
  },
  {
   "cell_type": "code",
   "execution_count": null,
   "id": "0c1d22b1",
   "metadata": {},
   "outputs": [],
   "source": [
    "my_str = \"I am a student\"\n",
    "print((my_str[0:2])+\" \"+(my_str[-2:]))"
   ]
  },
  {
   "cell_type": "markdown",
   "id": "7079a82d",
   "metadata": {},
   "source": [
    "# Next Assignment 3/14/2022"
   ]
  },
  {
   "cell_type": "markdown",
   "id": "2ad47e26",
   "metadata": {},
   "source": [
    "# Lists "
   ]
  },
  {
   "cell_type": "markdown",
   "id": "16a60b99",
   "metadata": {},
   "source": [
    "# Q1"
   ]
  },
  {
   "cell_type": "code",
   "execution_count": null,
   "id": "62791a26",
   "metadata": {},
   "outputs": [],
   "source": [
    "list_1 = [ 12, 13, 14, 15, 16 ]\n",
    "print(list_1)\n",
    "\n",
    "list_1.remove(12)\n",
    "list_1.remove(16)\n",
    "\n",
    "list_2 = list_1\n",
    "\n",
    "print(list_2)"
   ]
  },
  {
   "cell_type": "code",
   "execution_count": null,
   "id": "6c5b9e2d",
   "metadata": {},
   "outputs": [],
   "source": [
    "list_1 = [ 12, 13, 14, 15, 16 ]\n",
    "print(list_1)\n",
    "\n",
    "del list_1[0]\n",
    "del list_1[-1]\n",
    "\n",
    "list_2 = list_1\n",
    "\n",
    "print(list_2)"
   ]
  },
  {
   "cell_type": "markdown",
   "id": "4b23cd73",
   "metadata": {},
   "source": [
    "# Q2"
   ]
  },
  {
   "cell_type": "code",
   "execution_count": null,
   "id": "b81380ef",
   "metadata": {},
   "outputs": [],
   "source": [
    "list_2 = [\"pencil\", \"python\", \"mango\", \"python\", \"Word\"]\n",
    "l = 0\n",
    "\n",
    "\n",
    "for item in list_2:\n",
    "    print(list_2.count(item))\n",
    "\n",
    "print(\"--------------\")\n",
    "\n",
    "for index in range(len(list_2)):\n",
    "    item = list_2[index]\n",
    "    print(list_2.count(item))"
   ]
  },
  {
   "cell_type": "code",
   "execution_count": null,
   "id": "d653c476",
   "metadata": {},
   "outputs": [],
   "source": [
    "for item in list_2:\n",
    "    if(list_2.count(item) == 1 ):\n",
    "        print(item, \"is Unique\")"
   ]
  },
  {
   "cell_type": "markdown",
   "id": "268b428c",
   "metadata": {},
   "source": [
    "# Q3"
   ]
  },
  {
   "cell_type": "code",
   "execution_count": null,
   "id": "6a62ac98",
   "metadata": {},
   "outputs": [],
   "source": [
    "li = [12,13,43,67]\n",
    "sum(li)\n"
   ]
  },
  {
   "cell_type": "code",
   "execution_count": null,
   "id": "d8bf7a57",
   "metadata": {},
   "outputs": [],
   "source": [
    "li = [12,13,43,67]\n",
    "li.insert(56,4)\n",
    "print(li)\n",
    "\n",
    "print(\"--------------\")\n",
    "\n",
    "li = [12,13,43,67]\n",
    "li.append(98)\n",
    "print(li)"
   ]
  },
  {
   "cell_type": "markdown",
   "id": "8985c4a5",
   "metadata": {},
   "source": [
    "# Q4"
   ]
  },
  {
   "cell_type": "code",
   "execution_count": null,
   "id": "bcd5825d",
   "metadata": {},
   "outputs": [],
   "source": [
    "list1=[8,5,9,2,0,9]\n",
    "\n",
    "print(max(list1))\n",
    "print(min(list1))"
   ]
  },
  {
   "cell_type": "markdown",
   "id": "697c343a",
   "metadata": {},
   "source": [
    "# Q5"
   ]
  },
  {
   "cell_type": "code",
   "execution_count": null,
   "id": "1ad9860b",
   "metadata": {},
   "outputs": [],
   "source": [
    "list1=[8,5,9,2,0,9]\n",
    "print(list1)\n",
    "list2=set(list1)\n",
    "print(list2)"
   ]
  },
  {
   "cell_type": "markdown",
   "id": "6adf3ce0",
   "metadata": {},
   "source": [
    "# Q6"
   ]
  },
  {
   "cell_type": "code",
   "execution_count": null,
   "id": "19d488c2",
   "metadata": {},
   "outputs": [],
   "source": [
    "list1=set([8,5,9,2,0,9])\n",
    "list2=set([8,5,6,7,8,9])\n",
    "\n",
    "list3 = list1.intersection(list2)\n",
    "print(list3)\n",
    "\n",
    "if ( len(list3) >=1 ):\n",
    "    print(\"lists are same\")"
   ]
  },
  {
   "cell_type": "markdown",
   "id": "4074cda1",
   "metadata": {},
   "source": [
    "# Q7"
   ]
  },
  {
   "cell_type": "code",
   "execution_count": null,
   "id": "81a69322",
   "metadata": {},
   "outputs": [],
   "source": [
    "list2= ['M', 'i', 'n', 'a', 'l']\n",
    "print(list2)\n",
    "print(\"-------------\")\n",
    "\n",
    "my_list = \"\"\n",
    "for i in list2:\n",
    "    my_list = my_list + i"
   ]
  },
  {
   "cell_type": "code",
   "execution_count": null,
   "id": "5b28a449",
   "metadata": {},
   "outputs": [],
   "source": [
    "print(my_list)"
   ]
  },
  {
   "cell_type": "markdown",
   "id": "dd4e7fe9",
   "metadata": {},
   "source": [
    "# Q8"
   ]
  },
  {
   "cell_type": "code",
   "execution_count": null,
   "id": "0383a4d3",
   "metadata": {},
   "outputs": [],
   "source": [
    "list1=set([8,5,9,2,0,9])\n",
    "list2=set([8,5,6,7,8,9])\n",
    "\n",
    "\n",
    "if (list1==list2):\n",
    "    print(True, \"The given two lists are identical\")\n",
    "    \n",
    "else:\n",
    "    print(False, \"The given two lists are not identical\")"
   ]
  },
  {
   "cell_type": "markdown",
   "id": "3478c0c4",
   "metadata": {},
   "source": [
    "# Q9"
   ]
  },
  {
   "cell_type": "code",
   "execution_count": null,
   "id": "de5efe2a",
   "metadata": {},
   "outputs": [],
   "source": [
    "list1=set([8,5,9,2,0,9])\n",
    "list2=set([8,5,6,7,8,9])\n",
    "\n",
    "list3 = list1.difference(list2)\n",
    "print(list3)\n",
    "\n",
    "list4 = list2.difference(list1)\n",
    "print(list4)"
   ]
  },
  {
   "cell_type": "markdown",
   "id": "4798ae20",
   "metadata": {},
   "source": [
    "# Q10"
   ]
  },
  {
   "cell_type": "code",
   "execution_count": null,
   "id": "0a96ead3",
   "metadata": {},
   "outputs": [],
   "source": [
    "list1 = [8,5,9,2,0,9,5]\n",
    "print(list1)\n",
    "print(\"----------------\")\n",
    "l = 0\n",
    "for item in list1:\n",
    "    #print(list_1.count(list_1[item]))\n",
    "    print (list1[l], \" occured \", list1.count(list1[l]), \" times\")\n",
    "    l += 1\n",
    "    print(\"----------------\")"
   ]
  },
  {
   "cell_type": "markdown",
   "id": "fff749e7",
   "metadata": {},
   "source": [
    "# Q11"
   ]
  },
  {
   "cell_type": "code",
   "execution_count": null,
   "id": "dd0df7c4",
   "metadata": {},
   "outputs": [],
   "source": [
    "list_1 = [ [12,13,14], [17,18,19], [15,16], [1,2,3], [9,0,8] ]\n",
    "print(sum(list_1[0]))\n",
    "print(sum(list_1[1]))\n",
    "print(sum(list_1[2]))\n",
    "print(sum(list_1[3]))\n",
    "print(sum(list_1[4]))\n",
    "maximum = 0\n",
    "num = 0\n",
    "\n",
    "for i in list_1:\n",
    "    if ( sum(i) > maximum ):\n",
    "        num = num + 1\n",
    "        maximum = sum(i)\n",
    "    "
   ]
  },
  {
   "cell_type": "code",
   "execution_count": null,
   "id": "166ddad7",
   "metadata": {},
   "outputs": [],
   "source": [
    "#list number 3 has maximum Sum\n",
    "print(num)\n",
    "print(maximum)"
   ]
  },
  {
   "cell_type": "markdown",
   "id": "1115f2de",
   "metadata": {},
   "source": [
    "# Q12"
   ]
  },
  {
   "cell_type": "code",
   "execution_count": null,
   "id": "5f52448b",
   "metadata": {},
   "outputs": [],
   "source": [
    "list1 = [\"is\", \"a\", \"list\"]\n",
    "list1.insert( 0 , \"this\")\n",
    "list1"
   ]
  },
  {
   "cell_type": "markdown",
   "id": "2b8a7956",
   "metadata": {},
   "source": [
    "# Q13"
   ]
  },
  {
   "cell_type": "code",
   "execution_count": null,
   "id": "c1718fcd",
   "metadata": {},
   "outputs": [],
   "source": [
    "str1 = \"Firefox\"\n",
    "list1 = []\n",
    "\n",
    "for i in str1:\n",
    "    list1.append(i)"
   ]
  },
  {
   "cell_type": "code",
   "execution_count": null,
   "id": "e9f23eb8",
   "metadata": {},
   "outputs": [],
   "source": [
    "print(list1)"
   ]
  },
  {
   "cell_type": "markdown",
   "id": "a3a6af7e",
   "metadata": {},
   "source": [
    "# Q14"
   ]
  },
  {
   "cell_type": "code",
   "execution_count": null,
   "id": "b4c13f88",
   "metadata": {},
   "outputs": [],
   "source": [
    "list1= [8,5,9,2,0,9]\n",
    "list2= [8,5,6,7,8,9,5,6,7]\n",
    "list3 = []\n",
    "for i in range(len(list1)):\n",
    "    list3 = print(str(list1[i])+ \" \" +str(list2[i]) )\n",
    "    "
   ]
  },
  {
   "cell_type": "markdown",
   "id": "9b314f19",
   "metadata": {},
   "source": [
    "# Q15"
   ]
  },
  {
   "cell_type": "code",
   "execution_count": null,
   "id": "2ee2e1f6",
   "metadata": {},
   "outputs": [],
   "source": []
  },
  {
   "cell_type": "markdown",
   "id": "52c51dbd",
   "metadata": {},
   "source": [
    "# Q16"
   ]
  },
  {
   "cell_type": "code",
   "execution_count": null,
   "id": "d37094f0",
   "metadata": {},
   "outputs": [],
   "source": [
    "list1 = [25, 12, 2]\n",
    "print(list1)\n",
    "print(\"-------------\")\n",
    "\n",
    "for i in list1:\n",
    "    my_str  = int(\"\".join(map(str, list1)))\n",
    "    "
   ]
  },
  {
   "cell_type": "code",
   "execution_count": null,
   "id": "bbb3824d",
   "metadata": {},
   "outputs": [],
   "source": [
    "print(my_str)"
   ]
  },
  {
   "cell_type": "markdown",
   "id": "d69c6ddc",
   "metadata": {},
   "source": [
    "# Tuples"
   ]
  },
  {
   "cell_type": "markdown",
   "id": "12ca848e",
   "metadata": {},
   "source": [
    "# Q1"
   ]
  },
  {
   "cell_type": "code",
   "execution_count": 1,
   "id": "95811b97",
   "metadata": {},
   "outputs": [
    {
     "name": "stdout",
     "output_type": "stream",
     "text": [
      "(1, 2, 3)\n",
      "------------------\n",
      "((1,),)\n",
      "((1,), (2,))\n",
      "((1,), (2,), (3,))\n"
     ]
    }
   ],
   "source": [
    "tuple1 = (1,2,3)\n",
    "print(tuple1)\n",
    "\n",
    "tuple2 = ()\n",
    "l=0\n",
    "#print(tuple1[0])\n",
    "print(\"------------------\")\n",
    "\n",
    "for i in tuple1:\n",
    "    tuple2+= ((tuple1[l],),)\n",
    "    l+=1\n",
    "    print(tuple2)"
   ]
  },
  {
   "cell_type": "code",
   "execution_count": null,
   "id": "3e089f01",
   "metadata": {},
   "outputs": [],
   "source": []
  },
  {
   "cell_type": "markdown",
   "id": "f17e2dc4",
   "metadata": {},
   "source": [
    "# Q2"
   ]
  },
  {
   "cell_type": "code",
   "execution_count": null,
   "id": "87e4e573",
   "metadata": {},
   "outputs": [],
   "source": [
    "li = [ 1,2,'M',True,(1,2,3)]\n",
    "print(type(li[0]))\n",
    "print(type(li[2]))\n",
    "print(type(li[3]))\n",
    "print(type(li[4]))\n",
    "l = -1\n",
    "#l = 0\n",
    "emp_tuple = ()\n",
    "for i in li:\n",
    "    l = l + 1\n",
    "    if (type(li[l]) == tuple):\n",
    "        emp_tuple = li[l]\n",
    "        #l+=1\n",
    "        print(emp_tuple)"
   ]
  },
  {
   "cell_type": "code",
   "execution_count": null,
   "id": "9137bfc6",
   "metadata": {},
   "outputs": [],
   "source": []
  },
  {
   "cell_type": "markdown",
   "id": "d7f40620",
   "metadata": {},
   "source": [
    "# Q3"
   ]
  },
  {
   "cell_type": "code",
   "execution_count": null,
   "id": "2c8a51aa",
   "metadata": {},
   "outputs": [],
   "source": [
    "tup1 = (1,2,3,4,5)\n",
    "tup2 = (6,7,8)\n",
    "l=0\n",
    "tup3 =()\n",
    "for i in tup2:\n",
    "    tup3 += (tup1[l]+tup2[l],)\n",
    "    l+=1\n",
    "    print(tup3)"
   ]
  },
  {
   "cell_type": "code",
   "execution_count": null,
   "id": "27e33e30",
   "metadata": {},
   "outputs": [],
   "source": []
  },
  {
   "cell_type": "markdown",
   "id": "86fbec13",
   "metadata": {},
   "source": [
    "# Q4"
   ]
  },
  {
   "cell_type": "code",
   "execution_count": null,
   "id": "20c06576",
   "metadata": {},
   "outputs": [],
   "source": [
    "tup1 = (1,2,3,4,5)\n",
    "\n",
    "l=0\n",
    "tup3 =()\n",
    "for i in tup1:\n",
    "    tup3 += (tup1[l]*3,)\n",
    "    l+=1\n",
    "    print(tup3)"
   ]
  },
  {
   "cell_type": "markdown",
   "id": "3dc53fab",
   "metadata": {},
   "source": [
    "# Sets"
   ]
  },
  {
   "cell_type": "markdown",
   "id": "78a8c3ad",
   "metadata": {},
   "source": [
    "# Q1"
   ]
  },
  {
   "cell_type": "code",
   "execution_count": null,
   "id": "771cabe9",
   "metadata": {},
   "outputs": [],
   "source": [
    "set1 = {1,2,3,4,5}\n",
    "print(4 in set1)\n",
    "print(2 in set1)\n",
    "print(9 in set1)\n",
    "print(1 in set1)\n",
    "print(8 in set1)"
   ]
  },
  {
   "cell_type": "markdown",
   "id": "79a2f494",
   "metadata": {},
   "source": [
    "# Q2"
   ]
  },
  {
   "cell_type": "code",
   "execution_count": null,
   "id": "4d4173d3",
   "metadata": {},
   "outputs": [],
   "source": [
    "list1 = [1,2.1,2.4,2,4,5,6,7,8,4,3,5,3,8,9,0,1,0,4]\n",
    "print(list1)\n",
    "\n",
    "print(\"---------------\")\n",
    "\n",
    "list2 = set(list1)\n",
    "print(list2)"
   ]
  },
  {
   "cell_type": "markdown",
   "id": "0255fa51",
   "metadata": {},
   "source": [
    "# Q3"
   ]
  },
  {
   "cell_type": "code",
   "execution_count": null,
   "id": "b445f704",
   "metadata": {
    "scrolled": true
   },
   "outputs": [],
   "source": [
    "list1 = [\"192.168. 1.1\", \"192.168. 1.2\"]\n",
    "list2 = [\"192.168. 1.2\", \"192.168. 1.1\"]\n",
    "l=0\n",
    "k=-1\n",
    "for i in list1:\n",
    "    k+=1\n",
    "    l=0\n",
    "    for j in list2:\n",
    "        if (list1[k]==list2[l]):\n",
    "            print(l+1, \":IP is same\")\n",
    "        l+=1"
   ]
  },
  {
   "cell_type": "markdown",
   "id": "fc00d383",
   "metadata": {},
   "source": [
    "# Dictionaries"
   ]
  },
  {
   "cell_type": "markdown",
   "id": "b395f595",
   "metadata": {},
   "source": [
    "# Q1"
   ]
  },
  {
   "cell_type": "code",
   "execution_count": null,
   "id": "8589b85e",
   "metadata": {},
   "outputs": [],
   "source": [
    "dic = {'Roll No 1': '45' , 'Roll No 2': '47', 'Roll No 3': '49'}\n",
    "print(dic.keys())\n",
    "print(dic.values())\n",
    "print(dic['Roll No 1'])\n",
    "print(dic['Roll No 2'])\n",
    "print(dic['Roll No 3'])"
   ]
  },
  {
   "cell_type": "markdown",
   "id": "5ca04ac9",
   "metadata": {},
   "source": [
    "# Q2"
   ]
  },
  {
   "cell_type": "code",
   "execution_count": null,
   "id": "937c2735",
   "metadata": {},
   "outputs": [
    {
     "name": "stdout",
     "output_type": "stream",
     "text": [
      "Enter the item You want to buy: \n"
     ]
    }
   ],
   "source": [
    "comm = {\n",
    "'chair' : 10,\n",
    "'table' : 22,\n",
    "'sofa-set': 2,\n",
    "'tv-unit': 0,\n",
    "'fan': 10,\n",
    "'table-lamp': 0,\n",
    "'iron-box': 0,\n",
    "'bed': 30\n",
    "}\n",
    "\n",
    "price = {\n",
    "'chair': 2365,\n",
    "'table': 37752,\n",
    "'sofa-set': 23299,\n",
    "'tv-unit': 120344,\n",
    "'bed': 40226\n",
    "}\n",
    "\n",
    "income =0\n",
    "\n",
    "while True: \n",
    "    my_item = input(print(\"Enter the item You want to buy: \"))\n",
    "    if  my_item == \"quit\":\n",
    "        break\n",
    "        \n",
    "    quan = int(input(\"Enter the Quantity you want: \"))  \n",
    "    if my_item in comm.keys():\n",
    "        print(\"Wow, we have the item you entered.\")\n",
    "    else:\n",
    "        print(\"Sorry, the item you entered is not available at our shop.\")\n",
    "    if comm[my_item] == 0 :\n",
    "        print(\"But The item isn't in stock Right now.\")\n",
    "    if quan <= comm[my_item]:\n",
    "        print(\"We have the quantity you entered for the given item.\")\n",
    "    else:\n",
    "        print(\"We do not have this much quantity you entered for the given item.\")\n",
    "\n",
    "    income = income + (price[my_item]) * quan\n",
    "    print(\"Income of shop owner is:\", income)"
   ]
  },
  {
   "cell_type": "code",
   "execution_count": null,
   "id": "b8f0bfe4",
   "metadata": {},
   "outputs": [],
   "source": []
  },
  {
   "cell_type": "markdown",
   "id": "85f3a425",
   "metadata": {},
   "source": []
  }
 ],
 "metadata": {
  "kernelspec": {
   "display_name": "Python 3 (ipykernel)",
   "language": "python",
   "name": "python3"
  },
  "language_info": {
   "codemirror_mode": {
    "name": "ipython",
    "version": 3
   },
   "file_extension": ".py",
   "mimetype": "text/x-python",
   "name": "python",
   "nbconvert_exporter": "python",
   "pygments_lexer": "ipython3",
   "version": "3.9.7"
  }
 },
 "nbformat": 4,
 "nbformat_minor": 5
}
