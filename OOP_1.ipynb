{
 "cells": [
  {
   "cell_type": "markdown",
   "id": "46a62f97",
   "metadata": {},
   "source": [
    "# class_1"
   ]
  },
  {
   "cell_type": "code",
   "execution_count": 1,
   "id": "38bac6a1",
   "metadata": {},
   "outputs": [
    {
     "name": "stdout",
     "output_type": "stream",
     "text": [
      "Enter 1st side: 3\n",
      "Enter 2nd side: 4\n",
      "Enter 3rd side: 5\n",
      "Side 1 is:  3\n",
      "Side 2 is:  4\n",
      "Side 3 is:  5\n",
      "Area is:  6.0\n",
      "Perimeter is:  12\n"
     ]
    }
   ],
   "source": [
    "class Triangle:\n",
    "    def __init__(self,s1,s2,s3):\n",
    "        self.side1 = s1\n",
    "        self.side2 = s2\n",
    "        self.side3 = s3\n",
    "        \n",
    "#Area = √[s(s-a)(s-b)(s-c)]\n",
    "    def area_(self):\n",
    "        s = (self.side1+self.side2+self.side3)/2\n",
    "        area = (s*(s-self.side1)*(s-self.side2)*(s-self.side3))**0.5\n",
    "        area = float(area)\n",
    "        return area\n",
    "    \n",
    "    def perimeter_(self):\n",
    "        p = self.side1+self.side2+self.side3\n",
    "        return p\n",
    "s_1 = int(input(\"Enter 1st side: \"))\n",
    "s_2 = int(input(\"Enter 2nd side: \"))\n",
    "s_3 = int(input(\"Enter 3rd side: \"))\n",
    "triangle = Triangle(s_1,s_2,s_3)\n",
    "print(\"Side 1 is: \",triangle.side1)\n",
    "print(\"Side 2 is: \",triangle.side2)\n",
    "print(\"Side 3 is: \",triangle.side3)\n",
    "print(\"Area is: \",triangle.area_())\n",
    "print(\"Perimeter is: \",triangle.perimeter_())"
   ]
  },
  {
   "cell_type": "markdown",
   "id": "ab56192c",
   "metadata": {},
   "source": [
    "# class_2"
   ]
  },
  {
   "cell_type": "code",
   "execution_count": 2,
   "id": "ec54b16b",
   "metadata": {},
   "outputs": [
    {
     "name": "stdout",
     "output_type": "stream",
     "text": [
      "Enter Your Roll No: 45\n",
      "Enter Your Semester No: 3\n",
      "Enter Your CGPA: 2.4\n",
      "Roll No is:  2\n",
      "Semester No is:  1\n",
      "Cgpa is:  0\n"
     ]
    }
   ],
   "source": [
    "class Student:\n",
    "    def __init__ (self):\n",
    "        self.Roll_No = 2\n",
    "        self.Sem_No = 1\n",
    "        self.CGPA = 0\n",
    "\n",
    "    def show_(self):\n",
    "        print(\"Roll No is: \", self.Roll_No)\n",
    "        print(\"Semester No is: \", self.Sem_No)\n",
    "        print(\"Cgpa is: \", self.CGPA)\n",
    "r = int(input(\"Enter Your Roll No: \"))\n",
    "s = int(input(\"Enter Your Semester No: \"))\n",
    "c = float(input(\"Enter Your CGPA: \")) \n",
    "student = Student()\n",
    "#student = Student(r,s,c)\n",
    "student.show_()"
   ]
  },
  {
   "cell_type": "code",
   "execution_count": 3,
   "id": "769ff646",
   "metadata": {},
   "outputs": [
    {
     "name": "stdout",
     "output_type": "stream",
     "text": [
      "Enter Your Roll No: 45\n",
      "Enter Your Semester No: 4\n",
      "Enter Your CGPA: 3.6\n",
      "Roll No is:  45\n",
      "Semester No is:  4\n",
      "Cgpa is:  3.6\n"
     ]
    }
   ],
   "source": [
    "class Student:\n",
    "    def __init__ (self):\n",
    "        self.Roll_No = 2\n",
    "        self.Sem_No = 1\n",
    "        self.CGPA = 0\n",
    "        \n",
    "    def __init__ (self,rollno,semno,cgpa):\n",
    "        if( rollno>=1 and rollno<=50 ):\n",
    "            self.Roll_No = rollno\n",
    "        else:\n",
    "            self.Roll_No = 2\n",
    "            \n",
    "        if( semno>=1 and semno<=8 ):\n",
    "            self.Sem_No = semno\n",
    "        else:\n",
    "            self.Sem_No = 1\n",
    "    \n",
    "        if( cgpa>=0 and cgpa<=4 ):\n",
    "            self.CGPA = cgpa\n",
    "        else:\n",
    "            self.CGPA = 1\n",
    "\n",
    "    def show_(self):\n",
    "        print(\"Roll No is: \", self.Roll_No)\n",
    "        print(\"Semester No is: \", self.Sem_No)\n",
    "        print(\"Cgpa is: \", self.CGPA)\n",
    "r = int(input(\"Enter Your Roll No: \"))\n",
    "s = int(input(\"Enter Your Semester No: \"))\n",
    "c = float(input(\"Enter Your CGPA: \")) \n",
    "#student = Student()\n",
    "student = Student(r,s,c)\n",
    "student.show_()"
   ]
  },
  {
   "cell_type": "markdown",
   "id": "6c9aca19",
   "metadata": {},
   "source": [
    "# class3"
   ]
  },
  {
   "cell_type": "code",
   "execution_count": 5,
   "id": "48bd8611",
   "metadata": {},
   "outputs": [
    {
     "ename": "IndexError",
     "evalue": "list index out of range",
     "output_type": "error",
     "traceback": [
      "\u001b[1;31m---------------------------------------------------------------------------\u001b[0m",
      "\u001b[1;31mIndexError\u001b[0m                                Traceback (most recent call last)",
      "\u001b[1;32m~\\AppData\\Local\\Temp/ipykernel_2984/71095528.py\u001b[0m in \u001b[0;36m<module>\u001b[1;34m\u001b[0m\n\u001b[0;32m     32\u001b[0m \u001b[0mrooms\u001b[0m \u001b[1;33m=\u001b[0m \u001b[1;33m[\u001b[0m\u001b[1;36m1\u001b[0m\u001b[1;33m,\u001b[0m\u001b[1;36m2\u001b[0m\u001b[1;33m,\u001b[0m\u001b[1;36m3\u001b[0m\u001b[1;33m,\u001b[0m\u001b[1;36m4\u001b[0m\u001b[1;33m,\u001b[0m\u001b[1;36m1\u001b[0m\u001b[1;33m,\u001b[0m\u001b[1;36m2\u001b[0m\u001b[1;33m,\u001b[0m\u001b[1;36m3\u001b[0m\u001b[1;33m,\u001b[0m\u001b[1;36m4\u001b[0m\u001b[1;33m,\u001b[0m\u001b[1;36m1\u001b[0m\u001b[1;33m,\u001b[0m\u001b[1;36m2\u001b[0m\u001b[1;33m]\u001b[0m\u001b[1;33m\u001b[0m\u001b[1;33m\u001b[0m\u001b[0m\n\u001b[0;32m     33\u001b[0m \u001b[0mhostel\u001b[0m \u001b[1;33m=\u001b[0m \u001b[0mHostel\u001b[0m\u001b[1;33m(\u001b[0m\u001b[1;36m2\u001b[0m\u001b[1;33m,\u001b[0m\u001b[1;36m1\u001b[0m\u001b[1;33m,\u001b[0m\u001b[1;34m\"Gujranwala\"\u001b[0m\u001b[1;33m,\u001b[0m\u001b[1;34m'2020'\u001b[0m\u001b[1;33m,\u001b[0m\u001b[1;34m\"PUCIT\"\u001b[0m\u001b[1;33m,\u001b[0m\u001b[1;34m\"Morning\"\u001b[0m\u001b[1;33m)\u001b[0m\u001b[1;33m\u001b[0m\u001b[1;33m\u001b[0m\u001b[0m\n\u001b[1;32m---> 34\u001b[1;33m \u001b[0mhostel\u001b[0m\u001b[1;33m.\u001b[0m\u001b[0mallot_room\u001b[0m\u001b[1;33m(\u001b[0m\u001b[1;36m11\u001b[0m\u001b[1;33m,\u001b[0m\u001b[0mrooms\u001b[0m\u001b[1;33m)\u001b[0m\u001b[1;33m\u001b[0m\u001b[1;33m\u001b[0m\u001b[0m\n\u001b[0m",
      "\u001b[1;32m~\\AppData\\Local\\Temp/ipykernel_2984/71095528.py\u001b[0m in \u001b[0;36mallot_room\u001b[1;34m(self, room_No, room)\u001b[0m\n\u001b[0;32m     14\u001b[0m                 \u001b[0malloted\u001b[0m \u001b[1;33m=\u001b[0m \u001b[1;32mFalse\u001b[0m\u001b[1;33m\u001b[0m\u001b[1;33m\u001b[0m\u001b[0m\n\u001b[0;32m     15\u001b[0m                 \u001b[0msys\u001b[0m\u001b[1;33m.\u001b[0m\u001b[0mexit\u001b[0m\u001b[1;33m(\u001b[0m\u001b[1;33m)\u001b[0m\u001b[1;33m\u001b[0m\u001b[1;33m\u001b[0m\u001b[0m\n\u001b[1;32m---> 16\u001b[1;33m             \u001b[1;32mif\u001b[0m \u001b[1;33m(\u001b[0m \u001b[0mroom\u001b[0m\u001b[1;33m[\u001b[0m\u001b[0mroom_No\u001b[0m\u001b[1;33m-\u001b[0m\u001b[1;36m1\u001b[0m\u001b[1;33m]\u001b[0m \u001b[1;33m==\u001b[0m \u001b[1;36m4\u001b[0m \u001b[1;33m)\u001b[0m\u001b[1;33m:\u001b[0m\u001b[1;33m\u001b[0m\u001b[1;33m\u001b[0m\u001b[0m\n\u001b[0m\u001b[0;32m     17\u001b[0m                 \u001b[0mprint\u001b[0m\u001b[1;33m(\u001b[0m\u001b[0mroom\u001b[0m\u001b[1;33m[\u001b[0m\u001b[0mroom_No\u001b[0m\u001b[1;33m-\u001b[0m\u001b[1;36m1\u001b[0m\u001b[1;33m]\u001b[0m\u001b[1;33m)\u001b[0m\u001b[1;33m\u001b[0m\u001b[1;33m\u001b[0m\u001b[0m\n\u001b[0;32m     18\u001b[0m                 \u001b[0mprint\u001b[0m\u001b[1;33m(\u001b[0m\u001b[1;34m\"This room doesn't have any space.\"\u001b[0m\u001b[1;33m)\u001b[0m\u001b[1;33m\u001b[0m\u001b[1;33m\u001b[0m\u001b[0m\n",
      "\u001b[1;31mIndexError\u001b[0m: list index out of range"
     ]
    }
   ],
   "source": [
    "import sys\n",
    "class Hostel:\n",
    "        def __init__(self,room,wing,city,batch,department,section):\n",
    "            self.Room_No = room  #int\n",
    "            self.Wing_No = wing  #int\n",
    "            self.City = city      #string\n",
    "            self.Batch = batch    #int\n",
    "            self.Department = department #string\n",
    "            self.Morning = True\n",
    "            \n",
    "        def allot_room(self,room_No,room):\n",
    "            if( room_No<=0 and room_No>10 ):\n",
    "                print(\"Room number range is from 1 to 10. \")\n",
    "                alloted = False\n",
    "                sys.exit() \n",
    "            elif ( room[room_No-1] == 4 ):\n",
    "                print(room[room_No-1])\n",
    "                print(\"This room doesn't have any space.\")\n",
    "                alloted = False\n",
    "            else: \n",
    "                print(room[room_No-1])\n",
    "                print(room_No, \"Room is alloted to you.\")\n",
    "                allotted = True\n",
    "        def allot_wing(self,room_No):\n",
    "            if( alloted==True ):\n",
    "                pass\n",
    "            if( room_No>=1 and room_No<=5 ):\n",
    "                print(\"Wing 1 is alloted to you.\")\n",
    "            else:\n",
    "                print(\"Wing 2 is alloted to you.\")\n",
    "    \n",
    "rooms = [1,2,3,4,1,2,3,4,1,2]\n",
    "hostel = Hostel(2,1,\"Gujranwala\",'2020',\"PUCIT\",\"Morning\")\n",
    "hostel.allot_room(11,rooms)"
   ]
  },
  {
   "cell_type": "markdown",
   "id": "e72a1df6",
   "metadata": {},
   "source": [
    "# class4"
   ]
  },
  {
   "cell_type": "code",
   "execution_count": 4,
   "id": "f183ca1a",
   "metadata": {},
   "outputs": [
    {
     "name": "stdout",
     "output_type": "stream",
     "text": [
      "Enter a Number: 8\n",
      "* \n",
      "* * \n",
      "* * * \n",
      "* * * * \n",
      "* * * * * \n",
      "* * * * * * \n",
      "* * * * * * * \n",
      "* * * * * * * * \n",
      "* * * * * * * * \n",
      "* * * * * * * \n",
      "* * * * * * \n",
      "* * * * * \n",
      "* * * * \n",
      "* * * \n",
      "* * \n",
      "* \n"
     ]
    }
   ],
   "source": [
    "n = int(input(\"Enter a Number: \"))\n",
    "for i in range(n):\n",
    "    for j in range(i+1):\n",
    "        print(\"*\", end = \" \")  \n",
    "    print(\"\\r\")\n",
    "for i in range(n):\n",
    "    for j in range(n-i):\n",
    "        print(\"*\", end = \" \")  \n",
    "    print(\"\\r\")"
   ]
  },
  {
   "cell_type": "code",
   "execution_count": 2,
   "id": "87853330",
   "metadata": {},
   "outputs": [
    {
     "name": "stdout",
     "output_type": "stream",
     "text": [
      "Enter a Number: 6\n",
      "* \n",
      "* \n",
      "* * \n",
      "* * \n",
      "* * * \n",
      "* * * \n"
     ]
    }
   ],
   "source": [
    "n = int(input(\"Enter a Number: \"))\n",
    "c = 1\n",
    "for i in range(n):\n",
    "    for j in range(0,i+1,2):\n",
    "        print(\"*\", end = \" \")  \n",
    "    print(\"\\r\")"
   ]
  },
  {
   "cell_type": "code",
   "execution_count": 3,
   "id": "9c14d123",
   "metadata": {},
   "outputs": [
    {
     "name": "stdout",
     "output_type": "stream",
     "text": [
      "Enter a Number: 6\n",
      "* \n",
      "* * * \n",
      "* * * * * \n",
      "* * * * * * * \n",
      "* * * * * * * * * \n",
      "* * * * * * * * * * * \n"
     ]
    }
   ],
   "source": [
    "n = int(input(\"Enter a Number: \"))\n",
    "c = -1\n",
    "for i in range(n):\n",
    "    c+=1\n",
    "    for j in range(i+c+1):\n",
    "        print(\"*\",end = \" \") \n",
    "    print(\"\\r\")"
   ]
  },
  {
   "cell_type": "code",
   "execution_count": 4,
   "id": "9801f2ef",
   "metadata": {
    "scrolled": true
   },
   "outputs": [
    {
     "name": "stdout",
     "output_type": "stream",
     "text": [
      "Enter a Number: 4\n",
      " \n",
      " \n",
      " \n",
      "* * * \n",
      " \n",
      " \n",
      "* * * \n",
      " \n",
      "* * * \n",
      "* * * * * * * \n"
     ]
    }
   ],
   "source": [
    "n = int(input(\"Enter a Number: \"))\n",
    "y = []\n",
    "c = -1\n",
    "#space = n-i-1 \n",
    "for i in range(n):\n",
    "    c+=1\n",
    "    for i in range(n-i-1):\n",
    "        print(\" \")\n",
    "    for j in range(i+c+1):\n",
    "        print(\"*\",end = \" \") \n",
    "    print(\"\\r\")"
   ]
  },
  {
   "cell_type": "code",
   "execution_count": 9,
   "id": "19bac4c8",
   "metadata": {},
   "outputs": [
    {
     "name": "stdout",
     "output_type": "stream",
     "text": [
      "[' *']\n"
     ]
    }
   ],
   "source": [
    "x = [\"*\"]\n",
    "y = [\"\"]\n",
    "y =  [\" \"+i for i in x ]\n",
    "print(y)"
   ]
  },
  {
   "cell_type": "code",
   "execution_count": 5,
   "id": "45c3523f",
   "metadata": {},
   "outputs": [
    {
     "name": "stdout",
     "output_type": "stream",
     "text": [
      "[1, 4, 9, 16]\n",
      "[1, 4, 9, 16]\n"
     ]
    }
   ],
   "source": [
    "x = [1,2,3,4]\n",
    "\n",
    "out = []\n",
    "for item in x:\n",
    "    out.append(item**2)\n",
    "print(out)\n",
    "\n",
    "out = [item**2 for item in x]\n",
    "print(out)"
   ]
  },
  {
   "cell_type": "code",
   "execution_count": 12,
   "id": "e9e28608",
   "metadata": {},
   "outputs": [
    {
     "name": "stdout",
     "output_type": "stream",
     "text": [
      "    *\n",
      "   ***\n",
      "  *****\n",
      " *******\n",
      "*********\n"
     ]
    }
   ],
   "source": [
    "print(\"    *\")\n",
    "print(\"   ***\")\n",
    "print(\"  *****\")\n",
    "print(\" *******\")\n",
    "print(\"*********\")"
   ]
  },
  {
   "cell_type": "code",
   "execution_count": null,
   "id": "dd343ed8",
   "metadata": {},
   "outputs": [],
   "source": [
    "class Matchscore:\n",
    "    def __init__(self,scores,balls_played,strike_rate,out,total score):\n",
    "        "
   ]
  },
  {
   "cell_type": "code",
   "execution_count": 2,
   "id": "70b16d68",
   "metadata": {},
   "outputs": [],
   "source": [
    "class A:\n",
    "    def __init__(self):\n",
    "        print(\"Const A\")\n",
    "        \n",
    "class B(A):\n",
    "    pass\n",
    "        \n",
    "class C(B):\n",
    "    pass\n",
    "        "
   ]
  },
  {
   "cell_type": "code",
   "execution_count": 3,
   "id": "565532ed",
   "metadata": {},
   "outputs": [
    {
     "name": "stdout",
     "output_type": "stream",
     "text": [
      "Const A\n"
     ]
    }
   ],
   "source": [
    "a = A()"
   ]
  },
  {
   "cell_type": "code",
   "execution_count": 4,
   "id": "1ee8d3c5",
   "metadata": {},
   "outputs": [
    {
     "name": "stdout",
     "output_type": "stream",
     "text": [
      "Const A\n"
     ]
    }
   ],
   "source": [
    "b = B()"
   ]
  },
  {
   "cell_type": "code",
   "execution_count": 5,
   "id": "251dafa7",
   "metadata": {},
   "outputs": [
    {
     "name": "stdout",
     "output_type": "stream",
     "text": [
      "Const A\n"
     ]
    }
   ],
   "source": [
    "c = C()"
   ]
  },
  {
   "cell_type": "code",
   "execution_count": 1,
   "id": "7bfe8bf7",
   "metadata": {},
   "outputs": [],
   "source": [
    "class Matchscore:\n",
    "    def __init__(self,scores, balls_played, strike_rate, out):\n",
    "        self.scores = scores\n",
    "        self.balls_played = balls_played\n",
    "        self.strike_rate = strike_rate\n",
    "        self.out = \"Yes\"\n",
    "        \n",
    "    def show():\n",
    "        print(\"Score:\", self.scores)\n",
    "        print(\"Balls Played:\", self.balls_played)\n",
    "        print(\"Strike Rate:\", self.strike_rate)\n",
    "        print(\"Out:\", self.out)"
   ]
  },
  {
   "cell_type": "code",
   "execution_count": null,
   "id": "974d3566",
   "metadata": {},
   "outputs": [],
   "source": [
    "# This class describes a person, with a name and an age. We will supply a constructor, and a method to get the full name.\n",
    "\n",
    "class Person:\n",
    "    def __init__(self, first, last, age):\n",
    "        self.first = first\n",
    "        self.last = last\n",
    "        self.age = age\n",
    "    \n",
    "    def full_name(self):\n",
    "        return self.first + ' ' + self.last"
   ]
  },
  {
   "cell_type": "code",
   "execution_count": null,
   "id": "e97ea947",
   "metadata": {},
   "outputs": [],
   "source": [
    "# Now we can create an instance of a Person, and work with the attributes of the class.\n",
    "person = Person('abc', 'xyz', 23)\n",
    "print(person.first)\n",
    "print (person.age)"
   ]
  },
  {
   "cell_type": "code",
   "execution_count": null,
   "id": "3cc61c7f",
   "metadata": {},
   "outputs": [],
   "source": [
    "person.full_name()"
   ]
  },
  {
   "cell_type": "code",
   "execution_count": null,
   "id": "8e73f091",
   "metadata": {},
   "outputs": [],
   "source": [
    "class Employee(Person):\n",
    "    def __init__(self, first, last, age, company):\n",
    "        super(Employee, self).__init__(first, last, age)\n",
    "        self.company_name = company\n",
    "\n",
    "employe = Employee(first='Abdullah',last='Mansoor',age=26,company='WISE')\n",
    "print(employe.company_name)\n",
    "print(employe.first)\n",
    "print(employe.last)\n",
    "print(employe.age)\n",
    "print(employe.full_name())"
   ]
  },
  {
   "cell_type": "code",
   "execution_count": null,
   "id": "927491e3",
   "metadata": {},
   "outputs": [],
   "source": [
    "class child(parent):\n",
    "    def __init__(self, first, last, age, company):\n",
    "        super(child, self).__init__(first, last, age)\n",
    "        self.company_name = company"
   ]
  },
  {
   "cell_type": "code",
   "execution_count": 22,
   "id": "b202a3c7",
   "metadata": {},
   "outputs": [
    {
     "name": "stdout",
     "output_type": "stream",
     "text": [
      "Enter the food name: Grass\n",
      "Animal is Herbivorous.Can eat  Grass\n",
      "Animal is Carnivorous.Cannot eat  Grass\n"
     ]
    }
   ],
   "source": [
    "class Animal:\n",
    "    def __init__(self):\n",
    "        self.Eat = False\n",
    "        \n",
    "    def set_Eat(self,e,l):\n",
    "        if e in l:\n",
    "            self.Eat = e\n",
    "            \n",
    "    def get_Eat(self):\n",
    "        return self.Eat\n",
    "\n",
    "class Herbivorous(Animal):\n",
    "    def __init__(self):\n",
    "        super(Herbivorous,self).__init__()\n",
    "    \n",
    "    def feed_Herb(self,f):\n",
    "        if f == \"Grass\":\n",
    "            self.Eat = True\n",
    "            print(\"Animal is Herbivorous.Can eat \", f)\n",
    "        else:\n",
    "            print(\"Animal is Herbivorous.Cannot eat \", f)\n",
    "            \n",
    "                \n",
    "class Carnivorous(Animal):\n",
    "    def __init__(self):\n",
    "        super(Carnivorous,self).__init__()\n",
    "    \n",
    "    def feed_Carni(self,f):\n",
    "        if f == \"Meat\":\n",
    "            self.Eat = True\n",
    "            print(\"Animal is Carnivorous.Can eat \", f)\n",
    "        else:\n",
    "            print(\"Animal is Carnivorous.Cannot eat \", f)\n",
    "    \n",
    "    \n",
    "list_ = [ \"Grass\", \"Meat\" ]\n",
    "food = input(\"Enter the food name: \")\n",
    "\n",
    "h1 = Herbivorous()\n",
    "h1.set_Eat(food,list_)\n",
    "h1.get_Eat()\n",
    "h1.feed_Herb(food)\n",
    "\n",
    "c1 = Carnivorous()\n",
    "c1.set_Eat(food,list_)\n",
    "c1.get_Eat()\n",
    "c1.feed_Carni(food)\n"
   ]
  },
  {
   "cell_type": "code",
   "execution_count": null,
   "id": "39772f8f",
   "metadata": {},
   "outputs": [],
   "source": [
    "class Date: \n",
    "    def setDate(self,d,m,y): \n",
    "        self.day,self.month,self.year = d,m,y "
   ]
  },
  {
   "cell_type": "code",
   "execution_count": null,
   "id": "daf14b63",
   "metadata": {},
   "outputs": [],
   "source": [
    "class Date: \n",
    "    def setDate(self,d,m,y): \n",
    "        self.day,self.month,self.year = d,m,y \n",
    "    def getDay(self): return self.day \n",
    "    def getMonth(self): return self.month \n",
    "    def getYear(self): return self.year \n",
    "\n",
    "    d = Date() \n",
    "    d.setDate(1,2,2000) \n",
    "    print(\"{}-{}-{}\".format(d.getDay(),d.getMonth(),d.getYear())) \n"
   ]
  },
  {
   "cell_type": "code",
   "execution_count": null,
   "id": "73609492",
   "metadata": {},
   "outputs": [],
   "source": [
    "class Date: \n",
    "    def setDate(self,d,m,y): \n",
    "         self.day,self.month,self.year = d,m,y \n",
    "    def getDay(self): return self.day \n",
    "    def getMonth(self): return self.month \n",
    "    def getYear(self): return self.year \n",
    "    def print(self): \n",
    "         print(\"{}-{}-{}\".format(self.getDay(),self.getMonth(),self.getYear())) \n",
    "d = Date() \n",
    "d.setDate(1,2,2000) \n",
    "d.print() "
   ]
  },
  {
   "cell_type": "code",
   "execution_count": null,
   "id": "fa263ed6",
   "metadata": {},
   "outputs": [],
   "source": [
    "class Date: \n",
    "    def setDate(self,d,m,y): \n",
    "        if self.isValid(d,m,y): \n",
    "            self.day,self.month,self.year = d,m,y \n",
    "        else: \n",
    "            print(\"Invalid date!\") \n",
    "    def getDay(self): return self.day \n",
    "    def getMonth(self): return self.month \n",
    "    def getYear(self): return self.year \n",
    "    def print(self): \n",
    "        print(\"{}-{}-{}\".format(self.getDay(),self.getMonth(),self.getYear())) \n",
    "    def isValid(self,d,m,y): \n",
    "        if y<1 or y>9999: return False \n",
    "        if m<1 or m>12: return False \n",
    "        daysInMonth=[0,31,28,31,30,31,30,31,31,30,31,30,31] \n",
    "        if self.isLeap(y): daysInMonth[2]=29 \n",
    "        if d<1 or d>daysInMonth[m]: return False \n",
    "        return True \n",
    "    def isLeap(self,y): return y%4==0 and (not y%100==0 or y%400==0) \n",
    "\n",
    "d=Date() \n",
    "d.setDate(1,2,2000) \n",
    "d.setDate(29,2,2001) \n"
   ]
  }
 ],
 "metadata": {
  "kernelspec": {
   "display_name": "Python 3 (ipykernel)",
   "language": "python",
   "name": "python3"
  },
  "language_info": {
   "codemirror_mode": {
    "name": "ipython",
    "version": 3
   },
   "file_extension": ".py",
   "mimetype": "text/x-python",
   "name": "python",
   "nbconvert_exporter": "python",
   "pygments_lexer": "ipython3",
   "version": "3.9.7"
  }
 },
 "nbformat": 4,
 "nbformat_minor": 5
}
