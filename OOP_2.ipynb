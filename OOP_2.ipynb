{
 "cells": [
  {
   "cell_type": "code",
   "execution_count": 1,
   "id": "fbdfd641",
   "metadata": {},
   "outputs": [
    {
     "name": "stdout",
     "output_type": "stream",
     "text": [
      "Enter 1st side: 6\n",
      "Enter 2nd side: 7\n",
      "Enter 3rd side: 6\n",
      "Side 1 is:  6\n",
      "Side 2 is:  7\n",
      "Side 3 is:  6\n",
      "Area is:  17.056890103415686\n",
      "Perimeter is:  19\n"
     ]
    }
   ],
   "source": [
    "class Triangle:\n",
    "    def __init__(self,s1,s2,s3):\n",
    "        self.side1 = s1\n",
    "        self.side2 = s2\n",
    "        self.side3 = s3\n",
    "        \n",
    "#Area = √[s(s-a)(s-b)(s-c)]\n",
    "    def area_(self):\n",
    "        s = (self.side1+self.side2+self.side3)/2\n",
    "        area = (s*(s-self.side1)*(s-self.side2)*(s-self.side3))**0.5\n",
    "        area = float(area)\n",
    "        return area\n",
    "    \n",
    "    def perimeter_(self):\n",
    "        p = self.side1+self.side2+self.side3\n",
    "        return p\n",
    "s_1 = int(input(\"Enter 1st side: \"))\n",
    "s_2 = int(input(\"Enter 2nd side: \"))\n",
    "s_3 = int(input(\"Enter 3rd side: \"))\n",
    "triangle = Triangle(s_1,s_2,s_3)\n",
    "print(\"Side 1 is: \",triangle.side1)\n",
    "print(\"Side 2 is: \",triangle.side2)\n",
    "print(\"Side 3 is: \",triangle.side3)\n",
    "print(\"Area is: \",triangle.area_())\n",
    "print(\"Perimeter is: \",triangle.perimeter_())"
   ]
  },
  {
   "cell_type": "code",
   "execution_count": 10,
   "id": "1bfaa396",
   "metadata": {},
   "outputs": [
    {
     "name": "stdout",
     "output_type": "stream",
     "text": [
      "Name =  Neil Armstrong\n",
      "Year of Joining =  2015\n",
      "Salary =  100000\n",
      "Address =  NewYork\n",
      "\n",
      "------------------------\n",
      "\n",
      "Name =  Buzz Aldrin\n",
      "Year of Joining =  2016\n",
      "Salary =  150000\n",
      "Address =  London\n",
      "\n",
      "------------------------\n",
      "\n",
      "Name =  Kalpana Chawla\n",
      "Year of Joining =  2017\n",
      "Salary =  200000\n",
      "Address =  ManHatta\n"
     ]
    }
   ],
   "source": [
    "class Employee:\n",
    "    def __init__(self):\n",
    "        self.name = \"abc\"\n",
    "        self.joining_year = 0\n",
    "        self.salary = 0\n",
    "        self.address = \"xyz\"\n",
    "        #print(\"Employee Const\")\n",
    "        \n",
    "    def set_Name(self,name):\n",
    "        self.name = name\n",
    "    \n",
    "    def set_joining_year(self,joining_year):\n",
    "        self.joining_year = joining_year\n",
    "    \n",
    "    def set_Salary(self,salary):\n",
    "        self.salary = salary\n",
    "        \n",
    "    def set_Address(self,address):\n",
    "        self.address = address\n",
    "        \n",
    "    def get_Name(self):\n",
    "        return self.name\n",
    "    \n",
    "    def get_joining_year(self):\n",
    "        return self.joining_year\n",
    "    \n",
    "    def get_Salary(self):\n",
    "        return self.salary\n",
    "        \n",
    "    def get_Address(self):\n",
    "        return self.address\n",
    "    \n",
    "    def Show(self):\n",
    "        print(\"Name = \", self.name)\n",
    "        print(\"Year of Joining = \", self.joining_year)\n",
    "        print(\"Salary = \", self.salary)\n",
    "        print(\"Address = \", self.address)\n",
    "    \n",
    "e1 = Employee()\n",
    "e1.set_Name(\"Neil Armstrong\")\n",
    "e1.set_joining_year(2015)\n",
    "e1.set_Salary(100000)\n",
    "e1.set_Address(\"NewYork\")\n",
    "e1.Show()\n",
    "print(\"\\n------------------------\\n\")\n",
    "e2 = Employee()\n",
    "e1.set_Name(\"Buzz Aldrin\")\n",
    "e1.set_joining_year(2016)\n",
    "e1.set_Salary(150000)\n",
    "e1.set_Address(\"London\")\n",
    "e1.Show()\n",
    "print(\"\\n------------------------\\n\")\n",
    "e3 = Employee()\n",
    "e1.set_Name(\"Kalpana Chawla\")\n",
    "e1.set_joining_year(2017)\n",
    "e1.set_Salary(200000)\n",
    "e1.set_Address(\"ManHatta\")\n",
    "e1.Show()"
   ]
  },
  {
   "cell_type": "code",
   "execution_count": null,
   "id": "5480bd65",
   "metadata": {},
   "outputs": [],
   "source": []
  }
 ],
 "metadata": {
  "kernelspec": {
   "display_name": "Python 3 (ipykernel)",
   "language": "python",
   "name": "python3"
  },
  "language_info": {
   "codemirror_mode": {
    "name": "ipython",
    "version": 3
   },
   "file_extension": ".py",
   "mimetype": "text/x-python",
   "name": "python",
   "nbconvert_exporter": "python",
   "pygments_lexer": "ipython3",
   "version": "3.9.7"
  }
 },
 "nbformat": 4,
 "nbformat_minor": 5
}
