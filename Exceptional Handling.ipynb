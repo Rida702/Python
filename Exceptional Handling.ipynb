{
 "cells": [
  {
   "cell_type": "markdown",
   "id": "32e6e66f",
   "metadata": {},
   "source": [
    "# Q1"
   ]
  },
  {
   "cell_type": "code",
   "execution_count": 1,
   "id": "95378ab2",
   "metadata": {},
   "outputs": [
    {
     "name": "stdout",
     "output_type": "stream",
     "text": [
      "[Errno 2] No such file or directory: 'abc123'\n",
      "Noo..\n",
      "The file opening task was run\n"
     ]
    }
   ],
   "source": [
    "try:\n",
    "    with open(\"abc123\", \"r\") as f:\n",
    "        for line in f:\n",
    "            print(line)\n",
    "except Exception as e:\n",
    "    print(e)\n",
    "    print(\"Noo..\")\n",
    "\n",
    "finally:\n",
    "    print(\"The file opening task was run\")"
   ]
  },
  {
   "cell_type": "markdown",
   "id": "73c990fd",
   "metadata": {},
   "source": [
    "# Q2"
   ]
  },
  {
   "cell_type": "code",
   "execution_count": 2,
   "id": "0f3fac49",
   "metadata": {},
   "outputs": [
    {
     "name": "stdout",
     "output_type": "stream",
     "text": [
      "Enter a Fruit: Mangoes\n",
      "name 'i' is not defined\n",
      "We don't have the fruit you want.\n"
     ]
    }
   ],
   "source": [
    "fruits = [ \"Mangoes\", \"Avocado\", \"Banana\", \"Strawberry\", \"Kivi\" ]\n",
    "f_1 = input(\"Enter a Fruit: \")\n",
    "\n",
    "try:\n",
    "    for word in fruits:\n",
    "        if( fruits[i] == f_1 ):\n",
    "            print(\"Fruit Found\")\n",
    "        \n",
    "except Exception as b:\n",
    "    print(b)\n",
    "    \n",
    "finally:\n",
    "    print(\"We don't have the fruit you want.\")"
   ]
  },
  {
   "cell_type": "markdown",
   "id": "c1883f0e",
   "metadata": {},
   "source": [
    "# Q3"
   ]
  },
  {
   "cell_type": "code",
   "execution_count": 3,
   "id": "a12d53f0",
   "metadata": {},
   "outputs": [
    {
     "name": "stdout",
     "output_type": "stream",
     "text": [
      "Enter a Fruit: mangoes\n",
      "Congrats!!! Fruit Found\n",
      "Thanks for coming.\n"
     ]
    }
   ],
   "source": [
    "fruits = [ \"mangoes\", \"avocado\", \"banana\", \"strawberry\", \"kivi\" ]\n",
    "#print(fruits)\n",
    "f_1 = input(\"Enter a Fruit: \")\n",
    "try:\n",
    "    for word in fruits:\n",
    "        if( word == f_1 ):\n",
    "            print(\"Congrats!!! Fruit Found\")\n",
    "            break\n",
    "except:\n",
    "    print(\"We don't have the fruit you want.\")  \n",
    "finally:\n",
    "    print(\"Thanks for coming.\")"
   ]
  },
  {
   "cell_type": "markdown",
   "id": "2c72dcb7",
   "metadata": {},
   "source": [
    "# Q4"
   ]
  },
  {
   "cell_type": "code",
   "execution_count": 18,
   "id": "5ce34f4e",
   "metadata": {},
   "outputs": [
    {
     "name": "stdout",
     "output_type": "stream",
     "text": [
      "Enter 1st number: \\\n",
      "invalid literal for int() with base 10: '\\\\'\n"
     ]
    }
   ],
   "source": [
    "def sum_(a,b):\n",
    "    return a+b\n",
    "\n",
    "try:\n",
    "    a = int(input(\"Enter 1st number: \"))\n",
    "    b = int(input(\"Enter 2nd number: \"))\n",
    "    print(\"Sum is\" , sum_(a,b))\n",
    "    \n",
    "except Exception as x:\n",
    "    print(x)"
   ]
  },
  {
   "cell_type": "code",
   "execution_count": 19,
   "id": "ae3dc84d",
   "metadata": {},
   "outputs": [
    {
     "name": "stdout",
     "output_type": "stream",
     "text": [
      "Enter 1st number: t\n",
      "Invalid Value as Input\n"
     ]
    }
   ],
   "source": [
    "def sum_(a,b):\n",
    "    return a+b\n",
    "\n",
    "try:\n",
    "    a = int(input(\"Enter 1st number: \"))\n",
    "    b = int(input(\"Enter 2nd number: \"))\n",
    "    print(\"Sum is\" , sum_(a,b))\n",
    "    \n",
    "except:\n",
    "    print(\"Invalid Value as Input\")"
   ]
  },
  {
   "cell_type": "markdown",
   "id": "11b80348",
   "metadata": {},
   "source": [
    "# Q5"
   ]
  },
  {
   "cell_type": "code",
   "execution_count": 31,
   "id": "6ab92cbb",
   "metadata": {},
   "outputs": [
    {
     "name": "stdout",
     "output_type": "stream",
     "text": [
      "Enter an Index: 9\n",
      "5\n"
     ]
    }
   ],
   "source": [
    "list_ = [ 1,2,3,4,5,6 ]\n",
    "length_ = len(list_) - 1\n",
    "index_ = int(input(\"Enter an Index: \"))\n",
    "\n",
    "try:\n",
    "        print(list_[index])\n",
    "        if(index_<=length_):\n",
    "            #print(list_[index])\n",
    "            print(\"Index In Range.\")      \n",
    "except:\n",
    "    print(\"Index Out Of Range.\")"
   ]
  },
  {
   "cell_type": "code",
   "execution_count": 4,
   "id": "57ed9b46",
   "metadata": {},
   "outputs": [
    {
     "name": "stdout",
     "output_type": "stream",
     "text": [
      "Enter an Index: 8\n",
      "Index Out Of Range.\n"
     ]
    }
   ],
   "source": [
    "def return_value(index, list1):\n",
    "      print(list1[index])\n",
    "        \n",
    "list_ = [ 1,2,3,4,5,6 ]\n",
    "\n",
    "try:\n",
    "    index_ = int(input(\"Enter an Index: \"))\n",
    "    return_value( index_, list_ )\n",
    "    print(\"Index in Range.\")\n",
    "except:\n",
    "    print(\"Index Out Of Range.\")    "
   ]
  },
  {
   "cell_type": "code",
   "execution_count": null,
   "id": "d59c782e",
   "metadata": {},
   "outputs": [],
   "source": []
  },
  {
   "cell_type": "code",
   "execution_count": null,
   "id": "aa0d7090",
   "metadata": {},
   "outputs": [],
   "source": []
  }
 ],
 "metadata": {
  "kernelspec": {
   "display_name": "Python 3 (ipykernel)",
   "language": "python",
   "name": "python3"
  },
  "language_info": {
   "codemirror_mode": {
    "name": "ipython",
    "version": 3
   },
   "file_extension": ".py",
   "mimetype": "text/x-python",
   "name": "python",
   "nbconvert_exporter": "python",
   "pygments_lexer": "ipython3",
   "version": "3.9.7"
  }
 },
 "nbformat": 4,
 "nbformat_minor": 5
}
