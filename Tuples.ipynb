{
 "cells": [
  {
   "cell_type": "code",
   "execution_count": 1,
   "id": "cfab7e7f",
   "metadata": {},
   "outputs": [
    {
     "data": {
      "text/plain": [
       "tuple"
      ]
     },
     "execution_count": 1,
     "metadata": {},
     "output_type": "execute_result"
    }
   ],
   "source": [
    "#tuples are written inside parenthesis\n",
    "data=('Sania', 'Tuba', 'Rida')\n",
    "type(data)\n",
    "    "
   ]
  },
  {
   "cell_type": "code",
   "execution_count": 2,
   "id": "5ce43263",
   "metadata": {},
   "outputs": [
    {
     "data": {
      "text/plain": [
       "list"
      ]
     },
     "execution_count": 2,
     "metadata": {},
     "output_type": "execute_result"
    }
   ],
   "source": [
    "data1=['Sania', 'Tuba', 'Rida']\n",
    "type(data1)"
   ]
  },
  {
   "cell_type": "code",
   "execution_count": 3,
   "id": "e4f12bac",
   "metadata": {},
   "outputs": [
    {
     "name": "stdout",
     "output_type": "stream",
     "text": [
      "['GMD', 'Tuba', 'Rida']\n"
     ]
    }
   ],
   "source": [
    "data1[0] ='GMD'\n",
    "print(data1)\n"
   ]
  },
  {
   "cell_type": "code",
   "execution_count": 6,
   "id": "e6a9d0ea",
   "metadata": {},
   "outputs": [
    {
     "name": "stdout",
     "output_type": "stream",
     "text": [
      "<class 'tuple'>\n",
      "('Apple', 'Mango', 'Banana', 'Appricot')\n"
     ]
    }
   ],
   "source": [
    "my_tuple = (\"Apple\", \"Mango\", \"Banana\", \"Appricot\")\n",
    "print(type(my_tuple))\n",
    "print(my_tuple)"
   ]
  },
  {
   "cell_type": "code",
   "execution_count": 7,
   "id": "2c9e228b",
   "metadata": {},
   "outputs": [
    {
     "name": "stdout",
     "output_type": "stream",
     "text": [
      "<class 'str'>\n",
      "<class 'tuple'>\n"
     ]
    }
   ],
   "source": [
    "one_t = ('mango')\n",
    "print(type(one_t))\n",
    "one_t1 = (\"mango\",)\n",
    "print(type(one_t1))\n"
   ]
  },
  {
   "cell_type": "code",
   "execution_count": 12,
   "id": "7666b633",
   "metadata": {},
   "outputs": [
    {
     "name": "stdout",
     "output_type": "stream",
     "text": [
      "('How', 23, True, 'When', 23, False)\n",
      "6\n"
     ]
    }
   ],
   "source": [
    "tuple1 = (\"How\", 23 , True)\n",
    "tuple2 = (\"When\", 23 , False)\n",
    "tuple3 = tuple1 + tuple2\n",
    "print(tuple3)\n",
    "print(len(tuple3))"
   ]
  },
  {
   "cell_type": "code",
   "execution_count": 11,
   "id": "87b068c8",
   "metadata": {},
   "outputs": [
    {
     "name": "stdout",
     "output_type": "stream",
     "text": [
      "(('How', 23, True), ('When', 23, False))\n",
      "2\n"
     ]
    }
   ],
   "source": [
    "tuple1 = (\"How\", 23 , True)\n",
    "tuple2 = (\"When\", 23 , False)\n",
    "tuple3 = (tuple1,tuple2)\n",
    "print(tuple3)\n",
    "print(len(tuple3))"
   ]
  },
  {
   "cell_type": "code",
   "execution_count": 20,
   "id": "9c209e99",
   "metadata": {},
   "outputs": [
    {
     "name": "stdout",
     "output_type": "stream",
     "text": [
      "MangoMangoMango\n",
      "15\n",
      "<class 'str'>\n",
      "('Mango', 'Mango', 'Mango')\n",
      "3\n",
      "<class 'tuple'>\n"
     ]
    }
   ],
   "source": [
    "#repitiotion\n",
    "#string\n",
    "tup = (\"Mango\") *3\n",
    "print(tup)\n",
    "print(len(tup))\n",
    "print(type(tup))\n",
    "#tuple\n",
    "tup = (\"Mango\",) *3\n",
    "print(tup)\n",
    "print(len(tup))\n",
    "print(type(tup))"
   ]
  },
  {
   "cell_type": "code",
   "execution_count": 23,
   "id": "365abed3",
   "metadata": {},
   "outputs": [
    {
     "data": {
      "text/plain": [
       "('Mangoes', 'are')"
      ]
     },
     "execution_count": 23,
     "metadata": {},
     "output_type": "execute_result"
    }
   ],
   "source": [
    "tup = (\"Mangoes\", \"are\", \"my favourite\")\n",
    "tup[0:2]\n",
    "#tup[0]"
   ]
  },
  {
   "cell_type": "code",
   "execution_count": 25,
   "id": "ea10d3bd",
   "metadata": {},
   "outputs": [
    {
     "data": {
      "text/plain": [
       "'Mangoes'"
      ]
     },
     "execution_count": 25,
     "metadata": {},
     "output_type": "execute_result"
    }
   ],
   "source": [
    "tup = (\"Mangoes\", \"are\", \"my favourite\")\n",
    "#tup[0:2]\n",
    "tup[0]"
   ]
  },
  {
   "cell_type": "code",
   "execution_count": 5,
   "id": "6ce85455",
   "metadata": {},
   "outputs": [
    {
     "name": "stdout",
     "output_type": "stream",
     "text": [
      "('M', 'N')\n",
      "(2, 3, 4, True, False)\n",
      "('M', 'N')\n",
      "('N', 'O', 1, 2)\n",
      "('M', 'N', 'O', 1, 2)\n",
      "M\n"
     ]
    }
   ],
   "source": [
    "tup = (\"M\", \"N\", \"O\", 1 , 2, 3, 4, True, False)\n",
    "print(tup[0:2])\n",
    "print(tup[4:])\n",
    "print(tup[:2])\n",
    "print(tup[1:-4])\n",
    "print(tup[:-4])\n",
    "print(tup[0],)"
   ]
  },
  {
   "cell_type": "code",
   "execution_count": 6,
   "id": "1ceb962f",
   "metadata": {},
   "outputs": [
    {
     "name": "stdout",
     "output_type": "stream",
     "text": [
      "(1, 2, 3)\n",
      "------------------\n"
     ]
    }
   ],
   "source": [
    "tuple1 = (1,2,3)\n",
    "print(tuple1)\n",
    "\n",
    "tuple2 = ()\n",
    "l=0\n",
    "#print(tuple1[0])\n",
    "print(\"------------------\")\n",
    "\n",
    "for i in tuple1:\n",
    "    tuple2+= (tuple1[l],)\n",
    "    l+=1"
   ]
  },
  {
   "cell_type": "code",
   "execution_count": 7,
   "id": "dca7e9c6",
   "metadata": {},
   "outputs": [
    {
     "name": "stdout",
     "output_type": "stream",
     "text": [
      "(1, 2, 3)\n"
     ]
    }
   ],
   "source": [
    "print(tuple2)"
   ]
  },
  {
   "cell_type": "code",
   "execution_count": 8,
   "id": "ed5cbe56",
   "metadata": {},
   "outputs": [
    {
     "name": "stdout",
     "output_type": "stream",
     "text": [
      "<class 'int'>\n",
      "<class 'str'>\n",
      "<class 'bool'>\n",
      "<class 'tuple'>\n"
     ]
    }
   ],
   "source": [
    "li = [ 1,2,'M',True,(1,2,3)]\n",
    "print(type(li[0]))\n",
    "print(type(li[2]))\n",
    "print(type(li[3]))\n",
    "print(type(li[4]))"
   ]
  },
  {
   "cell_type": "code",
   "execution_count": null,
   "id": "2346c385",
   "metadata": {},
   "outputs": [],
   "source": []
  }
 ],
 "metadata": {
  "kernelspec": {
   "display_name": "Python 3 (ipykernel)",
   "language": "python",
   "name": "python3"
  },
  "language_info": {
   "codemirror_mode": {
    "name": "ipython",
    "version": 3
   },
   "file_extension": ".py",
   "mimetype": "text/x-python",
   "name": "python",
   "nbconvert_exporter": "python",
   "pygments_lexer": "ipython3",
   "version": "3.9.7"
  }
 },
 "nbformat": 4,
 "nbformat_minor": 5
}
